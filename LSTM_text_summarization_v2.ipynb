{
 "cells": [
  {
   "cell_type": "code",
   "execution_count": 1,
   "id": "141eb507",
   "metadata": {},
   "outputs": [],
   "source": [
    "import random\n",
    "import numpy as np\n",
    "import pandas as pd\n",
    "import re\n",
    "import matplotlib.pyplot as plt\n",
    "import nltk\n",
    "import warnings\n",
    "warnings.filterwarnings(\"ignore\")\n",
    "from nltk.tokenize import WhitespaceTokenizer\n",
    "from nltk import sent_tokenize\n",
    "from tqdm import tqdm\n",
    "from sklearn.feature_extraction.text import CountVectorizer\n",
    "from nltk.stem import WordNetLemmatizer\n",
    "from nltk.corpus import stopwords"
   ]
  },
  {
   "cell_type": "markdown",
   "id": "6312f031",
   "metadata": {},
   "source": [
    "Length of text input - 250 words\n",
    "\n",
    "EDA and preprocessing ||\n",
    "removed contractions, stop words, certain punctuation, dropped rows w/ na values ||\n",
    "dataset visualized and EDA carried out ||\n",
    "data augmentation NOT applied ||\n",
    "\n",
    "##DETAILS ABOUT MODEL:\n",
    "\n",
    "layers - \n",
    "input -> Embedding -> Encoder (LSTM) -> Decoder (LSTM) -> Dense layer over vocabulary ||\n",
    "\n",
    "hidden dim size - 128 (128 units of 1 LSTM layer) ||\n",
    "\n",
    "Embedding dim size - 30 ||\n",
    "\n",
    "training parameters: batch size 64, epochs 20, did not stop early"
   ]
  },
  {
   "cell_type": "code",
   "execution_count": 2,
   "id": "4f547376",
   "metadata": {},
   "outputs": [],
   "source": [
    "dataset = pd.read_csv('mtsamples.csv')\n",
    "dataset.drop(\"Unnamed: 0\", axis = 1, inplace=True)\n",
    "dataset.drop(\"keywords\", axis = 1, inplace=True)"
   ]
  },
  {
   "cell_type": "code",
   "execution_count": 3,
   "id": "402e247c",
   "metadata": {
    "scrolled": true
   },
   "outputs": [
    {
     "data": {
      "text/html": [
       "<div>\n",
       "<style scoped>\n",
       "    .dataframe tbody tr th:only-of-type {\n",
       "        vertical-align: middle;\n",
       "    }\n",
       "\n",
       "    .dataframe tbody tr th {\n",
       "        vertical-align: top;\n",
       "    }\n",
       "\n",
       "    .dataframe thead th {\n",
       "        text-align: right;\n",
       "    }\n",
       "</style>\n",
       "<table border=\"1\" class=\"dataframe\">\n",
       "  <thead>\n",
       "    <tr style=\"text-align: right;\">\n",
       "      <th></th>\n",
       "      <th>description</th>\n",
       "      <th>medical_specialty</th>\n",
       "      <th>sample_name</th>\n",
       "      <th>transcription</th>\n",
       "    </tr>\n",
       "  </thead>\n",
       "  <tbody>\n",
       "    <tr>\n",
       "      <th>0</th>\n",
       "      <td>A 23-year-old white female presents with comp...</td>\n",
       "      <td>Allergy / Immunology</td>\n",
       "      <td>Allergic Rhinitis</td>\n",
       "      <td>SUBJECTIVE:,  This 23-year-old white female pr...</td>\n",
       "    </tr>\n",
       "    <tr>\n",
       "      <th>1</th>\n",
       "      <td>Consult for laparoscopic gastric bypass.</td>\n",
       "      <td>Bariatrics</td>\n",
       "      <td>Laparoscopic Gastric Bypass Consult - 2</td>\n",
       "      <td>PAST MEDICAL HISTORY:, He has difficulty climb...</td>\n",
       "    </tr>\n",
       "    <tr>\n",
       "      <th>2</th>\n",
       "      <td>Consult for laparoscopic gastric bypass.</td>\n",
       "      <td>Bariatrics</td>\n",
       "      <td>Laparoscopic Gastric Bypass Consult - 1</td>\n",
       "      <td>HISTORY OF PRESENT ILLNESS: , I have seen ABC ...</td>\n",
       "    </tr>\n",
       "    <tr>\n",
       "      <th>3</th>\n",
       "      <td>2-D M-Mode. Doppler.</td>\n",
       "      <td>Cardiovascular / Pulmonary</td>\n",
       "      <td>2-D Echocardiogram - 1</td>\n",
       "      <td>2-D M-MODE: , ,1.  Left atrial enlargement wit...</td>\n",
       "    </tr>\n",
       "    <tr>\n",
       "      <th>4</th>\n",
       "      <td>2-D Echocardiogram</td>\n",
       "      <td>Cardiovascular / Pulmonary</td>\n",
       "      <td>2-D Echocardiogram - 2</td>\n",
       "      <td>1.  The left ventricular cavity size and wall ...</td>\n",
       "    </tr>\n",
       "    <tr>\n",
       "      <th>...</th>\n",
       "      <td>...</td>\n",
       "      <td>...</td>\n",
       "      <td>...</td>\n",
       "      <td>...</td>\n",
       "    </tr>\n",
       "    <tr>\n",
       "      <th>4994</th>\n",
       "      <td>Patient having severe sinusitis about two to ...</td>\n",
       "      <td>Allergy / Immunology</td>\n",
       "      <td>Chronic Sinusitis</td>\n",
       "      <td>HISTORY:,  I had the pleasure of meeting and e...</td>\n",
       "    </tr>\n",
       "    <tr>\n",
       "      <th>4995</th>\n",
       "      <td>This is a 14-month-old baby boy Caucasian who...</td>\n",
       "      <td>Allergy / Immunology</td>\n",
       "      <td>Kawasaki Disease - Discharge Summary</td>\n",
       "      <td>ADMITTING DIAGNOSIS: , Kawasaki disease.,DISCH...</td>\n",
       "    </tr>\n",
       "    <tr>\n",
       "      <th>4996</th>\n",
       "      <td>A female for a complete physical and follow u...</td>\n",
       "      <td>Allergy / Immunology</td>\n",
       "      <td>Followup on Asthma</td>\n",
       "      <td>SUBJECTIVE: , This is a 42-year-old white fema...</td>\n",
       "    </tr>\n",
       "    <tr>\n",
       "      <th>4997</th>\n",
       "      <td>Mother states he has been wheezing and coughing.</td>\n",
       "      <td>Allergy / Immunology</td>\n",
       "      <td>Asthma in a 5-year-old</td>\n",
       "      <td>CHIEF COMPLAINT: , This 5-year-old male presen...</td>\n",
       "    </tr>\n",
       "    <tr>\n",
       "      <th>4998</th>\n",
       "      <td>Acute allergic reaction, etiology uncertain, ...</td>\n",
       "      <td>Allergy / Immunology</td>\n",
       "      <td>Allergy Evaluation Consult</td>\n",
       "      <td>HISTORY: , A 34-year-old male presents today s...</td>\n",
       "    </tr>\n",
       "  </tbody>\n",
       "</table>\n",
       "<p>4999 rows × 4 columns</p>\n",
       "</div>"
      ],
      "text/plain": [
       "                                            description  \\\n",
       "0      A 23-year-old white female presents with comp...   \n",
       "1              Consult for laparoscopic gastric bypass.   \n",
       "2              Consult for laparoscopic gastric bypass.   \n",
       "3                                2-D M-Mode. Doppler.     \n",
       "4                                    2-D Echocardiogram   \n",
       "...                                                 ...   \n",
       "4994   Patient having severe sinusitis about two to ...   \n",
       "4995   This is a 14-month-old baby boy Caucasian who...   \n",
       "4996   A female for a complete physical and follow u...   \n",
       "4997   Mother states he has been wheezing and coughing.   \n",
       "4998   Acute allergic reaction, etiology uncertain, ...   \n",
       "\n",
       "                medical_specialty                                sample_name  \\\n",
       "0            Allergy / Immunology                         Allergic Rhinitis    \n",
       "1                      Bariatrics   Laparoscopic Gastric Bypass Consult - 2    \n",
       "2                      Bariatrics   Laparoscopic Gastric Bypass Consult - 1    \n",
       "3      Cardiovascular / Pulmonary                    2-D Echocardiogram - 1    \n",
       "4      Cardiovascular / Pulmonary                    2-D Echocardiogram - 2    \n",
       "...                           ...                                        ...   \n",
       "4994         Allergy / Immunology                         Chronic Sinusitis    \n",
       "4995         Allergy / Immunology      Kawasaki Disease - Discharge Summary    \n",
       "4996         Allergy / Immunology                        Followup on Asthma    \n",
       "4997         Allergy / Immunology                    Asthma in a 5-year-old    \n",
       "4998         Allergy / Immunology                Allergy Evaluation Consult    \n",
       "\n",
       "                                          transcription  \n",
       "0     SUBJECTIVE:,  This 23-year-old white female pr...  \n",
       "1     PAST MEDICAL HISTORY:, He has difficulty climb...  \n",
       "2     HISTORY OF PRESENT ILLNESS: , I have seen ABC ...  \n",
       "3     2-D M-MODE: , ,1.  Left atrial enlargement wit...  \n",
       "4     1.  The left ventricular cavity size and wall ...  \n",
       "...                                                 ...  \n",
       "4994  HISTORY:,  I had the pleasure of meeting and e...  \n",
       "4995  ADMITTING DIAGNOSIS: , Kawasaki disease.,DISCH...  \n",
       "4996  SUBJECTIVE: , This is a 42-year-old white fema...  \n",
       "4997  CHIEF COMPLAINT: , This 5-year-old male presen...  \n",
       "4998  HISTORY: , A 34-year-old male presents today s...  \n",
       "\n",
       "[4999 rows x 4 columns]"
      ]
     },
     "execution_count": 3,
     "metadata": {},
     "output_type": "execute_result"
    }
   ],
   "source": [
    "dataset.drop_duplicates()"
   ]
  },
  {
   "cell_type": "code",
   "execution_count": 4,
   "id": "fcd869b4",
   "metadata": {},
   "outputs": [
    {
     "data": {
      "text/plain": [
       "(4999, 4)"
      ]
     },
     "execution_count": 4,
     "metadata": {},
     "output_type": "execute_result"
    }
   ],
   "source": [
    "dataset.shape"
   ]
  },
  {
   "cell_type": "code",
   "execution_count": 5,
   "id": "a7bcd967",
   "metadata": {
    "scrolled": true
   },
   "outputs": [
    {
     "data": {
      "text/html": [
       "<div>\n",
       "<style scoped>\n",
       "    .dataframe tbody tr th:only-of-type {\n",
       "        vertical-align: middle;\n",
       "    }\n",
       "\n",
       "    .dataframe tbody tr th {\n",
       "        vertical-align: top;\n",
       "    }\n",
       "\n",
       "    .dataframe thead th {\n",
       "        text-align: right;\n",
       "    }\n",
       "</style>\n",
       "<table border=\"1\" class=\"dataframe\">\n",
       "  <thead>\n",
       "    <tr style=\"text-align: right;\">\n",
       "      <th></th>\n",
       "      <th>description</th>\n",
       "      <th>medical_specialty</th>\n",
       "      <th>sample_name</th>\n",
       "      <th>transcription</th>\n",
       "    </tr>\n",
       "  </thead>\n",
       "  <tbody>\n",
       "    <tr>\n",
       "      <th>0</th>\n",
       "      <td>A 23-year-old white female presents with comp...</td>\n",
       "      <td>Allergy / Immunology</td>\n",
       "      <td>Allergic Rhinitis</td>\n",
       "      <td>SUBJECTIVE:,  This 23-year-old white female pr...</td>\n",
       "    </tr>\n",
       "    <tr>\n",
       "      <th>1</th>\n",
       "      <td>Consult for laparoscopic gastric bypass.</td>\n",
       "      <td>Bariatrics</td>\n",
       "      <td>Laparoscopic Gastric Bypass Consult - 2</td>\n",
       "      <td>PAST MEDICAL HISTORY:, He has difficulty climb...</td>\n",
       "    </tr>\n",
       "    <tr>\n",
       "      <th>2</th>\n",
       "      <td>Consult for laparoscopic gastric bypass.</td>\n",
       "      <td>Bariatrics</td>\n",
       "      <td>Laparoscopic Gastric Bypass Consult - 1</td>\n",
       "      <td>HISTORY OF PRESENT ILLNESS: , I have seen ABC ...</td>\n",
       "    </tr>\n",
       "    <tr>\n",
       "      <th>3</th>\n",
       "      <td>2-D M-Mode. Doppler.</td>\n",
       "      <td>Cardiovascular / Pulmonary</td>\n",
       "      <td>2-D Echocardiogram - 1</td>\n",
       "      <td>2-D M-MODE: , ,1.  Left atrial enlargement wit...</td>\n",
       "    </tr>\n",
       "    <tr>\n",
       "      <th>4</th>\n",
       "      <td>2-D Echocardiogram</td>\n",
       "      <td>Cardiovascular / Pulmonary</td>\n",
       "      <td>2-D Echocardiogram - 2</td>\n",
       "      <td>1.  The left ventricular cavity size and wall ...</td>\n",
       "    </tr>\n",
       "  </tbody>\n",
       "</table>\n",
       "</div>"
      ],
      "text/plain": [
       "                                         description  \\\n",
       "0   A 23-year-old white female presents with comp...   \n",
       "1           Consult for laparoscopic gastric bypass.   \n",
       "2           Consult for laparoscopic gastric bypass.   \n",
       "3                             2-D M-Mode. Doppler.     \n",
       "4                                 2-D Echocardiogram   \n",
       "\n",
       "             medical_specialty                                sample_name  \\\n",
       "0         Allergy / Immunology                         Allergic Rhinitis    \n",
       "1                   Bariatrics   Laparoscopic Gastric Bypass Consult - 2    \n",
       "2                   Bariatrics   Laparoscopic Gastric Bypass Consult - 1    \n",
       "3   Cardiovascular / Pulmonary                    2-D Echocardiogram - 1    \n",
       "4   Cardiovascular / Pulmonary                    2-D Echocardiogram - 2    \n",
       "\n",
       "                                       transcription  \n",
       "0  SUBJECTIVE:,  This 23-year-old white female pr...  \n",
       "1  PAST MEDICAL HISTORY:, He has difficulty climb...  \n",
       "2  HISTORY OF PRESENT ILLNESS: , I have seen ABC ...  \n",
       "3  2-D M-MODE: , ,1.  Left atrial enlargement wit...  \n",
       "4  1.  The left ventricular cavity size and wall ...  "
      ]
     },
     "execution_count": 5,
     "metadata": {},
     "output_type": "execute_result"
    }
   ],
   "source": [
    "dataset.head()"
   ]
  },
  {
   "cell_type": "code",
   "execution_count": 6,
   "id": "9c6c0716",
   "metadata": {},
   "outputs": [],
   "source": [
    "#if package not found - run the next line of code\n",
    "#nltk.download('stopwords')\n",
    "#from nltk.corpus import stopwords\n",
    "stop_words = set(stopwords.words('english'))"
   ]
  },
  {
   "cell_type": "code",
   "execution_count": 7,
   "id": "d9fed365",
   "metadata": {},
   "outputs": [],
   "source": [
    "dataset.dropna(axis = 0, inplace = True)"
   ]
  },
  {
   "cell_type": "code",
   "execution_count": 8,
   "id": "9103ecc0",
   "metadata": {},
   "outputs": [],
   "source": [
    "def remove_stopwords(text):\n",
    "    if isinstance(text, str):\n",
    "        new_text = []\n",
    "        text = text.split()\n",
    "        for word in text:\n",
    "            if word not in stop_words:\n",
    "                new_text.append(word)\n",
    "        text = \" \".join(new_text)\n",
    "        return text"
   ]
  },
  {
   "cell_type": "code",
   "execution_count": 9,
   "id": "eed12cb6",
   "metadata": {},
   "outputs": [],
   "source": [
    "#from a kaggle notebook - will add reference \n",
    "contraction_mapping = {\"ain't\": \"is not\", \"aren't\": \"are not\",\"can't\": \"cannot\", \"'cause\": \"because\", \"could've\": \"could have\", \"couldn't\": \"could not\",\n",
    "\n",
    "                           \"didn't\": \"did not\", \"doesn't\": \"does not\", \"don't\": \"do not\", \"hadn't\": \"had not\", \"hasn't\": \"has not\", \"haven't\": \"have not\",\n",
    "\n",
    "                           \"he'd\": \"he would\",\"he'll\": \"he will\", \"he's\": \"he is\", \"how'd\": \"how did\", \"how'd'y\": \"how do you\", \"how'll\": \"how will\", \"how's\": \"how is\",\n",
    "\n",
    "                           \"I'd\": \"I would\", \"I'd've\": \"I would have\", \"I'll\": \"I will\", \"I'll've\": \"I will have\",\"I'm\": \"I am\", \"I've\": \"I have\", \"i'd\": \"i would\",\n",
    "\n",
    "                           \"i'd've\": \"i would have\", \"i'll\": \"i will\",  \"i'll've\": \"i will have\",\"i'm\": \"i am\", \"i've\": \"i have\", \"isn't\": \"is not\", \"it'd\": \"it would\",\n",
    "\n",
    "                           \"it'd've\": \"it would have\", \"it'll\": \"it will\", \"it'll've\": \"it will have\",\"it's\": \"it is\", \"let's\": \"let us\", \"ma'am\": \"madam\",\n",
    "\n",
    "                           \"mayn't\": \"may not\", \"might've\": \"might have\",\"mightn't\": \"might not\",\"mightn't've\": \"might not have\", \"must've\": \"must have\",\n",
    "\n",
    "                           \"mustn't\": \"must not\", \"mustn't've\": \"must not have\", \"needn't\": \"need not\", \"needn't've\": \"need not have\",\"o'clock\": \"of the clock\",\n",
    "\n",
    "                           \"oughtn't\": \"ought not\", \"oughtn't've\": \"ought not have\", \"shan't\": \"shall not\", \"sha'n't\": \"shall not\", \"shan't've\": \"shall not have\",\n",
    "\n",
    "                           \"she'd\": \"she would\", \"she'd've\": \"she would have\", \"she'll\": \"she will\", \"she'll've\": \"she will have\", \"she's\": \"she is\",\n",
    "\n",
    "                           \"should've\": \"should have\", \"shouldn't\": \"should not\", \"shouldn't've\": \"should not have\", \"so've\": \"so have\",\"so's\": \"so as\",\n",
    "\n",
    "                           \"this's\": \"this is\",\"that'd\": \"that would\", \"that'd've\": \"that would have\", \"that's\": \"that is\", \"there'd\": \"there would\",\n",
    "\n",
    "                           \"there'd've\": \"there would have\", \"there's\": \"there is\", \"here's\": \"here is\",\"they'd\": \"they would\", \"they'd've\": \"they would have\",\n",
    "\n",
    "                           \"they'll\": \"they will\", \"they'll've\": \"they will have\", \"they're\": \"they are\", \"they've\": \"they have\", \"to've\": \"to have\",\n",
    "\n",
    "                           \"wasn't\": \"was not\", \"we'd\": \"we would\", \"we'd've\": \"we would have\", \"we'll\": \"we will\", \"we'll've\": \"we will have\", \"we're\": \"we are\",\n",
    "\n",
    "                           \"we've\": \"we have\", \"weren't\": \"were not\", \"what'll\": \"what will\", \"what'll've\": \"what will have\", \"what're\": \"what are\",\n",
    "\n",
    "                           \"what's\": \"what is\", \"what've\": \"what have\", \"when's\": \"when is\", \"when've\": \"when have\", \"where'd\": \"where did\", \"where's\": \"where is\",\n",
    "\n",
    "                           \"where've\": \"where have\", \"who'll\": \"who will\", \"who'll've\": \"who will have\", \"who's\": \"who is\", \"who've\": \"who have\",\n",
    "\n",
    "                           \"why's\": \"why is\", \"why've\": \"why have\", \"will've\": \"will have\", \"won't\": \"will not\", \"won't've\": \"will not have\",\n",
    "\n",
    "                           \"would've\": \"would have\", \"wouldn't\": \"would not\", \"wouldn't've\": \"would not have\", \"y'all\": \"you all\",\n",
    "\n",
    "                           \"y'all'd\": \"you all would\",\"y'all'd've\": \"you all would have\",\"y'all're\": \"you all are\",\"y'all've\": \"you all have\",\n",
    "\n",
    "                           \"you'd\": \"you would\", \"you'd've\": \"you would have\", \"you'll\": \"you will\", \"you'll've\": \"you will have\",\n",
    "\n",
    "                           \"you're\": \"you are\", \"you've\": \"you have\"}"
   ]
  },
  {
   "cell_type": "code",
   "execution_count": 10,
   "id": "436029af",
   "metadata": {
    "scrolled": false
   },
   "outputs": [
    {
     "data": {
      "text/html": [
       "<div>\n",
       "<style scoped>\n",
       "    .dataframe tbody tr th:only-of-type {\n",
       "        vertical-align: middle;\n",
       "    }\n",
       "\n",
       "    .dataframe tbody tr th {\n",
       "        vertical-align: top;\n",
       "    }\n",
       "\n",
       "    .dataframe thead th {\n",
       "        text-align: right;\n",
       "    }\n",
       "</style>\n",
       "<table border=\"1\" class=\"dataframe\">\n",
       "  <thead>\n",
       "    <tr style=\"text-align: right;\">\n",
       "      <th></th>\n",
       "      <th>description</th>\n",
       "      <th>medical_specialty</th>\n",
       "      <th>sample_name</th>\n",
       "      <th>transcription</th>\n",
       "    </tr>\n",
       "  </thead>\n",
       "  <tbody>\n",
       "    <tr>\n",
       "      <th>0</th>\n",
       "      <td>a 23-year-old white female presents with comp...</td>\n",
       "      <td>Allergy / Immunology</td>\n",
       "      <td>Allergic Rhinitis</td>\n",
       "      <td>subjective:,  this 23-year-old white female pr...</td>\n",
       "    </tr>\n",
       "    <tr>\n",
       "      <th>1</th>\n",
       "      <td>consult for laparoscopic gastric bypass.</td>\n",
       "      <td>Bariatrics</td>\n",
       "      <td>Laparoscopic Gastric Bypass Consult - 2</td>\n",
       "      <td>past medical history:, he has difficulty climb...</td>\n",
       "    </tr>\n",
       "    <tr>\n",
       "      <th>2</th>\n",
       "      <td>consult for laparoscopic gastric bypass.</td>\n",
       "      <td>Bariatrics</td>\n",
       "      <td>Laparoscopic Gastric Bypass Consult - 1</td>\n",
       "      <td>history of present illness: , i have seen abc ...</td>\n",
       "    </tr>\n",
       "    <tr>\n",
       "      <th>3</th>\n",
       "      <td>2-d m-mode. doppler.</td>\n",
       "      <td>Cardiovascular / Pulmonary</td>\n",
       "      <td>2-D Echocardiogram - 1</td>\n",
       "      <td>2-d m-mode: , ,1.  left atrial enlargement wit...</td>\n",
       "    </tr>\n",
       "    <tr>\n",
       "      <th>4</th>\n",
       "      <td>2-d echocardiogram</td>\n",
       "      <td>Cardiovascular / Pulmonary</td>\n",
       "      <td>2-D Echocardiogram - 2</td>\n",
       "      <td>1.  the left ventricular cavity size and wall ...</td>\n",
       "    </tr>\n",
       "  </tbody>\n",
       "</table>\n",
       "</div>"
      ],
      "text/plain": [
       "                                         description  \\\n",
       "0   a 23-year-old white female presents with comp...   \n",
       "1           consult for laparoscopic gastric bypass.   \n",
       "2           consult for laparoscopic gastric bypass.   \n",
       "3                             2-d m-mode. doppler.     \n",
       "4                                 2-d echocardiogram   \n",
       "\n",
       "             medical_specialty                                sample_name  \\\n",
       "0         Allergy / Immunology                         Allergic Rhinitis    \n",
       "1                   Bariatrics   Laparoscopic Gastric Bypass Consult - 2    \n",
       "2                   Bariatrics   Laparoscopic Gastric Bypass Consult - 1    \n",
       "3   Cardiovascular / Pulmonary                    2-D Echocardiogram - 1    \n",
       "4   Cardiovascular / Pulmonary                    2-D Echocardiogram - 2    \n",
       "\n",
       "                                       transcription  \n",
       "0  subjective:,  this 23-year-old white female pr...  \n",
       "1  past medical history:, he has difficulty climb...  \n",
       "2  history of present illness: , i have seen abc ...  \n",
       "3  2-d m-mode: , ,1.  left atrial enlargement wit...  \n",
       "4  1.  the left ventricular cavity size and wall ...  "
      ]
     },
     "execution_count": 10,
     "metadata": {},
     "output_type": "execute_result"
    }
   ],
   "source": [
    "def lowercase(object):\n",
    "    if isinstance(object, str):\n",
    "        object = str.lower(object)\n",
    "    return object\n",
    "\n",
    "def contractions(object):\n",
    "    if isinstance(object, str):\n",
    "        if object in contraction_mapping:\n",
    "            temp_word = contraction_mapping[object]\n",
    "            object = temp_word\n",
    "    return object\n",
    "\n",
    "def remove_punctuation(object):\n",
    "    #leave \":\" and \".\" - section and full stop, respectively. Info about sequences\n",
    "    #remove \",\" ; \"/\" ; \" \"\n",
    "    if isinstance(object, str): \n",
    "        expression = r\"[!\\#\\$'\\*\\;%']\"\n",
    "        empty_str = \"\"\n",
    "        result = re.sub(expression, empty_str, object, 0, re.MULTILINE)\n",
    "        return result\n",
    "    else:\n",
    "        return object\n",
    "\n",
    "\"\"\"def POS_tagger(object):\n",
    "    if isinstance(object, str):\n",
    "        #Map POS tag to first character lemmatize() accepts\n",
    "        tag = pos_tag([word])[0][1][0].upper()\n",
    "        tag_dict = {\"J\": wordnet.ADJ,\n",
    "                    \"N\": wordnet.NOUN,\n",
    "                    \"V\": wordnet.VERB,\n",
    "                    \"R\": wordnet.ADV}\n",
    "        return tag_dict.get(tag, wordnet.NOUN)\n",
    "    else:\n",
    "        return object\"\"\"\n",
    "#flag 1,2,3 - 1 - lowercase, 2 - stopwords, 3 - contraction, 4 - punctuation,\n",
    "#5 - lemmatizer\n",
    "def apply_df(df, label, flag):\n",
    "    if flag == 1:\n",
    "        df.loc[:, label] = df[label].apply(lambda x : lowercase(x))\n",
    "    elif flag == 2:\n",
    "        df.loc[:, label] = df[label].apply(lambda x : remove_stopwords(x))\n",
    "    elif flag == 3:\n",
    "        df.loc[:, label] = df[label].apply(lambda x : contractions(x))\n",
    "    elif flag == 4:\n",
    "        df.loc[:, label] = df[label].apply(lambda x : remove_punctuation(x))\n",
    "    return df\n",
    "dataset = apply_df(dataset, 'transcription', 1)\n",
    "dataset = apply_df(dataset, 'description', 1)\n",
    "dataset.head()"
   ]
  },
  {
   "cell_type": "code",
   "execution_count": 11,
   "id": "79f5d30f",
   "metadata": {},
   "outputs": [],
   "source": [
    "dataset = apply_df(dataset, 'transcription', 2)\n",
    "dataset = apply_df(dataset, 'description', 2)\n",
    "dataset = apply_df(dataset, 'transcription', 3)\n",
    "dataset = apply_df(dataset, 'description', 3)\n",
    "dataset = apply_df(dataset, 'transcription', 4)\n",
    "dataset = apply_df(dataset, 'description', 4)"
   ]
  },
  {
   "cell_type": "markdown",
   "id": "9df836f1",
   "metadata": {},
   "source": [
    "Converted to lowercase, removed stop words, contractions and certain punctuations."
   ]
  },
  {
   "cell_type": "code",
   "execution_count": 97,
   "id": "1e08afe1",
   "metadata": {},
   "outputs": [],
   "source": [
    "#refactor\n",
    "medical_specialties_list = []\n",
    "trans_word_count_list = []\n",
    "summary_word_count_list = []\n",
    "for word in dataset['medical_specialty'].unique():\n",
    "    medical_specialties_list.append(word)\n",
    "    dataset_filtered = dataset[(dataset['medical_specialty'] == word)]\n",
    "    trans_word_count = dataset_filtered['transcription'].str.split().str.len().sum()\n",
    "    summary_word_count = dataset_filtered['description'].str.split().str.len().sum()\n",
    "    trans_word_count_list.append(trans_word_count)\n",
    "    summary_word_count_list.append(summary_word_count)\n",
    "    \n",
    "words_df = pd.DataFrame({'specialty': medical_specialties_list, 'text_word_count': trans_word_count_list, 'summary_word_count': summary_word_count_list})\n",
    "words_df['text_word_count'] = words_df['text_word_count'].astype('int')\n",
    "words_df['summary_word_count'] = words_df['summary_word_count'].astype('int')\n",
    "words_df = words_df.sort_values('text_word_count', ascending=False)\n",
    "words_df = words_df.sort_values('summary_word_count', ascending=False)\n",
    "words_df.reset_index(drop=True, inplace = True)"
   ]
  },
  {
   "cell_type": "code",
   "execution_count": 68,
   "id": "19a334c1",
   "metadata": {},
   "outputs": [
    {
     "data": {
      "text/html": [
       "<div>\n",
       "<style scoped>\n",
       "    .dataframe tbody tr th:only-of-type {\n",
       "        vertical-align: middle;\n",
       "    }\n",
       "\n",
       "    .dataframe tbody tr th {\n",
       "        vertical-align: top;\n",
       "    }\n",
       "\n",
       "    .dataframe thead th {\n",
       "        text-align: right;\n",
       "    }\n",
       "</style>\n",
       "<table border=\"1\" class=\"dataframe\">\n",
       "  <thead>\n",
       "    <tr style=\"text-align: right;\">\n",
       "      <th></th>\n",
       "      <th>specialty</th>\n",
       "      <th>text_word_count</th>\n",
       "      <th>summary_word_count</th>\n",
       "    </tr>\n",
       "  </thead>\n",
       "  <tbody>\n",
       "    <tr>\n",
       "      <th>0</th>\n",
       "      <td>Surgery</td>\n",
       "      <td>311281</td>\n",
       "      <td>15697</td>\n",
       "    </tr>\n",
       "    <tr>\n",
       "      <th>1</th>\n",
       "      <td>Consult - History and Phy.</td>\n",
       "      <td>174469</td>\n",
       "      <td>6381</td>\n",
       "    </tr>\n",
       "    <tr>\n",
       "      <th>2</th>\n",
       "      <td>Cardiovascular / Pulmonary</td>\n",
       "      <td>100753</td>\n",
       "      <td>5648</td>\n",
       "    </tr>\n",
       "    <tr>\n",
       "      <th>3</th>\n",
       "      <td>Orthopedic</td>\n",
       "      <td>118102</td>\n",
       "      <td>5559</td>\n",
       "    </tr>\n",
       "    <tr>\n",
       "      <th>4</th>\n",
       "      <td>General Medicine</td>\n",
       "      <td>74040</td>\n",
       "      <td>3091</td>\n",
       "    </tr>\n",
       "  </tbody>\n",
       "</table>\n",
       "</div>"
      ],
      "text/plain": [
       "                     specialty  text_word_count  summary_word_count\n",
       "0                      Surgery           311281               15697\n",
       "1   Consult - History and Phy.           174469                6381\n",
       "2   Cardiovascular / Pulmonary           100753                5648\n",
       "3                   Orthopedic           118102                5559\n",
       "4             General Medicine            74040                3091"
      ]
     },
     "execution_count": 68,
     "metadata": {},
     "output_type": "execute_result"
    }
   ],
   "source": [
    "words_df.head()"
   ]
  },
  {
   "cell_type": "code",
   "execution_count": 69,
   "id": "6102b2c0",
   "metadata": {},
   "outputs": [
    {
     "data": {
      "text/plain": [
       " Surgery                          1088\n",
       " Consult - History and Phy.        516\n",
       " Cardiovascular / Pulmonary        371\n",
       " Orthopedic                        355\n",
       " Radiology                         273\n",
       " General Medicine                  259\n",
       " Gastroenterology                  224\n",
       " Neurology                         223\n",
       " SOAP / Chart / Progress Notes     166\n",
       " Urology                           156\n",
       " Obstetrics / Gynecology           155\n",
       " Discharge Summary                 108\n",
       " ENT - Otolaryngology               96\n",
       " Neurosurgery                       94\n",
       " Hematology - Oncology              90\n",
       " Ophthalmology                      83\n",
       " Nephrology                         81\n",
       " Emergency Room Reports             75\n",
       " Pediatrics - Neonatal              70\n",
       " Pain Management                    61\n",
       " Psychiatry / Psychology            53\n",
       " Office Notes                       50\n",
       " Podiatry                           47\n",
       " Dermatology                        29\n",
       " Cosmetic / Plastic Surgery         27\n",
       " Dentistry                          27\n",
       " Letters                            23\n",
       " Physical Medicine - Rehab          21\n",
       " Sleep Medicine                     20\n",
       " Endocrinology                      19\n",
       " Bariatrics                         18\n",
       " IME-QME-Work Comp etc.             16\n",
       " Chiropractic                       14\n",
       " Rheumatology                       10\n",
       " Diets and Nutritions               10\n",
       " Speech - Language                   9\n",
       " Autopsy                             8\n",
       " Lab Medicine - Pathology            8\n",
       " Allergy / Immunology                7\n",
       " Hospice - Palliative Care           6\n",
       "Name: medical_specialty, dtype: int64"
      ]
     },
     "execution_count": 69,
     "metadata": {},
     "output_type": "execute_result"
    }
   ],
   "source": [
    "#all the different medical_specialty values:\n",
    "dataset['medical_specialty'].value_counts()"
   ]
  },
  {
   "cell_type": "code",
   "execution_count": 70,
   "id": "788e98fc",
   "metadata": {},
   "outputs": [
    {
     "data": {
      "image/png": "[encoded data removed]",
      "text/plain": [
       "<Figure size 640x480 with 1 Axes>"
      ]
     },
     "metadata": {},
     "output_type": "display_data"
    }
   ],
   "source": [
    "med_counts = dataset['medical_specialty'].value_counts()\n",
    "ax = med_counts[:15].plot.bar(y = \"Freq\")\n",
    "#frequency distribution of number of records - first 15"
   ]
  },
  {
   "cell_type": "code",
   "execution_count": 71,
   "id": "27593a15",
   "metadata": {},
   "outputs": [
    {
     "data": {
      "image/png": "[encoded data removed]",
      "text/plain": [
       "<Figure size 640x480 with 2 Axes>"
      ]
     },
     "metadata": {},
     "output_type": "display_data"
    }
   ],
   "source": [
    "import matplotlib.pyplot as plt\n",
    "words_df.hist(bins = 20)\n",
    "plt.show()\n",
    "#as expected, most text and summary counts are in the lowest 3 bins possible\n",
    "#look at the difference in length between texts and summaries!"
   ]
  },
  {
   "cell_type": "code",
   "execution_count": 72,
   "id": "45ee4930",
   "metadata": {},
   "outputs": [
    {
     "name": "stdout",
     "output_type": "stream",
     "text": [
      "count        40.000000\n",
      "mean      34751.825000\n",
      "std       57400.031418\n",
      "min        1316.000000\n",
      "25%        6276.500000\n",
      "50%       15805.500000\n",
      "75%       35214.000000\n",
      "90%       76711.300000\n",
      "max      311281.000000\n",
      "Name: text_word_count, dtype: float64\n",
      "\n",
      "\n",
      "count       40.000000\n",
      "mean      1637.175000\n",
      "std       2773.650634\n",
      "min         66.000000\n",
      "25%        190.750000\n",
      "50%        669.000000\n",
      "75%       1872.500000\n",
      "90%       3337.800000\n",
      "max      15697.000000\n",
      "Name: summary_word_count, dtype: float64\n"
     ]
    }
   ],
   "source": [
    "print(words_df['text_word_count'].describe(percentiles = [0.25, 0.5, 0.75, 0.90]))\n",
    "print(\"\\n\")\n",
    "print(words_df['summary_word_count'].describe(percentiles = [0.25, 0.5, 0.75, 0.90]))"
   ]
  },
  {
   "cell_type": "code",
   "execution_count": 12,
   "id": "ed0e47ee",
   "metadata": {},
   "outputs": [],
   "source": [
    "train_dataset = dataset.drop('sample_name', axis = 1)\n",
    "train_dataset = train_dataset.drop('medical_specialty', axis = 1)"
   ]
  },
  {
   "cell_type": "code",
   "execution_count": 13,
   "id": "e9af487d",
   "metadata": {
    "scrolled": true
   },
   "outputs": [
    {
     "data": {
      "text/html": [
       "<div>\n",
       "<style scoped>\n",
       "    .dataframe tbody tr th:only-of-type {\n",
       "        vertical-align: middle;\n",
       "    }\n",
       "\n",
       "    .dataframe tbody tr th {\n",
       "        vertical-align: top;\n",
       "    }\n",
       "\n",
       "    .dataframe thead th {\n",
       "        text-align: right;\n",
       "    }\n",
       "</style>\n",
       "<table border=\"1\" class=\"dataframe\">\n",
       "  <thead>\n",
       "    <tr style=\"text-align: right;\">\n",
       "      <th></th>\n",
       "      <th>description</th>\n",
       "      <th>transcription</th>\n",
       "    </tr>\n",
       "  </thead>\n",
       "  <tbody>\n",
       "    <tr>\n",
       "      <th>0</th>\n",
       "      <td>23-year-old white female presents complaint al...</td>\n",
       "      <td>subjective:, 23-year-old white female presents...</td>\n",
       "    </tr>\n",
       "    <tr>\n",
       "      <th>1</th>\n",
       "      <td>consult laparoscopic gastric bypass.</td>\n",
       "      <td>past medical history:, difficulty climbing sta...</td>\n",
       "    </tr>\n",
       "    <tr>\n",
       "      <th>2</th>\n",
       "      <td>consult laparoscopic gastric bypass.</td>\n",
       "      <td>history present illness: , seen abc today. ple...</td>\n",
       "    </tr>\n",
       "    <tr>\n",
       "      <th>3</th>\n",
       "      <td>2-d m-mode. doppler.</td>\n",
       "      <td>2-d m-mode: , ,1. left atrial enlargement left...</td>\n",
       "    </tr>\n",
       "    <tr>\n",
       "      <th>4</th>\n",
       "      <td>2-d echocardiogram</td>\n",
       "      <td>1. left ventricular cavity size wall thickness...</td>\n",
       "    </tr>\n",
       "  </tbody>\n",
       "</table>\n",
       "</div>"
      ],
      "text/plain": [
       "                                         description  \\\n",
       "0  23-year-old white female presents complaint al...   \n",
       "1               consult laparoscopic gastric bypass.   \n",
       "2               consult laparoscopic gastric bypass.   \n",
       "3                               2-d m-mode. doppler.   \n",
       "4                                 2-d echocardiogram   \n",
       "\n",
       "                                       transcription  \n",
       "0  subjective:, 23-year-old white female presents...  \n",
       "1  past medical history:, difficulty climbing sta...  \n",
       "2  history present illness: , seen abc today. ple...  \n",
       "3  2-d m-mode: , ,1. left atrial enlargement left...  \n",
       "4  1. left ventricular cavity size wall thickness...  "
      ]
     },
     "execution_count": 13,
     "metadata": {},
     "output_type": "execute_result"
    }
   ],
   "source": [
    "train_dataset.head()"
   ]
  },
  {
   "cell_type": "code",
   "execution_count": 14,
   "id": "422ab55a",
   "metadata": {},
   "outputs": [
    {
     "name": "stdout",
     "output_type": "stream",
     "text": [
      "count                                                  4966\n",
      "unique                                                 2336\n",
      "top       example/template routine normal male physical ...\n",
      "freq                                                     12\n",
      "Name: description, dtype: object\n",
      "\n",
      "\n",
      "count                                                  4966\n",
      "unique                                                 2357\n",
      "top       preoperative diagnosis: , low back pain.,posto...\n",
      "freq                                                      5\n",
      "Name: transcription, dtype: object\n"
     ]
    }
   ],
   "source": [
    "print(train_dataset['description'].describe())\n",
    "print(\"\\n\")\n",
    "print(train_dataset['transcription'].describe())"
   ]
  },
  {
   "cell_type": "code",
   "execution_count": 76,
   "id": "4a07d934",
   "metadata": {},
   "outputs": [],
   "source": [
    "#if albumntations not installed, run this line of code!\n",
    "#pip install -U albumentations"
   ]
  },
  {
   "cell_type": "code",
   "execution_count": 77,
   "id": "8ae89e41",
   "metadata": {},
   "outputs": [],
   "source": [
    "from albumentations.core.transforms_interface import DualTransform, BasicTransform\n",
    "class NLPTransform(BasicTransform):\n",
    "    \"\"\" Transform for nlp task.\"\"\"\n",
    "    LANGS = {\n",
    "        'en': 'english',\n",
    "        'it': 'italian', \n",
    "        'fr': 'french', \n",
    "        'es': 'spanish',\n",
    "        'tr': 'turkish', \n",
    "        'ru': 'russian',\n",
    "        'pt': 'portuguese'\n",
    "    }\n",
    "\n",
    "    @property\n",
    "    def targets(self):\n",
    "        return {\"data\": self.apply}\n",
    "    \n",
    "    def update_params(self, params, **kwargs):\n",
    "        if hasattr(self, \"interpolation\"):\n",
    "            params[\"interpolation\"] = self.interpolation\n",
    "        if hasattr(self, \"fill_value\"):\n",
    "            params[\"fill_value\"] = self.fill_value\n",
    "        return params\n",
    "\n",
    "    def get_sentences(self, text, lang='en'):\n",
    "        return sent_tokenize(text, self.LANGS.get(lang, 'english'))"
   ]
  },
  {
   "cell_type": "code",
   "execution_count": 78,
   "id": "0af8b0a0",
   "metadata": {},
   "outputs": [],
   "source": [
    "#refactor\n",
    "#trying basic data augmentation: \n",
    "class ShuffleSentencesTransform(NLPTransform):\n",
    "    \"\"\" Do shuffle by sentence \"\"\"\n",
    "    def __init__(self, always_apply=False, p=0.5):\n",
    "        super(ShuffleSentencesTransform, self).__init__(always_apply, p)\n",
    "\n",
    "    def apply(self, data, **params):\n",
    "        text, lang = data\n",
    "        sentences = self.get_sentences(text, lang)\n",
    "        random.shuffle(sentences)\n",
    "        return ' '.join(sentences), lang\n",
    "    \n",
    "#referenced from - https://www.kaggle.com/code/shonenkov/nlp-albumentations/notebook"
   ]
  },
  {
   "cell_type": "code",
   "execution_count": 79,
   "id": "20d44301",
   "metadata": {
    "scrolled": true
   },
   "outputs": [],
   "source": [
    "#if punkt missing, uncomment and run this!\n",
    "#nltk.download('punkt')"
   ]
  },
  {
   "cell_type": "code",
   "execution_count": 11,
   "id": "7ac5a662",
   "metadata": {},
   "outputs": [
    {
     "ename": "NameError",
     "evalue": "name 'ShuffleSentencesTransform' is not defined",
     "output_type": "error",
     "traceback": [
      "\u001b[0;31m---------------------------------------------------------------------------\u001b[0m",
      "\u001b[0;31mNameError\u001b[0m                                 Traceback (most recent call last)",
      "Input \u001b[0;32mIn [11]\u001b[0m, in \u001b[0;36m<cell line: 1>\u001b[0;34m()\u001b[0m\n\u001b[0;32m----> 1\u001b[0m transform \u001b[38;5;241m=\u001b[39m \u001b[43mShuffleSentencesTransform\u001b[49m(p\u001b[38;5;241m=\u001b[39m\u001b[38;5;241m1.0\u001b[39m)\n\u001b[1;32m      2\u001b[0m first_transformed_list \u001b[38;5;241m=\u001b[39m []\n\u001b[1;32m      4\u001b[0m \u001b[38;5;28;01mfor\u001b[39;00m \u001b[38;5;28miter\u001b[39m \u001b[38;5;129;01min\u001b[39;00m train_dataset[\u001b[38;5;124m'\u001b[39m\u001b[38;5;124mtranscription\u001b[39m\u001b[38;5;124m'\u001b[39m]:\n",
      "\u001b[0;31mNameError\u001b[0m: name 'ShuffleSentencesTransform' is not defined"
     ]
    }
   ],
   "source": [
    "transform = ShuffleSentencesTransform(p=1.0)\n",
    "first_transformed_list = []\n",
    "\n",
    "for iter in train_dataset['transcription']:\n",
    "    text = iter\n",
    "    lang = 'en'\n",
    "    temp_text = transform(data=(text, lang))['data'][0]\n",
    "    first_transformed_list.append(temp_text)"
   ]
  },
  {
   "cell_type": "code",
   "execution_count": 81,
   "id": "4117d3b2",
   "metadata": {},
   "outputs": [
    {
     "data": {
      "text/plain": [
       "4966"
      ]
     },
     "execution_count": 81,
     "metadata": {},
     "output_type": "execute_result"
    }
   ],
   "source": [
    "len(first_transformed_list)"
   ]
  },
  {
   "cell_type": "code",
   "execution_count": 82,
   "id": "fa3b23c2",
   "metadata": {},
   "outputs": [],
   "source": [
    "first_summ_transformed_list = []\n",
    "\n",
    "for iter in train_dataset['description']:\n",
    "    first_summ_transformed_list.append(iter)"
   ]
  },
  {
   "cell_type": "code",
   "execution_count": 83,
   "id": "08ec5f06",
   "metadata": {},
   "outputs": [],
   "source": [
    "extended_dataset_1 = pd.DataFrame()\n",
    "extended_dataset_1['transcription'] = first_transformed_list\n",
    "extended_dataset_1['description'] = first_summ_transformed_list"
   ]
  },
  {
   "cell_type": "code",
   "execution_count": 84,
   "id": "7ae4c724",
   "metadata": {},
   "outputs": [
    {
     "data": {
      "text/html": [
       "<div>\n",
       "<style scoped>\n",
       "    .dataframe tbody tr th:only-of-type {\n",
       "        vertical-align: middle;\n",
       "    }\n",
       "\n",
       "    .dataframe tbody tr th {\n",
       "        vertical-align: top;\n",
       "    }\n",
       "\n",
       "    .dataframe thead th {\n",
       "        text-align: right;\n",
       "    }\n",
       "</style>\n",
       "<table border=\"1\" class=\"dataframe\">\n",
       "  <thead>\n",
       "    <tr style=\"text-align: right;\">\n",
       "      <th></th>\n",
       "      <th>transcription</th>\n",
       "      <th>description</th>\n",
       "    </tr>\n",
       "  </thead>\n",
       "  <tbody>\n",
       "    <tr>\n",
       "      <th>0</th>\n",
       "      <td>past, tried claritin, zyrtec. used allergies l...</td>\n",
       "      <td>23-year-old white female presents complaint al...</td>\n",
       "    </tr>\n",
       "    <tr>\n",
       "      <th>1</th>\n",
       "      <td>vital signs stable. denies cellulitis, pseudot...</td>\n",
       "      <td>consult laparoscopic gastric bypass.</td>\n",
       "    </tr>\n",
       "    <tr>\n",
       "      <th>2</th>\n",
       "      <td>gets tired quickly. drinks alcohol ten twelve ...</td>\n",
       "      <td>consult laparoscopic gastric bypass.</td>\n",
       "    </tr>\n",
       "    <tr>\n",
       "      <th>3</th>\n",
       "      <td>normal size right left ventricle.,3. trace aor...</td>\n",
       "      <td>2-d m-mode. doppler.</td>\n",
       "    </tr>\n",
       "    <tr>\n",
       "      <th>4</th>\n",
       "      <td>aortic valve appears calcified mild aortic val...</td>\n",
       "      <td>2-d echocardiogram</td>\n",
       "    </tr>\n",
       "  </tbody>\n",
       "</table>\n",
       "</div>"
      ],
      "text/plain": [
       "                                       transcription  \\\n",
       "0  past, tried claritin, zyrtec. used allergies l...   \n",
       "1  vital signs stable. denies cellulitis, pseudot...   \n",
       "2  gets tired quickly. drinks alcohol ten twelve ...   \n",
       "3  normal size right left ventricle.,3. trace aor...   \n",
       "4  aortic valve appears calcified mild aortic val...   \n",
       "\n",
       "                                         description  \n",
       "0  23-year-old white female presents complaint al...  \n",
       "1               consult laparoscopic gastric bypass.  \n",
       "2               consult laparoscopic gastric bypass.  \n",
       "3                               2-d m-mode. doppler.  \n",
       "4                                 2-d echocardiogram  "
      ]
     },
     "execution_count": 84,
     "metadata": {},
     "output_type": "execute_result"
    }
   ],
   "source": [
    "extended_dataset_1.head()"
   ]
  },
  {
   "cell_type": "code",
   "execution_count": 85,
   "id": "a9a9b99d",
   "metadata": {
    "scrolled": true
   },
   "outputs": [
    {
     "data": {
      "text/plain": [
       "0       23-year-old white female presents complaint al...\n",
       "1                    consult laparoscopic gastric bypass.\n",
       "2                    consult laparoscopic gastric bypass.\n",
       "3                                    2-d m-mode. doppler.\n",
       "4                                      2-d echocardiogram\n",
       "                              ...                        \n",
       "4961    patient severe sinusitis two three months ago ...\n",
       "4962    14-month-old baby boy caucasian came presumpti...\n",
       "4963    female complete physical follow asthma allergi...\n",
       "4964                     mother states wheezing coughing.\n",
       "4965    acute allergic reaction, etiology uncertain, h...\n",
       "Name: description, Length: 4966, dtype: object"
      ]
     },
     "execution_count": 85,
     "metadata": {},
     "output_type": "execute_result"
    }
   ],
   "source": [
    "extended_dataset_1['description']"
   ]
  },
  {
   "cell_type": "code",
   "execution_count": 86,
   "id": "fdf219d5",
   "metadata": {},
   "outputs": [
    {
     "data": {
      "text/plain": [
       "0       23-year-old white female presents complaint al...\n",
       "1                    consult laparoscopic gastric bypass.\n",
       "2                    consult laparoscopic gastric bypass.\n",
       "3                                    2-d m-mode. doppler.\n",
       "4                                      2-d echocardiogram\n",
       "                              ...                        \n",
       "4994    patient severe sinusitis two three months ago ...\n",
       "4995    14-month-old baby boy caucasian came presumpti...\n",
       "4996    female complete physical follow asthma allergi...\n",
       "4997                     mother states wheezing coughing.\n",
       "4998    acute allergic reaction, etiology uncertain, h...\n",
       "Name: description, Length: 4966, dtype: object"
      ]
     },
     "execution_count": 86,
     "metadata": {},
     "output_type": "execute_result"
    }
   ],
   "source": [
    "train_dataset['description']"
   ]
  },
  {
   "cell_type": "code",
   "execution_count": 87,
   "id": "76aa0b7d",
   "metadata": {},
   "outputs": [],
   "source": [
    "extended_dataset_10k = pd.concat([extended_dataset_1, train_dataset], keys = 'description', ignore_index = True)"
   ]
  },
  {
   "cell_type": "code",
   "execution_count": 88,
   "id": "23b7f0f6",
   "metadata": {},
   "outputs": [
    {
     "data": {
      "text/html": [
       "<div>\n",
       "<style scoped>\n",
       "    .dataframe tbody tr th:only-of-type {\n",
       "        vertical-align: middle;\n",
       "    }\n",
       "\n",
       "    .dataframe tbody tr th {\n",
       "        vertical-align: top;\n",
       "    }\n",
       "\n",
       "    .dataframe thead th {\n",
       "        text-align: right;\n",
       "    }\n",
       "</style>\n",
       "<table border=\"1\" class=\"dataframe\">\n",
       "  <thead>\n",
       "    <tr style=\"text-align: right;\">\n",
       "      <th></th>\n",
       "      <th>transcription</th>\n",
       "      <th>description</th>\n",
       "    </tr>\n",
       "  </thead>\n",
       "  <tbody>\n",
       "    <tr>\n",
       "      <th>0</th>\n",
       "      <td>past, tried claritin, zyrtec. used allergies l...</td>\n",
       "      <td>23-year-old white female presents complaint al...</td>\n",
       "    </tr>\n",
       "    <tr>\n",
       "      <th>1</th>\n",
       "      <td>vital signs stable. denies cellulitis, pseudot...</td>\n",
       "      <td>consult laparoscopic gastric bypass.</td>\n",
       "    </tr>\n",
       "    <tr>\n",
       "      <th>2</th>\n",
       "      <td>gets tired quickly. drinks alcohol ten twelve ...</td>\n",
       "      <td>consult laparoscopic gastric bypass.</td>\n",
       "    </tr>\n",
       "    <tr>\n",
       "      <th>3</th>\n",
       "      <td>normal size right left ventricle.,3. trace aor...</td>\n",
       "      <td>2-d m-mode. doppler.</td>\n",
       "    </tr>\n",
       "    <tr>\n",
       "      <th>4</th>\n",
       "      <td>aortic valve appears calcified mild aortic val...</td>\n",
       "      <td>2-d echocardiogram</td>\n",
       "    </tr>\n",
       "  </tbody>\n",
       "</table>\n",
       "</div>"
      ],
      "text/plain": [
       "                                       transcription  \\\n",
       "0  past, tried claritin, zyrtec. used allergies l...   \n",
       "1  vital signs stable. denies cellulitis, pseudot...   \n",
       "2  gets tired quickly. drinks alcohol ten twelve ...   \n",
       "3  normal size right left ventricle.,3. trace aor...   \n",
       "4  aortic valve appears calcified mild aortic val...   \n",
       "\n",
       "                                         description  \n",
       "0  23-year-old white female presents complaint al...  \n",
       "1               consult laparoscopic gastric bypass.  \n",
       "2               consult laparoscopic gastric bypass.  \n",
       "3                               2-d m-mode. doppler.  \n",
       "4                                 2-d echocardiogram  "
      ]
     },
     "execution_count": 88,
     "metadata": {},
     "output_type": "execute_result"
    }
   ],
   "source": [
    "extended_dataset_10k.head()"
   ]
  },
  {
   "cell_type": "code",
   "execution_count": 89,
   "id": "7003914d",
   "metadata": {},
   "outputs": [
    {
     "data": {
      "text/plain": [
       "9932"
      ]
     },
     "execution_count": 89,
     "metadata": {},
     "output_type": "execute_result"
    }
   ],
   "source": [
    "len(extended_dataset_10k)"
   ]
  },
  {
   "cell_type": "code",
   "execution_count": 90,
   "id": "8c5217f2",
   "metadata": {},
   "outputs": [
    {
     "data": {
      "text/plain": [
       "Index(['transcription', 'description'], dtype='object')"
      ]
     },
     "execution_count": 90,
     "metadata": {},
     "output_type": "execute_result"
    }
   ],
   "source": [
    "extended_dataset_10k.columns"
   ]
  },
  {
   "cell_type": "code",
   "execution_count": 91,
   "id": "bdc98d9e",
   "metadata": {},
   "outputs": [
    {
     "data": {
      "text/plain": [
       "0       23-year-old white female presents complaint al...\n",
       "1                    consult laparoscopic gastric bypass.\n",
       "2                    consult laparoscopic gastric bypass.\n",
       "3                                    2-d m-mode. doppler.\n",
       "4                                      2-d echocardiogram\n",
       "                              ...                        \n",
       "9927    patient severe sinusitis two three months ago ...\n",
       "9928    14-month-old baby boy caucasian came presumpti...\n",
       "9929    female complete physical follow asthma allergi...\n",
       "9930                     mother states wheezing coughing.\n",
       "9931    acute allergic reaction, etiology uncertain, h...\n",
       "Name: description, Length: 9932, dtype: object"
      ]
     },
     "execution_count": 91,
     "metadata": {},
     "output_type": "execute_result"
    }
   ],
   "source": [
    "extended_dataset_10k['description']"
   ]
  },
  {
   "cell_type": "code",
   "execution_count": 92,
   "id": "d040f7ff",
   "metadata": {},
   "outputs": [
    {
     "data": {
      "text/plain": [
       "0       past, tried claritin, zyrtec. used allergies l...\n",
       "1       vital signs stable. denies cellulitis, pseudot...\n",
       "2       gets tired quickly. drinks alcohol ten twelve ...\n",
       "3       normal size right left ventricle.,3. trace aor...\n",
       "4       aortic valve appears calcified mild aortic val...\n",
       "                              ...                        \n",
       "9927    history:, pleasure meeting evaluating patient ...\n",
       "9928    admitting diagnosis: , kawasaki disease.,disch...\n",
       "9929    subjective: , 42-year-old white female comes t...\n",
       "9930    chief complaint: , 5-year-old male presents ch...\n",
       "9931    history: , 34-year-old male presents today sel...\n",
       "Name: transcription, Length: 9932, dtype: object"
      ]
     },
     "execution_count": 92,
     "metadata": {},
     "output_type": "execute_result"
    }
   ],
   "source": [
    "extended_dataset_10k['transcription']"
   ]
  },
  {
   "cell_type": "code",
   "execution_count": 93,
   "id": "60cafccf",
   "metadata": {},
   "outputs": [],
   "source": [
    "second_transformed_list = []\n",
    "\n",
    "for iter in extended_dataset_10k['transcription']:\n",
    "    text = iter\n",
    "    lang = 'en'\n",
    "    temp_text = transform(data=(text, lang))['data'][0]\n",
    "    second_transformed_list.append(temp_text)"
   ]
  },
  {
   "cell_type": "code",
   "execution_count": 94,
   "id": "2b98e1e8",
   "metadata": {},
   "outputs": [
    {
     "data": {
      "text/plain": [
       "9932"
      ]
     },
     "execution_count": 94,
     "metadata": {},
     "output_type": "execute_result"
    }
   ],
   "source": [
    "len(second_transformed_list)"
   ]
  },
  {
   "cell_type": "code",
   "execution_count": 95,
   "id": "fb292bc4",
   "metadata": {},
   "outputs": [],
   "source": [
    "second_summ_transformed_list = []\n",
    "\n",
    "for iter in extended_dataset_10k['description']:\n",
    "    second_summ_transformed_list.append(iter)"
   ]
  },
  {
   "cell_type": "code",
   "execution_count": 96,
   "id": "737cb3d7",
   "metadata": {},
   "outputs": [],
   "source": [
    "extended_dataset_2 = pd.DataFrame()\n",
    "extended_dataset_2['transcription'] = second_transformed_list\n",
    "extended_dataset_2['description'] = second_summ_transformed_list"
   ]
  },
  {
   "cell_type": "code",
   "execution_count": 97,
   "id": "b0f0fafd",
   "metadata": {},
   "outputs": [
    {
     "data": {
      "text/html": [
       "<div>\n",
       "<style scoped>\n",
       "    .dataframe tbody tr th:only-of-type {\n",
       "        vertical-align: middle;\n",
       "    }\n",
       "\n",
       "    .dataframe tbody tr th {\n",
       "        vertical-align: top;\n",
       "    }\n",
       "\n",
       "    .dataframe thead th {\n",
       "        text-align: right;\n",
       "    }\n",
       "</style>\n",
       "<table border=\"1\" class=\"dataframe\">\n",
       "  <thead>\n",
       "    <tr style=\"text-align: right;\">\n",
       "      <th></th>\n",
       "      <th>transcription</th>\n",
       "      <th>description</th>\n",
       "    </tr>\n",
       "  </thead>\n",
       "  <tbody>\n",
       "    <tr>\n",
       "      <th>0</th>\n",
       "      <td>appear working well. clear drainage seen. past...</td>\n",
       "      <td>23-year-old white female presents complaint al...</td>\n",
       "    </tr>\n",
       "    <tr>\n",
       "      <th>1</th>\n",
       "      <td>muscle joint pains including knee pain, back p...</td>\n",
       "      <td>consult laparoscopic gastric bypass.</td>\n",
       "    </tr>\n",
       "    <tr>\n",
       "      <th>2</th>\n",
       "      <td>eating, eats bad food. sleep apnea snoring. de...</td>\n",
       "      <td>consult laparoscopic gastric bypass.</td>\n",
       "    </tr>\n",
       "    <tr>\n",
       "      <th>3</th>\n",
       "      <td>normal morphology aortic valve, mitral valve, ...</td>\n",
       "      <td>2-d m-mode. doppler.</td>\n",
       "    </tr>\n",
       "    <tr>\n",
       "      <th>4</th>\n",
       "      <td>tricuspid valve appears normal trace tricuspid...</td>\n",
       "      <td>2-d echocardiogram</td>\n",
       "    </tr>\n",
       "    <tr>\n",
       "      <th>...</th>\n",
       "      <td>...</td>\n",
       "      <td>...</td>\n",
       "    </tr>\n",
       "    <tr>\n",
       "      <th>9927</th>\n",
       "      <td>signs acute sinusitis. rarely drinks alcohol-c...</td>\n",
       "      <td>patient severe sinusitis two three months ago ...</td>\n",
       "    </tr>\n",
       "    <tr>\n",
       "      <th>9928</th>\n",
       "      <td>conjunctivitis redness mucous membranes. echoc...</td>\n",
       "      <td>14-month-old baby boy caucasian came presumpti...</td>\n",
       "    </tr>\n",
       "    <tr>\n",
       "      <th>9929</th>\n",
       "      <td>impatient around time. pap smear taken. premen...</td>\n",
       "      <td>female complete physical follow asthma allergi...</td>\n",
       "    </tr>\n",
       "    <tr>\n",
       "      <th>9930</th>\n",
       "      <td>pupils equal, round, reactive light. masses. c...</td>\n",
       "      <td>mother states wheezing coughing.</td>\n",
       "    </tr>\n",
       "    <tr>\n",
       "      <th>9931</th>\n",
       "      <td>problems noted upon discharge treatment, inclu...</td>\n",
       "      <td>acute allergic reaction, etiology uncertain, h...</td>\n",
       "    </tr>\n",
       "  </tbody>\n",
       "</table>\n",
       "<p>9932 rows × 2 columns</p>\n",
       "</div>"
      ],
      "text/plain": [
       "                                          transcription  \\\n",
       "0     appear working well. clear drainage seen. past...   \n",
       "1     muscle joint pains including knee pain, back p...   \n",
       "2     eating, eats bad food. sleep apnea snoring. de...   \n",
       "3     normal morphology aortic valve, mitral valve, ...   \n",
       "4     tricuspid valve appears normal trace tricuspid...   \n",
       "...                                                 ...   \n",
       "9927  signs acute sinusitis. rarely drinks alcohol-c...   \n",
       "9928  conjunctivitis redness mucous membranes. echoc...   \n",
       "9929  impatient around time. pap smear taken. premen...   \n",
       "9930  pupils equal, round, reactive light. masses. c...   \n",
       "9931  problems noted upon discharge treatment, inclu...   \n",
       "\n",
       "                                            description  \n",
       "0     23-year-old white female presents complaint al...  \n",
       "1                  consult laparoscopic gastric bypass.  \n",
       "2                  consult laparoscopic gastric bypass.  \n",
       "3                                  2-d m-mode. doppler.  \n",
       "4                                    2-d echocardiogram  \n",
       "...                                                 ...  \n",
       "9927  patient severe sinusitis two three months ago ...  \n",
       "9928  14-month-old baby boy caucasian came presumpti...  \n",
       "9929  female complete physical follow asthma allergi...  \n",
       "9930                   mother states wheezing coughing.  \n",
       "9931  acute allergic reaction, etiology uncertain, h...  \n",
       "\n",
       "[9932 rows x 2 columns]"
      ]
     },
     "execution_count": 97,
     "metadata": {},
     "output_type": "execute_result"
    }
   ],
   "source": [
    "extended_dataset_2"
   ]
  },
  {
   "cell_type": "code",
   "execution_count": 98,
   "id": "5c86d425",
   "metadata": {},
   "outputs": [],
   "source": [
    "extended_dataset_final = pd.concat([extended_dataset_10k, extended_dataset_2], keys = 'description', ignore_index = True)"
   ]
  },
  {
   "cell_type": "code",
   "execution_count": 99,
   "id": "b5e6d770",
   "metadata": {},
   "outputs": [
    {
     "data": {
      "text/html": [
       "<div>\n",
       "<style scoped>\n",
       "    .dataframe tbody tr th:only-of-type {\n",
       "        vertical-align: middle;\n",
       "    }\n",
       "\n",
       "    .dataframe tbody tr th {\n",
       "        vertical-align: top;\n",
       "    }\n",
       "\n",
       "    .dataframe thead th {\n",
       "        text-align: right;\n",
       "    }\n",
       "</style>\n",
       "<table border=\"1\" class=\"dataframe\">\n",
       "  <thead>\n",
       "    <tr style=\"text-align: right;\">\n",
       "      <th></th>\n",
       "      <th>transcription</th>\n",
       "      <th>description</th>\n",
       "    </tr>\n",
       "  </thead>\n",
       "  <tbody>\n",
       "    <tr>\n",
       "      <th>0</th>\n",
       "      <td>past, tried claritin, zyrtec. used allergies l...</td>\n",
       "      <td>23-year-old white female presents complaint al...</td>\n",
       "    </tr>\n",
       "    <tr>\n",
       "      <th>1</th>\n",
       "      <td>vital signs stable. denies cellulitis, pseudot...</td>\n",
       "      <td>consult laparoscopic gastric bypass.</td>\n",
       "    </tr>\n",
       "    <tr>\n",
       "      <th>2</th>\n",
       "      <td>gets tired quickly. drinks alcohol ten twelve ...</td>\n",
       "      <td>consult laparoscopic gastric bypass.</td>\n",
       "    </tr>\n",
       "    <tr>\n",
       "      <th>3</th>\n",
       "      <td>normal size right left ventricle.,3. trace aor...</td>\n",
       "      <td>2-d m-mode. doppler.</td>\n",
       "    </tr>\n",
       "    <tr>\n",
       "      <th>4</th>\n",
       "      <td>aortic valve appears calcified mild aortic val...</td>\n",
       "      <td>2-d echocardiogram</td>\n",
       "    </tr>\n",
       "    <tr>\n",
       "      <th>...</th>\n",
       "      <td>...</td>\n",
       "      <td>...</td>\n",
       "    </tr>\n",
       "    <tr>\n",
       "      <th>19859</th>\n",
       "      <td>signs acute sinusitis. rarely drinks alcohol-c...</td>\n",
       "      <td>patient severe sinusitis two three months ago ...</td>\n",
       "    </tr>\n",
       "    <tr>\n",
       "      <th>19860</th>\n",
       "      <td>conjunctivitis redness mucous membranes. echoc...</td>\n",
       "      <td>14-month-old baby boy caucasian came presumpti...</td>\n",
       "    </tr>\n",
       "    <tr>\n",
       "      <th>19861</th>\n",
       "      <td>impatient around time. pap smear taken. premen...</td>\n",
       "      <td>female complete physical follow asthma allergi...</td>\n",
       "    </tr>\n",
       "    <tr>\n",
       "      <th>19862</th>\n",
       "      <td>pupils equal, round, reactive light. masses. c...</td>\n",
       "      <td>mother states wheezing coughing.</td>\n",
       "    </tr>\n",
       "    <tr>\n",
       "      <th>19863</th>\n",
       "      <td>problems noted upon discharge treatment, inclu...</td>\n",
       "      <td>acute allergic reaction, etiology uncertain, h...</td>\n",
       "    </tr>\n",
       "  </tbody>\n",
       "</table>\n",
       "<p>19864 rows × 2 columns</p>\n",
       "</div>"
      ],
      "text/plain": [
       "                                           transcription  \\\n",
       "0      past, tried claritin, zyrtec. used allergies l...   \n",
       "1      vital signs stable. denies cellulitis, pseudot...   \n",
       "2      gets tired quickly. drinks alcohol ten twelve ...   \n",
       "3      normal size right left ventricle.,3. trace aor...   \n",
       "4      aortic valve appears calcified mild aortic val...   \n",
       "...                                                  ...   \n",
       "19859  signs acute sinusitis. rarely drinks alcohol-c...   \n",
       "19860  conjunctivitis redness mucous membranes. echoc...   \n",
       "19861  impatient around time. pap smear taken. premen...   \n",
       "19862  pupils equal, round, reactive light. masses. c...   \n",
       "19863  problems noted upon discharge treatment, inclu...   \n",
       "\n",
       "                                             description  \n",
       "0      23-year-old white female presents complaint al...  \n",
       "1                   consult laparoscopic gastric bypass.  \n",
       "2                   consult laparoscopic gastric bypass.  \n",
       "3                                   2-d m-mode. doppler.  \n",
       "4                                     2-d echocardiogram  \n",
       "...                                                  ...  \n",
       "19859  patient severe sinusitis two three months ago ...  \n",
       "19860  14-month-old baby boy caucasian came presumpti...  \n",
       "19861  female complete physical follow asthma allergi...  \n",
       "19862                   mother states wheezing coughing.  \n",
       "19863  acute allergic reaction, etiology uncertain, h...  \n",
       "\n",
       "[19864 rows x 2 columns]"
      ]
     },
     "execution_count": 99,
     "metadata": {},
     "output_type": "execute_result"
    }
   ],
   "source": [
    "extended_dataset_final"
   ]
  },
  {
   "cell_type": "code",
   "execution_count": 100,
   "id": "b96db586",
   "metadata": {},
   "outputs": [
    {
     "data": {
      "text/plain": [
       "0    23-year-old white female presents complaint al...\n",
       "1                 consult laparoscopic gastric bypass.\n",
       "2                 consult laparoscopic gastric bypass.\n",
       "3                                 2-d m-mode. doppler.\n",
       "4                                   2-d echocardiogram\n",
       "5    morbid obesity. laparoscopic antecolic antegas...\n",
       "6    liposuction supraumbilical abdomen, revision r...\n",
       "7                                   2-d echocardiogram\n",
       "8    suction-assisted lipectomy - lipodystrophy abd...\n",
       "9                               echocardiogram doppler\n",
       "Name: description, dtype: object"
      ]
     },
     "execution_count": 100,
     "metadata": {},
     "output_type": "execute_result"
    }
   ],
   "source": [
    "extended_dataset_final['description'][:10]"
   ]
  },
  {
   "cell_type": "code",
   "execution_count": 101,
   "id": "7d6ce6b0",
   "metadata": {},
   "outputs": [],
   "source": [
    "#dataset = extended_dataset_final"
   ]
  },
  {
   "cell_type": "code",
   "execution_count": 102,
   "id": "4c301569",
   "metadata": {},
   "outputs": [],
   "source": [
    "## No data augmentation"
   ]
  },
  {
   "cell_type": "code",
   "execution_count": 15,
   "id": "7f45bdac",
   "metadata": {},
   "outputs": [],
   "source": [
    "dataset = train_dataset"
   ]
  },
  {
   "cell_type": "code",
   "execution_count": 16,
   "id": "3baf9439",
   "metadata": {},
   "outputs": [
    {
     "data": {
      "text/html": [
       "<div>\n",
       "<style scoped>\n",
       "    .dataframe tbody tr th:only-of-type {\n",
       "        vertical-align: middle;\n",
       "    }\n",
       "\n",
       "    .dataframe tbody tr th {\n",
       "        vertical-align: top;\n",
       "    }\n",
       "\n",
       "    .dataframe thead th {\n",
       "        text-align: right;\n",
       "    }\n",
       "</style>\n",
       "<table border=\"1\" class=\"dataframe\">\n",
       "  <thead>\n",
       "    <tr style=\"text-align: right;\">\n",
       "      <th></th>\n",
       "      <th>description</th>\n",
       "      <th>transcription</th>\n",
       "    </tr>\n",
       "  </thead>\n",
       "  <tbody>\n",
       "    <tr>\n",
       "      <th>4994</th>\n",
       "      <td>patient severe sinusitis two three months ago ...</td>\n",
       "      <td>history:, pleasure meeting evaluating patient ...</td>\n",
       "    </tr>\n",
       "    <tr>\n",
       "      <th>4995</th>\n",
       "      <td>14-month-old baby boy caucasian came presumpti...</td>\n",
       "      <td>admitting diagnosis: , kawasaki disease.,disch...</td>\n",
       "    </tr>\n",
       "    <tr>\n",
       "      <th>4996</th>\n",
       "      <td>female complete physical follow asthma allergi...</td>\n",
       "      <td>subjective: , 42-year-old white female comes t...</td>\n",
       "    </tr>\n",
       "    <tr>\n",
       "      <th>4997</th>\n",
       "      <td>mother states wheezing coughing.</td>\n",
       "      <td>chief complaint: , 5-year-old male presents ch...</td>\n",
       "    </tr>\n",
       "    <tr>\n",
       "      <th>4998</th>\n",
       "      <td>acute allergic reaction, etiology uncertain, h...</td>\n",
       "      <td>history: , 34-year-old male presents today sel...</td>\n",
       "    </tr>\n",
       "  </tbody>\n",
       "</table>\n",
       "</div>"
      ],
      "text/plain": [
       "                                            description  \\\n",
       "4994  patient severe sinusitis two three months ago ...   \n",
       "4995  14-month-old baby boy caucasian came presumpti...   \n",
       "4996  female complete physical follow asthma allergi...   \n",
       "4997                   mother states wheezing coughing.   \n",
       "4998  acute allergic reaction, etiology uncertain, h...   \n",
       "\n",
       "                                          transcription  \n",
       "4994  history:, pleasure meeting evaluating patient ...  \n",
       "4995  admitting diagnosis: , kawasaki disease.,disch...  \n",
       "4996  subjective: , 42-year-old white female comes t...  \n",
       "4997  chief complaint: , 5-year-old male presents ch...  \n",
       "4998  history: , 34-year-old male presents today sel...  "
      ]
     },
     "execution_count": 16,
     "metadata": {},
     "output_type": "execute_result"
    }
   ],
   "source": [
    "dataset.tail()"
   ]
  },
  {
   "cell_type": "code",
   "execution_count": 17,
   "id": "cd70f11d",
   "metadata": {},
   "outputs": [
    {
     "data": {
      "text/html": [
       "<div>\n",
       "<style scoped>\n",
       "    .dataframe tbody tr th:only-of-type {\n",
       "        vertical-align: middle;\n",
       "    }\n",
       "\n",
       "    .dataframe tbody tr th {\n",
       "        vertical-align: top;\n",
       "    }\n",
       "\n",
       "    .dataframe thead th {\n",
       "        text-align: right;\n",
       "    }\n",
       "</style>\n",
       "<table border=\"1\" class=\"dataframe\">\n",
       "  <thead>\n",
       "    <tr style=\"text-align: right;\">\n",
       "      <th></th>\n",
       "      <th>description</th>\n",
       "      <th>transcription</th>\n",
       "    </tr>\n",
       "  </thead>\n",
       "  <tbody>\n",
       "    <tr>\n",
       "      <th>count</th>\n",
       "      <td>4966</td>\n",
       "      <td>4966</td>\n",
       "    </tr>\n",
       "    <tr>\n",
       "      <th>unique</th>\n",
       "      <td>2336</td>\n",
       "      <td>2357</td>\n",
       "    </tr>\n",
       "    <tr>\n",
       "      <th>top</th>\n",
       "      <td>example/template routine normal male physical ...</td>\n",
       "      <td>preoperative diagnosis: , low back pain.,posto...</td>\n",
       "    </tr>\n",
       "    <tr>\n",
       "      <th>freq</th>\n",
       "      <td>12</td>\n",
       "      <td>5</td>\n",
       "    </tr>\n",
       "  </tbody>\n",
       "</table>\n",
       "</div>"
      ],
      "text/plain": [
       "                                              description  \\\n",
       "count                                                4966   \n",
       "unique                                               2336   \n",
       "top     example/template routine normal male physical ...   \n",
       "freq                                                   12   \n",
       "\n",
       "                                            transcription  \n",
       "count                                                4966  \n",
       "unique                                               2357  \n",
       "top     preoperative diagnosis: , low back pain.,posto...  \n",
       "freq                                                    5  "
      ]
     },
     "execution_count": 17,
     "metadata": {},
     "output_type": "execute_result"
    }
   ],
   "source": [
    "dataset.describe()"
   ]
  },
  {
   "cell_type": "code",
   "execution_count": 18,
   "id": "78f023dd",
   "metadata": {},
   "outputs": [],
   "source": [
    "filepath = (\"mt_samples_preproc.csv\")\n",
    "dataset.to_csv(filepath)"
   ]
  },
  {
   "cell_type": "code",
   "execution_count": 2,
   "id": "7da7b009",
   "metadata": {},
   "outputs": [],
   "source": [
    "filepath = (\"mt_samples_preproc.csv\")\n",
    "dataset = pd.read_csv(filepath)"
   ]
  },
  {
   "cell_type": "markdown",
   "id": "5b1b3d8b",
   "metadata": {},
   "source": [
    "## Splitting train and test set"
   ]
  },
  {
   "cell_type": "code",
   "execution_count": 3,
   "id": "904de220",
   "metadata": {},
   "outputs": [],
   "source": [
    "from sklearn.model_selection import train_test_split\n",
    "x_train, x_val, y_train, y_val = train_test_split(np.array(dataset['transcription']), np.array(dataset['description']), test_size = 0.05, random_state = 0, shuffle = False)"
   ]
  },
  {
   "cell_type": "code",
   "execution_count": 4,
   "id": "271c32d2",
   "metadata": {},
   "outputs": [
    {
     "name": "stdout",
     "output_type": "stream",
     "text": [
      "x_train shape :  (4717,)\n",
      "y_train shape :  (4717,)\n",
      "x_val shape :  (249,)\n",
      "y_val shape :  (249,)\n"
     ]
    }
   ],
   "source": [
    "print(\"x_train shape : \", x_train.shape)\n",
    "print(\"y_train shape : \", y_train.shape)\n",
    "print(\"x_val shape : \", x_val.shape)\n",
    "print(\"y_val shape : \", y_val.shape)"
   ]
  },
  {
   "cell_type": "markdown",
   "id": "519c9811",
   "metadata": {},
   "source": [
    "## NLP"
   ]
  },
  {
   "cell_type": "code",
   "execution_count": 5,
   "id": "d37ea9db",
   "metadata": {},
   "outputs": [],
   "source": [
    "#<BOS> - begin of sequence; <EOS> - end of sequence.\n",
    "#refactor this!!\n",
    "def sequence_tagger(input_sequence):\n",
    "    bos = \"<BOS> \"\n",
    "    eos = \" <EOS>\"\n",
    "    tagged_sequence = []\n",
    "    for text in input_sequence:\n",
    "        if isinstance(text, str):\n",
    "            tagged_sentence = bos + text + eos\n",
    "            tagged_sequence.append(tagged_sentence)\n",
    "    return tagged_sequence\n",
    "\n",
    "tagged_seq_x_train = sequence_tagger(x_train)"
   ]
  },
  {
   "cell_type": "code",
   "execution_count": 6,
   "id": "78ca241d",
   "metadata": {},
   "outputs": [
    {
     "name": "stdout",
     "output_type": "stream",
     "text": [
      "4717\n",
      "<BOS> past medical history:, difficulty climbing stairs, difficulty airline seats, tying shoes, used public seating, lifting objects floor. exercises three times week home cardio. difficulty walking two blocks five flights stairs. difficulty snoring. muscle joint pains including knee pain, back pain, foot ankle pain, swelling. gastroesophageal reflux disease.,past surgical history:, includes reconstructive surgery right hand 13 years ago. ,social history:, currently single. ten drinks year. smoked significantly several months ago. smokes less three cigarettes day.,family history:, heart disease grandfathers, grandmother stroke, grandmother diabetes. denies obesity hypertension family members.,current medications:, none.,allergies:, allergic penicillin.,miscellaneous/eating history:, going support groups seven months lynn holmberg greenwich eastchester, new york feels appropriate program. poor experience greenwich program. eating history, emotional eater. like sweets. likes big portions carbohydrates. likes chicken steak. currently weighs 312 pounds. ideal body weight would 170 pounds. 142 pounds overweight. ,he lost 60 excess body weight would 84 pounds weigh 228.,review systems: ,negative head, neck, heart, lungs, gi, gu, orthopedic, skin. specifically denies chest pain, heart attack, coronary artery disease, congestive heart failure, arrhythmia, atrial fibrillation, pacemaker, high cholesterol, pulmonary embolism, high blood pressure, cva, venous insufficiency, thrombophlebitis, asthma, shortness breath, copd, emphysema, sleep apnea, diabetes, leg foot swelling, osteoarthritis, rheumatoid arthritis, hiatal hernia, peptic ulcer disease, gallstones, infected gallbladder, pancreatitis, fatty liver, hepatitis, hemorrhoids, rectal bleeding, polyps, incontinence stool, urinary stress incontinence, cancer. denies cellulitis, pseudotumor cerebri, meningitis, encephalitis.,physical examination:, alert oriented x 3. cranial nerves ii-xii intact. afebrile. vital signs stable. <EOS>\n"
     ]
    }
   ],
   "source": [
    "print(len(tagged_seq_x_train))\n",
    "print(tagged_seq_x_train[1])"
   ]
  },
  {
   "cell_type": "code",
   "execution_count": 7,
   "id": "8f7468f1",
   "metadata": {},
   "outputs": [],
   "source": [
    "tagged_seq_x_val = sequence_tagger(x_val)\n",
    "tagged_seq_y_train = sequence_tagger(y_train)\n",
    "tagged_seq_y_val = sequence_tagger(y_val)"
   ]
  },
  {
   "cell_type": "markdown",
   "id": "6f5f3461",
   "metadata": {},
   "source": [
    "## Preparing a tokenizer and calculating no. of rare / common words"
   ]
  },
  {
   "cell_type": "code",
   "execution_count": 8,
   "id": "a3662094",
   "metadata": {},
   "outputs": [],
   "source": [
    "temp_list = tagged_seq_x_train"
   ]
  },
  {
   "cell_type": "code",
   "execution_count": 113,
   "id": "80986514",
   "metadata": {
    "scrolled": true
   },
   "outputs": [],
   "source": [
    "#temp_list[1]"
   ]
  },
  {
   "cell_type": "code",
   "execution_count": 9,
   "id": "d2c1bb6c",
   "metadata": {},
   "outputs": [
    {
     "name": "stderr",
     "output_type": "stream",
     "text": [
      "2023-08-21 19:37:44.189095: I tensorflow/core/platform/cpu_feature_guard.cc:193] This TensorFlow binary is optimized with oneAPI Deep Neural Network Library (oneDNN) to use the following CPU instructions in performance-critical operations:  AVX2 FMA\n",
      "To enable them in other operations, rebuild TensorFlow with the appropriate compiler flags.\n",
      "2023-08-21 19:37:44.857194: E tensorflow/stream_executor/cuda/cuda_blas.cc:2981] Unable to register cuBLAS factory: Attempting to register factory for plugin cuBLAS when one has already been registered\n",
      "2023-08-21 19:37:45.773282: W tensorflow/stream_executor/platform/default/dso_loader.cc:64] Could not load dynamic library 'libnvinfer.so.7'; dlerror: libnvinfer.so.7: cannot open shared object file: No such file or directory; LD_LIBRARY_PATH: :/home/rkv/miniconda3/envs/tf/lib/\n",
      "2023-08-21 19:37:45.776907: W tensorflow/stream_executor/platform/default/dso_loader.cc:64] Could not load dynamic library 'libnvinfer_plugin.so.7'; dlerror: libnvinfer_plugin.so.7: cannot open shared object file: No such file or directory; LD_LIBRARY_PATH: :/home/rkv/miniconda3/envs/tf/lib/\n",
      "2023-08-21 19:37:45.776928: W tensorflow/compiler/tf2tensorrt/utils/py_utils.cc:38] TF-TRT Warning: Cannot dlopen some TensorRT libraries. If you would like to use Nvidia GPU with TensorRT, please make sure the missing libraries mentioned above are installed properly.\n"
     ]
    }
   ],
   "source": [
    "from keras.preprocessing.text import Tokenizer"
   ]
  },
  {
   "cell_type": "code",
   "execution_count": 10,
   "id": "666b54ec",
   "metadata": {},
   "outputs": [],
   "source": [
    "x_train_list = list(filter(None, temp_list))"
   ]
  },
  {
   "cell_type": "code",
   "execution_count": 116,
   "id": "6b34b0b7",
   "metadata": {},
   "outputs": [],
   "source": [
    "#x_train_list[1]"
   ]
  },
  {
   "cell_type": "code",
   "execution_count": 11,
   "id": "620933de",
   "metadata": {},
   "outputs": [],
   "source": [
    "x_tokenizer = Tokenizer()\n",
    "x_tokenizer.fit_on_texts(x_train_list)"
   ]
  },
  {
   "cell_type": "code",
   "execution_count": 12,
   "id": "553af9f7",
   "metadata": {},
   "outputs": [],
   "source": [
    "temp_list = list(tagged_seq_y_train)\n",
    "#print(temp_list[1])\n",
    "y_train_list = list(filter(None, temp_list))"
   ]
  },
  {
   "cell_type": "code",
   "execution_count": 13,
   "id": "a22e5e48",
   "metadata": {},
   "outputs": [],
   "source": [
    "y_tokenizer = Tokenizer()\n",
    "y_tokenizer.fit_on_texts(y_train_list) #this object's internal vocab - these words"
   ]
  },
  {
   "cell_type": "code",
   "execution_count": 14,
   "id": "f50af626",
   "metadata": {},
   "outputs": [
    {
     "name": "stdout",
     "output_type": "stream",
     "text": [
      "Transcription : \n",
      "Rare words consist of 67.1405017601711 % of the vocabulary\n",
      "Frequency of rare words relative to most frequent words(%): 5.046131689726662\n",
      "\n",
      "Summary : \n",
      "Rare words consist of 84.61678832116787 % of the vocabulary\n",
      "Frequency of rare words relative to most frequent words(%): 26.866138306983324\n"
     ]
    }
   ],
   "source": [
    "#refactor later\n",
    "threshold = 16\n",
    "\n",
    "total_words_desc = 0\n",
    "total_words_summ = 0 \n",
    "total_freq_desc = 0\n",
    "total_freq_summ = 0 \n",
    "rare_word_desc_count = 0\n",
    "rare_word_summ_count = 0\n",
    "rare_word_desc_freq = 0 \n",
    "rare_word_summ_freq = 0\n",
    "#less than say, 4 in the original text - now dataset is 4x size, so 16\n",
    "#from internal vocabulary\n",
    "for key, value in x_tokenizer.word_counts.items():\n",
    "    #returns a word and it's frequency\n",
    "    total_words_desc = total_words_desc + 1\n",
    "    total_freq_desc = total_freq_desc + value\n",
    "    if value < threshold :\n",
    "        rare_word_desc_count = rare_word_desc_count + 1\n",
    "        rare_word_desc_freq = rare_word_desc_freq + value\n",
    "print(\"Transcription : \")\n",
    "print(\"Rare words consist of\", (rare_word_desc_count / total_words_desc) * 100, \"% of the vocabulary\")\n",
    "#what does this following thing mean? :\n",
    "print(\"Frequency of rare words relative to most frequent words(%):\", (rare_word_desc_freq/total_freq_desc) * 100)\n",
    "\n",
    "for key, value in y_tokenizer.word_counts.items():\n",
    "    #returns a word and it's frequency\n",
    "    total_words_summ = total_words_summ + 1\n",
    "    total_freq_summ = total_freq_summ + value\n",
    "    if value < threshold :\n",
    "        rare_word_summ_count = rare_word_summ_count + 1\n",
    "        rare_word_summ_freq = rare_word_summ_freq + value\n",
    "\n",
    "print(\"\\nSummary : \")\n",
    "print(\"Rare words consist of\", (rare_word_summ_count / total_words_summ) * 100, \"% of the vocabulary\")\n",
    "#what does this following thing mean? :\n",
    "print(\"Frequency of rare words relative to most frequent words(%):\", (rare_word_summ_freq/total_freq_summ) * 100)"
   ]
  },
  {
   "cell_type": "markdown",
   "id": "87132fd8",
   "metadata": {},
   "source": [
    "## Building the model"
   ]
  },
  {
   "cell_type": "code",
   "execution_count": 15,
   "id": "bd2f6978",
   "metadata": {},
   "outputs": [],
   "source": [
    "max_text_length = 250"
   ]
  },
  {
   "cell_type": "code",
   "execution_count": 16,
   "id": "eecdf9d7",
   "metadata": {},
   "outputs": [],
   "source": [
    "#convert all the text sequences into tokenized sequences of integers\n",
    "x_train_seq = x_tokenizer.texts_to_sequences(tagged_seq_x_train)\n",
    "x_val_seq = x_tokenizer.texts_to_sequences(tagged_seq_x_val)\n",
    "\n",
    "y_train_seq = y_tokenizer.texts_to_sequences(tagged_seq_y_train)\n",
    "y_val_seq = y_tokenizer.texts_to_sequences(tagged_seq_y_val)\n",
    "\n",
    "x_vocabulary = total_words_desc + 1\n",
    "y_vocabulary = total_words_summ + 1"
   ]
  },
  {
   "cell_type": "code",
   "execution_count": 17,
   "id": "014dff4f",
   "metadata": {},
   "outputs": [],
   "source": [
    "from tensorflow.keras.layers import Input, LSTM, Embedding, Dense, Concatenate, TimeDistributed\n",
    "from tensorflow.keras.models import Model\n",
    "from tensorflow.keras.callbacks import EarlyStopping, ModelCheckpoint"
   ]
  },
  {
   "cell_type": "code",
   "execution_count": 29,
   "id": "c91e4d31",
   "metadata": {},
   "outputs": [],
   "source": [
    "import tensorflow as tf\n",
    "from tensorflow.python.keras import backend as K\n",
    "\n",
    "logger = tf.get_logger()\n",
    "\n",
    "class AttentionLayer(tf.keras.layers.Layer):\n",
    "    \"\"\"\n",
    "    This class implements Bahdanau attention (https://arxiv.org/pdf/1409.0473.pdf).\n",
    "    There are three sets of weights introduced W_a, U_a, and V_a\n",
    "     \"\"\"\n",
    "\n",
    "    def __init__(self, **kwargs):\n",
    "        super(AttentionLayer, self).__init__(**kwargs)\n",
    "\n",
    "    def build(self, input_shape):\n",
    "        assert isinstance(input_shape, list)\n",
    "        # Create a trainable weight variable for this layer.\n",
    "\n",
    "        self.W_a = self.add_weight(name='W_a',\n",
    "                                   shape=tf.TensorShape((input_shape[0][2], input_shape[0][2])),\n",
    "                                   initializer='uniform',\n",
    "                                   trainable=True)\n",
    "        self.U_a = self.add_weight(name='U_a',\n",
    "                                   shape=tf.TensorShape((input_shape[1][2], input_shape[0][2])),\n",
    "                                   initializer='uniform',\n",
    "                                   trainable=True)\n",
    "        self.V_a = self.add_weight(name='V_a',\n",
    "                                   shape=tf.TensorShape((input_shape[0][2], 1)),\n",
    "                                   initializer='uniform',\n",
    "                                   trainable=True)\n",
    "\n",
    "        super(AttentionLayer, self).build(input_shape)  # Be sure to call this at the end\n",
    "\n",
    "    def call(self, inputs):\n",
    "        \"\"\"\n",
    "        inputs: [encoder_output_sequence, decoder_output_sequence]\n",
    "        \"\"\"\n",
    "        assert type(inputs) == list\n",
    "        encoder_out_seq, decoder_out_seq = inputs\n",
    "\n",
    "        logger.debug(f\"encoder_out_seq.shape = {encoder_out_seq.shape}\")\n",
    "        logger.debug(f\"decoder_out_seq.shape = {decoder_out_seq.shape}\")\n",
    "\n",
    "        def energy_step(inputs, states):\n",
    "            \"\"\" Step function for computing energy for a single decoder state\n",
    "            inputs: (batchsize * 1 * de_in_dim)\n",
    "            states: (batchsize * 1 * de_latent_dim)\n",
    "            \"\"\"\n",
    "\n",
    "            logger.debug(\"Running energy computation step\")\n",
    "\n",
    "            if not isinstance(states, (list, tuple)):\n",
    "                raise TypeError(f\"States must be an iterable. Got {states} of type {type(states)}\")\n",
    "\n",
    "            encoder_full_seq = states[-1]\n",
    "\n",
    "            \"\"\" Computing S.Wa where S=[s0, s1, ..., si]\"\"\"\n",
    "            # <= batch size * en_seq_len * latent_dim\n",
    "            W_a_dot_s = K.dot(encoder_full_seq, self.W_a)\n",
    "\n",
    "            \"\"\" Computing hj.Ua \"\"\"\n",
    "            U_a_dot_h = K.expand_dims(K.dot(inputs, self.U_a), 1)  # <= batch_size, 1, latent_dim\n",
    "\n",
    "            logger.debug(f\"U_a_dot_h.shape = {U_a_dot_h.shape}\")\n",
    "\n",
    "            \"\"\" tanh(S.Wa + hj.Ua) \"\"\"\n",
    "            # <= batch_size*en_seq_len, latent_dim\n",
    "            Ws_plus_Uh = K.tanh(W_a_dot_s + U_a_dot_h)\n",
    "\n",
    "            logger.debug(f\"Ws_plus_Uh.shape = {Ws_plus_Uh.shape}\")\n",
    "\n",
    "            \"\"\" softmax(va.tanh(S.Wa + hj.Ua)) \"\"\"\n",
    "            # <= batch_size, en_seq_len\n",
    "            e_i = K.squeeze(K.dot(Ws_plus_Uh, self.V_a), axis=-1)\n",
    "            # <= batch_size, en_seq_len\n",
    "            e_i = K.softmax(e_i)\n",
    "\n",
    "            logger.debug(f\"ei.shape = {e_i.shape}\")\n",
    "\n",
    "            return e_i, [e_i]\n",
    "\n",
    "        def context_step(inputs, states):\n",
    "            \"\"\" Step function for computing ci using ei \"\"\"\n",
    "\n",
    "            logger.debug(\"Running attention vector computation step\")\n",
    "\n",
    "            if not isinstance(states, (list, tuple)):\n",
    "                raise TypeError(f\"States must be an iterable. Got {states} of type {type(states)}\")\n",
    "\n",
    "            encoder_full_seq = states[-1]\n",
    "\n",
    "            # <= batch_size, hidden_size\n",
    "            c_i = K.sum(encoder_full_seq * K.expand_dims(inputs, -1), axis=1)\n",
    "\n",
    "            logger.debug(f\"ci.shape = {c_i.shape}\")\n",
    "\n",
    "            return c_i, [c_i]\n",
    "\n",
    "        # we don't maintain states between steps when computing attention\n",
    "        # attention is stateless, so we're passing a fake state for RNN step function\n",
    "        fake_state_c = K.sum(encoder_out_seq, axis=1)\n",
    "        fake_state_e = K.sum(encoder_out_seq, axis=2)  # <= (batch_size, enc_seq_len, latent_dim\n",
    "\n",
    "        \"\"\" Computing energy outputs \"\"\"\n",
    "        # e_outputs => (batch_size, de_seq_len, en_seq_len)\n",
    "        last_out, e_outputs, _ = K.rnn(\n",
    "            energy_step, decoder_out_seq, [fake_state_e], constants=[encoder_out_seq]\n",
    "        )\n",
    "\n",
    "        \"\"\" Computing context vectors \"\"\"\n",
    "        last_out, c_outputs, _ = K.rnn(\n",
    "            context_step, e_outputs, [fake_state_c], constants=[encoder_out_seq]\n",
    "        )\n",
    "\n",
    "        return c_outputs, e_outputs\n",
    "\n",
    "    def compute_output_shape(self, input_shape):\n",
    "        \"\"\" Outputs produced by the layer \"\"\"\n",
    "        return [\n",
    "            tf.TensorShape((input_shape[1][0], input_shape[1][1], input_shape[1][2])),\n",
    "            tf.TensorShape((input_shape[1][0], input_shape[1][1], input_shape[0][1]))\n",
    "        ]"
   ]
  },
  {
   "cell_type": "code",
   "execution_count": 30,
   "id": "e7c57946",
   "metadata": {},
   "outputs": [],
   "source": [
    "from keras import backend as K\n",
    "K.clear_session()\n",
    "\n",
    "# Building a seq2seq model :)\n",
    "# Encoder\n",
    "max_text_length = 250 \n",
    "hidden_dim = 128\n",
    "embedding_dim = 30\n",
    "\n",
    "#Encoder\n",
    "#Input data will be one-hot encoded and stored in encoder_inputs\n",
    "encoder_inputs = Input(shape = (max_text_length, ))\n",
    "\n",
    "#parameters - input_dim, output_dim, input_length\n",
    "enc_emb = Embedding(x_vocabulary, embedding_dim, input_length = max_text_length, trainable = True)(encoder_inputs)\n",
    "\n",
    "#encoded input to LSTM layer\n",
    "encoder_LSTM = LSTM(hidden_dim, return_sequences = True, return_state = True, dropout = 0.2)\n",
    "encoder_outputs_1, state_h1, state_c1 = encoder_LSTM(enc_emb)\n",
    "\n",
    "# Decoder model\n",
    "# What is the input shape?\n",
    "\n",
    "#decoder_inputs = Input(shape = (,))\n",
    "#decoder_embedding = Embedding(y_vocabulary, embedding_dim, input_length = max_text_length, trainable = False)(encoder_outputs_1)\n",
    "\n",
    "decoder_LSTM = LSTM(hidden_dim, return_sequences = True, return_state = True, dropout = 0.2)\n",
    "decoder_outputs_1, dec_state_h1, dec_state_c1 = decoder_LSTM(encoder_outputs_1, initial_state = [state_h1, state_c1])\n",
    "\n",
    "# Attention layer\n",
    "# attn_layer = AttentionLayer(name = 'attention_layer')\n",
    "# attn_out, attn_states = attn_layer([decoder_ouputs_1, dec_state_h1])\n",
    "\n",
    "# Dense layer - check if there's another way.\n",
    "decoder_dense = Dense(y_vocabulary, activation = 'softmax')\n",
    "decoder_outputs = decoder_dense(decoder_outputs_1)\n",
    "\n",
    "model = Model(encoder_inputs, decoder_outputs)"
   ]
  },
  {
   "cell_type": "code",
   "execution_count": 31,
   "id": "3127d8b6",
   "metadata": {
    "scrolled": false
   },
   "outputs": [
    {
     "name": "stdout",
     "output_type": "stream",
     "text": [
      "Model: \"model\"\n",
      "__________________________________________________________________________________________________\n",
      " Layer (type)                   Output Shape         Param #     Connected to                     \n",
      "==================================================================================================\n",
      " input_1 (InputLayer)           [(None, 250)]        0           []                               \n",
      "                                                                                                  \n",
      " embedding (Embedding)          (None, 250, 30)      673260      ['input_1[0][0]']                \n",
      "                                                                                                  \n",
      " lstm (LSTM)                    [(None, 250, 128),   81408       ['embedding[0][0]']              \n",
      "                                 (None, 128),                                                     \n",
      "                                 (None, 128)]                                                     \n",
      "                                                                                                  \n",
      " lstm_1 (LSTM)                  [(None, 250, 128),   131584      ['lstm[0][0]',                   \n",
      "                                 (None, 128),                     'lstm[0][1]',                   \n",
      "                                 (None, 128)]                     'lstm[0][2]']                   \n",
      "                                                                                                  \n",
      " dense (Dense)                  (None, 250, 5481)    707049      ['lstm_1[0][0]']                 \n",
      "                                                                                                  \n",
      "==================================================================================================\n",
      "Total params: 1,593,301\n",
      "Trainable params: 1,593,301\n",
      "Non-trainable params: 0\n",
      "__________________________________________________________________________________________________\n"
     ]
    }
   ],
   "source": [
    "model.summary()"
   ]
  },
  {
   "cell_type": "code",
   "execution_count": 20,
   "id": "112bc275",
   "metadata": {},
   "outputs": [],
   "source": [
    "#refactor later\n",
    "#current max_text_length = 100\n",
    "\n",
    "from tensorflow.keras.preprocessing.sequence import pad_sequences\n",
    "\n",
    "def padding(encoder_sequences, decoder_sequences, max_text_length):\n",
    "  \n",
    "    encoder_input_data = pad_sequences(encoder_sequences, maxlen=max_text_length, dtype='int32', padding='post', truncating='post')\n",
    "    decoder_input_data = pad_sequences(decoder_sequences, maxlen=max_text_length, dtype='int32', padding='post', truncating='post')\n",
    "\n",
    "    return encoder_input_data, decoder_input_data"
   ]
  },
  {
   "cell_type": "code",
   "execution_count": 21,
   "id": "41aca5fc",
   "metadata": {},
   "outputs": [
    {
     "name": "stdout",
     "output_type": "stream",
     "text": [
      "Length of the first element of the input encoder sequence :  250\n",
      "Length of the second element of the input encoder sequence :  466\n",
      "Longest element in the input encoder seq. :  1812\n",
      "Longest element in the output decoder seq :  51\n"
     ]
    }
   ],
   "source": [
    "print(\"Length of the first element of the input encoder sequence : \", len(x_train_seq[1]))\n",
    "print(\"Length of the second element of the input encoder sequence : \", len(x_train_seq[2]))\n",
    "print(\"Longest element in the input encoder seq. : \", len(max(x_train_seq, key = len)))\n",
    "print(\"Longest element in the output decoder seq : \", len(max(y_train_seq, key = len)))"
   ]
  },
  {
   "cell_type": "markdown",
   "id": "49a4ff06",
   "metadata": {},
   "source": [
    "We can see they are all of very different lengths. To avoid this we pad all the texts to a fixed length, in this case 250."
   ]
  },
  {
   "cell_type": "code",
   "execution_count": 22,
   "id": "8a6fcdf6",
   "metadata": {},
   "outputs": [],
   "source": [
    "#x_train_seq -> encoder sequence, BOS & EOS tagged\n",
    "#y_train_seq -> decoder sequence, BOS & EOS tagged\n",
    "x_train_final, y_train_final = padding(x_train_seq, y_train_seq, max_text_length)\n",
    "x_val_final, y_val_final = padding(x_val_seq, y_val_seq, max_text_length)"
   ]
  },
  {
   "cell_type": "code",
   "execution_count": 23,
   "id": "cf464e50",
   "metadata": {},
   "outputs": [
    {
     "name": "stdout",
     "output_type": "stream",
     "text": [
      "Length of the first element of the input encoder sequence :  250\n",
      "Length of the first element of the output decoder sequence :  250\n"
     ]
    }
   ],
   "source": [
    "print(\"Length of the first element of the input encoder sequence : \", len(x_train_final[1]))\n",
    "print(\"Length of the first element of the output decoder sequence : \", len(y_train_final[1]))"
   ]
  },
  {
   "cell_type": "markdown",
   "id": "2d4ed597",
   "metadata": {},
   "source": [
    "### A bug crept in recently where I need to change the x_train_final size manually."
   ]
  },
  {
   "cell_type": "code",
   "execution_count": 25,
   "id": "5457bc30",
   "metadata": {},
   "outputs": [
    {
     "name": "stdout",
     "output_type": "stream",
     "text": [
      "Input encoder sequence size :  4711\n",
      "Output encoder sequence size :  4711\n",
      "Input validation sequence size :  249\n",
      "Output validation sequence size :  249\n"
     ]
    }
   ],
   "source": [
    "x_train_final = x_train_final[5:]\n",
    "print(\"Input encoder sequence size : \", len(x_train_final))\n",
    "print(\"Output encoder sequence size : \", len(y_train_final))\n",
    "print(\"Input validation sequence size : \", len(x_val_final))\n",
    "print(\"Output validation sequence size : \", len(x_val_final))"
   ]
  },
  {
   "cell_type": "code",
   "execution_count": 41,
   "id": "0b647e4e",
   "metadata": {},
   "outputs": [
    {
     "data": {
      "text/plain": [
       "array([    0,     0,     0,     0,     0,     0,     0,     0,     0,\n",
       "           0,     0,     0,     0,     0,     0,     0,     0,     0,\n",
       "           0,     0,     0,     0,     0,     0,     0,     0,     0,\n",
       "           0,     0,     0,     0,     0,     0,     0,     0,     0,\n",
       "           0,     0,     0,     0,     0,     0,     0,     0,     0,\n",
       "           0,     0,     0,     0,     0,     0,     0,     0,     0,\n",
       "           0,     0,     0,     0,     0,     0,     0,     0,     0,\n",
       "           0,     0,     0,     0,     0,     0,     0,     0,     0,\n",
       "           0,     0,     0,     0,     0,     0,     0,     0,     0,\n",
       "           0,     0,     0,     0,     0,     0,     0,     0,     0,\n",
       "           0,     0,    17,  1740,    67,    36,     3,   169,  1312,\n",
       "         264,   296,   325,     3,   264,    37, 11130,  5315,   151,\n",
       "        5436,  2865,   771,   148,   820,  1208,   354,   245,    72,\n",
       "           1,    42,  1458,    39,    27,  1331,  5232,  5953,  5678,\n",
       "        2018,   597,  5678,    11,     1,   703,    95,    18,   225,\n",
       "         158,    76,    11,   195,   158,   757,  4586,   112,  4085,\n",
       "           1,    11,    77,   300,  1642,    49,    76,    68,   169,\n",
       "          50,   107,   115,   209,    93,    56,    20,    76,    31,\n",
       "         229,  1149,     5,  3481,   426,   670,   719,    33,   503,\n",
       "        1935,     9,    61,    25,    31,  2624,  1421,   784,  2089,\n",
       "        2444,   222,  1262,   146,  2089,   696,    22,   611,   666,\n",
       "         812,    11,  2089,  2444,  1444,   300,    69,    29,   320,\n",
       "          42,   123,  2089,   696,   458,   120,   715,   137,    86,\n",
       "         146,   254,  4250,   120,   132,  2089,  2444,  3874,   264,\n",
       "         121,   144,   323,  2141,   563,     3,    89,  1162,  2394,\n",
       "        1634,    11,   179,   589,  6718,  1595,    11,  1596,  3874,\n",
       "         264,    37,   921,  1444,   300,    69,    29,   320,   529,\n",
       "         256,    42,  5125,   628,    49,   264,    37,   715,    77,\n",
       "        1348,   127,  2219,   850,    20,    20,  2456,  1626,    33,\n",
       "        1012, 11130,  1528,   258,  1227,   301,  2141,   301,  1227,\n",
       "         258,  2141,   296,    18,    42,  2456,  1626,  1349,  1842,\n",
       "          22, 11131,  1595,   697,   563,  1012,   151,  5436,    18,\n",
       "          22,  2456,  1626,   185,  2496,   886,  1512,   131,   715,\n",
       "          20,  3706,  4587,  1086, 11132,   883,   127,  2219,   850,\n",
       "          33,  1297,   131,   335,  4775,   151,  5436,    50,   131,\n",
       "        7366,   763,   131,    30,    22,  2456,  1626,   158,   148,\n",
       "         820,  3875,   857,  1717,  2776,   185,   749,  4133,    86,\n",
       "        1214,  3177,   148,   820,    30,  2284, 11131,  7896,  1191,\n",
       "        4133,   382,   148,   820,  3824,   166,   298,   179,   589,\n",
       "          22,  2428,    13,   895,   459,   179,   589,   135,   229,\n",
       "         912,   277,  1871,   421,  3123,  2739,   144,   749,  1635,\n",
       "         749,    10,    71,  1718,   202,   749,   946,    22,   574,\n",
       "        3349,    25,   946,    22,   268,   574,   694,    93,  1327,\n",
       "         167,     1,   891,   398,   193,    34,    96,    90,   282,\n",
       "          23,   103,   340,    16], dtype=int32)"
      ]
     },
     "execution_count": 41,
     "metadata": {},
     "output_type": "execute_result"
    }
   ],
   "source": [
    "x_train_final[1]"
   ]
  },
  {
   "cell_type": "code",
   "execution_count": 47,
   "id": "b20863a2",
   "metadata": {
    "scrolled": true
   },
   "outputs": [
    {
     "data": {
      "text/plain": [
       "250"
      ]
     },
     "execution_count": 47,
     "metadata": {},
     "output_type": "execute_result"
    }
   ],
   "source": [
    "len(y_train_final[1])"
   ]
  },
  {
   "cell_type": "code",
   "execution_count": 128,
   "id": "a5ce05ec",
   "metadata": {},
   "outputs": [
    {
     "data": {
      "text/plain": [
       "array([  1, 381,  33, 339, 218,   2,   0,   0,   0,   0,   0,   0,   0,\n",
       "         0,   0,   0,   0,   0,   0,   0,   0,   0,   0,   0,   0,   0,\n",
       "         0,   0,   0,   0,   0,   0,   0,   0,   0,   0,   0,   0,   0,\n",
       "         0,   0,   0,   0,   0,   0,   0,   0,   0,   0,   0,   0,   0,\n",
       "         0,   0,   0,   0,   0,   0,   0,   0,   0,   0,   0,   0,   0,\n",
       "         0,   0,   0,   0,   0,   0,   0,   0,   0,   0,   0,   0,   0,\n",
       "         0,   0,   0,   0,   0,   0,   0,   0,   0,   0,   0,   0,   0,\n",
       "         0,   0,   0,   0,   0,   0,   0,   0,   0,   0,   0,   0,   0,\n",
       "         0,   0,   0,   0,   0,   0,   0,   0,   0,   0,   0,   0,   0,\n",
       "         0,   0,   0,   0,   0,   0,   0,   0,   0,   0,   0,   0,   0,\n",
       "         0,   0,   0,   0,   0,   0,   0,   0,   0,   0,   0,   0,   0,\n",
       "         0,   0,   0,   0,   0,   0,   0,   0,   0,   0,   0,   0,   0,\n",
       "         0,   0,   0,   0,   0,   0,   0,   0,   0,   0,   0,   0,   0,\n",
       "         0,   0,   0,   0,   0,   0,   0,   0,   0,   0,   0,   0,   0,\n",
       "         0,   0,   0,   0,   0,   0,   0,   0,   0,   0,   0,   0,   0,\n",
       "         0,   0,   0,   0,   0,   0,   0,   0,   0,   0,   0,   0,   0,\n",
       "         0,   0,   0,   0,   0,   0,   0,   0,   0,   0,   0,   0,   0,\n",
       "         0,   0,   0,   0,   0,   0,   0,   0,   0,   0,   0,   0,   0,\n",
       "         0,   0,   0,   0,   0,   0,   0,   0,   0,   0,   0,   0,   0,\n",
       "         0,   0,   0], dtype=int32)"
      ]
     },
     "execution_count": 128,
     "metadata": {},
     "output_type": "execute_result"
    }
   ],
   "source": [
    "y_train_final[1]"
   ]
  },
  {
   "cell_type": "code",
   "execution_count": 223,
   "id": "28406243",
   "metadata": {},
   "outputs": [],
   "source": [
    "#temp2 = y_train_final.reshape(y_train_final.shape[0],y_train_final.shape[1], 1)\n",
    "#temp2[:, 0:]"
   ]
  },
  {
   "cell_type": "markdown",
   "id": "a24fe12e",
   "metadata": {},
   "source": [
    "#### 10.7.5, DL2AI - Prediction of padding tokens should be excluded from loss calculations."
   ]
  },
  {
   "cell_type": "code",
   "execution_count": 38,
   "id": "9b430b0f",
   "metadata": {},
   "outputs": [],
   "source": [
    "from keras import optimizers\n",
    "from tensorflow import math, equal, cast, float32, reduce_sum\n",
    "from keras.losses import sparse_categorical_crossentropy\n",
    "optimizer_obj = optimizers.RMSprop(learning_rate = 0.0005, clipvalue = 0.5)\n",
    "# Loss function from https://machinelearningmastery.com/training-the-transformer-model/\n",
    "def loss_function(target, prediction):\n",
    "    # Create mask so that the zero padding values are not included in the computation of loss\n",
    "    padding_mask = math.logical_not(equal(target, 0))\n",
    "    padding_mask = cast(padding_mask, float32)\n",
    "    # Compute a sparse categorical cross-entropy loss on the unmasked values\n",
    "    loss = sparse_categorical_crossentropy(target, prediction, from_logits=True) * padding_mask\n",
    "    # Compute the mean loss over the unmasked values\n",
    "    return reduce_sum(loss) / reduce_sum(padding_mask)\n",
    "model.compile(optimizer=optimizer_obj, loss= loss_function)"
   ]
  },
  {
   "cell_type": "code",
   "execution_count": 32,
   "id": "656724ec",
   "metadata": {},
   "outputs": [],
   "source": [
    "tf.config.run_functions_eagerly(True)"
   ]
  },
  {
   "cell_type": "code",
   "execution_count": 36,
   "id": "5d1501b7",
   "metadata": {},
   "outputs": [],
   "source": [
    "es = [EarlyStopping(monitor='val_loss', mode='min', min_delta = 0.0002, verbose=1,patience=2)]"
   ]
  },
  {
   "cell_type": "code",
   "execution_count": 129,
   "id": "44231a9a",
   "metadata": {},
   "outputs": [],
   "source": [
    "#history = model.fit(x_train_final, y_train_final.reshape(y_train_final.shape[0],y_train_final.shape[1], 1)[:, 0:], epochs=20,callbacks=[es],batch_size=64)"
   ]
  },
  {
   "cell_type": "code",
   "execution_count": 39,
   "id": "a4bf228d",
   "metadata": {},
   "outputs": [
    {
     "name": "stdout",
     "output_type": "stream",
     "text": [
      "Epoch 1/20\n",
      "74/74 [==============================] - 14s 181ms/step - loss: 7.3384 - val_loss: 6.9678\n",
      "Epoch 2/20\n",
      "74/74 [==============================] - 13s 182ms/step - loss: 6.7913 - val_loss: 6.8708\n",
      "Epoch 3/20\n",
      "74/74 [==============================] - 13s 179ms/step - loss: 6.6921 - val_loss: 6.8281\n",
      "Epoch 4/20\n",
      "74/74 [==============================] - 13s 181ms/step - loss: 6.6356 - val_loss: 6.7975\n",
      "Epoch 5/20\n",
      "74/74 [==============================] - 14s 184ms/step - loss: 6.5925 - val_loss: 6.7756\n",
      "Epoch 6/20\n",
      "74/74 [==============================] - 13s 181ms/step - loss: 6.5571 - val_loss: 6.7707\n",
      "Epoch 7/20\n",
      "74/74 [==============================] - 13s 180ms/step - loss: 6.5278 - val_loss: 6.7491\n",
      "Epoch 8/20\n",
      "74/74 [==============================] - 15s 196ms/step - loss: 6.5029 - val_loss: 6.7420\n",
      "Epoch 9/20\n",
      "74/74 [==============================] - 15s 200ms/step - loss: 6.4774 - val_loss: 6.7250\n",
      "Epoch 10/20\n",
      "74/74 [==============================] - 14s 195ms/step - loss: 6.4559 - val_loss: 6.7247\n",
      "Epoch 11/20\n",
      "74/74 [==============================] - 17s 235ms/step - loss: 6.4355 - val_loss: 6.7156\n",
      "Epoch 12/20\n",
      "74/74 [==============================] - 17s 228ms/step - loss: 6.4137 - val_loss: 6.7052\n",
      "Epoch 13/20\n",
      "74/74 [==============================] - 16s 210ms/step - loss: 6.3888 - val_loss: 6.6989\n",
      "Epoch 14/20\n",
      "74/74 [==============================] - 14s 191ms/step - loss: 6.3660 - val_loss: 6.6825\n",
      "Epoch 15/20\n",
      "74/74 [==============================] - 14s 190ms/step - loss: 6.3413 - val_loss: 6.6616\n",
      "Epoch 16/20\n",
      "74/74 [==============================] - 14s 190ms/step - loss: 6.3170 - val_loss: 6.6511\n",
      "Epoch 17/20\n",
      "74/74 [==============================] - 14s 186ms/step - loss: 6.2883 - val_loss: 6.6448\n",
      "Epoch 18/20\n",
      "74/74 [==============================] - 15s 196ms/step - loss: 6.2608 - val_loss: 6.6297\n",
      "Epoch 19/20\n",
      "74/74 [==============================] - 15s 196ms/step - loss: 6.2340 - val_loss: 6.6228\n",
      "Epoch 20/20\n",
      "74/74 [==============================] - 15s 201ms/step - loss: 6.2045 - val_loss: 6.5886\n"
     ]
    }
   ],
   "source": [
    "history = model.fit(x_train_final, y_train_final, validation_data = (x_val_final, y_val_final), epochs=50,callbacks=[es],batch_size=64)"
   ]
  },
  {
   "cell_type": "code",
   "execution_count": 40,
   "id": "da220c1d",
   "metadata": {},
   "outputs": [],
   "source": [
    "model.save_weights('saved_models/LSTM_simple.h5', save_format = 'h5')\n",
    "model_json = model.to_json()\n",
    "with open('saved_models/LSTM_simple.json', 'w') as f:\n",
    "    f.write(model_json)"
   ]
  },
  {
   "cell_type": "code",
   "execution_count": 41,
   "id": "3307702c",
   "metadata": {},
   "outputs": [
    {
     "data": {
      "image/png": "[encoded data removed]",
      "text/plain": [
       "<Figure size 640x480 with 1 Axes>"
      ]
     },
     "metadata": {},
     "output_type": "display_data"
    }
   ],
   "source": [
    "from matplotlib import pyplot\n",
    "pyplot.plot(history.history['loss'], label='train')\n",
    "pyplot.plot(history.history['val_loss'], label='test')\n",
    "pyplot.legend()\n",
    "pyplot.show()"
   ]
  },
  {
   "cell_type": "code",
   "execution_count": 42,
   "id": "5ae6adfd",
   "metadata": {},
   "outputs": [],
   "source": [
    "from keras.models import model_from_json\n",
    "from keras import backend as K\n",
    "K.clear_session()\n",
    "with open('saved_models/LSTM_simple.json', 'r') as f:\n",
    "    loaded_json = f.read()\n",
    "    f.close()\n",
    "    loaded_model = model_from_json(loaded_json)\n",
    "loaded_model.load_weights('saved_models/LSTM_simple.h5')\n",
    "\n",
    "from keras import optimizers\n",
    "\n",
    "optimizer_obj = optimizers.RMSprop(learning_rate = 0.0005, clipvalue = 0.5)\n",
    "def loss_function(target, prediction):\n",
    "    # Create mask so that the zero padding values are not included in the computation of loss\n",
    "    padding_mask = math.logical_not(equal(target, 0))\n",
    "    padding_mask = cast(padding_mask, float32)\n",
    "    # Compute a sparse categorical cross-entropy loss on the unmasked values\n",
    "    loss = sparse_categorical_crossentropy(target, prediction, from_logits=True) * padding_mask\n",
    "    # Compute the mean loss over the unmasked values\n",
    "    return reduce_sum(loss) / reduce_sum(padding_mask)\n",
    "loaded_model.compile(optimizer=optimizer_obj, loss=loss_function)"
   ]
  },
  {
   "cell_type": "code",
   "execution_count": 91,
   "id": "9c32773c",
   "metadata": {
    "scrolled": true
   },
   "outputs": [],
   "source": [
    "# temp = loaded_model.predict(y_val_final.reshape(y_val_final.shape[0],y_val_final.shape[1], 1)[:, 0:])\n",
    "# temp[1]"
   ]
  },
  {
   "cell_type": "code",
   "execution_count": 32,
   "id": "0ae6dc19",
   "metadata": {},
   "outputs": [
    {
     "data": {
      "text/plain": [
       "(250, 5487)"
      ]
     },
     "execution_count": 32,
     "metadata": {},
     "output_type": "execute_result"
    }
   ],
   "source": [
    "temp[1].shape\n",
    "### Outputs probability of each word??"
   ]
  },
  {
   "cell_type": "code",
   "execution_count": 33,
   "id": "9498e9ea",
   "metadata": {},
   "outputs": [
    {
     "data": {
      "text/plain": [
       "(250,)"
      ]
     },
     "execution_count": 33,
     "metadata": {},
     "output_type": "execute_result"
    }
   ],
   "source": [
    "y_val_final[1].shape"
   ]
  },
  {
   "cell_type": "markdown",
   "id": "d9f4f6ed",
   "metadata": {},
   "source": [
    "Using early stopping to just get checkpoints, really."
   ]
  },
  {
   "cell_type": "code",
   "execution_count": 213,
   "id": "a6ee97f2",
   "metadata": {},
   "outputs": [],
   "source": [
    "#loading weights after 1 checkpoint\n",
    "#model.load_weights('./MyModel_tf')"
   ]
  },
  {
   "cell_type": "code",
   "execution_count": 137,
   "id": "e4ea7409",
   "metadata": {},
   "outputs": [
    {
     "data": {
      "text/plain": [
       "[PhysicalDevice(name='/physical_device:GPU:0', device_type='GPU')]"
      ]
     },
     "execution_count": 137,
     "metadata": {},
     "output_type": "execute_result"
    }
   ],
   "source": [
    "tf.config.list_physical_devices('GPU')"
   ]
  },
  {
   "cell_type": "code",
   "execution_count": 33,
   "id": "37cec7d3",
   "metadata": {},
   "outputs": [],
   "source": [
    "#history = model.fit([x_train_final,y_train_final[:, :-1]], y_train_final.reshape(y_train_final.shape[0],y_train_final.shape[1], 1)[:, 1:],epochs=100,callbacks=[es],batch_size=128, validation_data=([x_val_final,y_val_final[:, :-1]], y_val_final.reshape(y_val_final.shape[0],y_val_final.shape[1], 1)[:, 1:]))"
   ]
  },
  {
   "cell_type": "code",
   "execution_count": 143,
   "id": "e4bbcca2",
   "metadata": {
    "scrolled": true
   },
   "outputs": [
    {
     "data": {
      "text/plain": [
       "{'loss': [3.769752025604248,\n",
       "  3.769752264022827,\n",
       "  3.76975154876709,\n",
       "  3.7697510719299316,\n",
       "  3.76975154876709,\n",
       "  3.769752025604248],\n",
       " 'val_loss': [3.755042552947998,\n",
       "  3.755042552947998,\n",
       "  3.75504207611084,\n",
       "  3.75504207611084,\n",
       "  3.755042552947998,\n",
       "  3.75504207611084]}"
      ]
     },
     "execution_count": 143,
     "metadata": {},
     "output_type": "execute_result"
    }
   ],
   "source": [
    "history.history"
   ]
  },
  {
   "cell_type": "code",
   "execution_count": 90,
   "id": "76165852",
   "metadata": {
    "scrolled": true
   },
   "outputs": [],
   "source": [
    "#saving the entire model once training is completed.\n",
    "# with open('/trainHistorydict', 'wb') as file:\n",
    "#     pickle.dump(history.history, file)\n",
    "# model.save('saved_models/rkv_LSTM_model_att_augm')"
   ]
  },
  {
   "cell_type": "code",
   "execution_count": 89,
   "id": "13d7403e",
   "metadata": {
    "scrolled": true
   },
   "outputs": [],
   "source": [
    "# from matplotlib import pyplot\n",
    "# pyplot.plot(history.history['loss'], label='train')\n",
    "# pyplot.plot(history.history['val_loss'], label='test')\n",
    "# pyplot.legend()\n",
    "# pyplot.show()\n",
    "# pyplot.savefig('rkv_LSTM_loss and val_loss.png')"
   ]
  },
  {
   "cell_type": "code",
   "execution_count": 227,
   "id": "0f18b167",
   "metadata": {
    "scrolled": true
   },
   "outputs": [],
   "source": [
    "#it's loaded properly, but you can check if you want to\n",
    "#reloaded_model.summary()"
   ]
  },
  {
   "cell_type": "code",
   "execution_count": null,
   "id": "241fc1cd",
   "metadata": {},
   "outputs": [],
   "source": [
    "from tensorflow.keras.models import load_model"
   ]
  },
  {
   "cell_type": "code",
   "execution_count": 99,
   "id": "d9cd761e",
   "metadata": {
    "scrolled": true
   },
   "outputs": [],
   "source": [
    "reloaded_model = load_model('saved_models/rkv_LSTM_model_att_augm')"
   ]
  },
  {
   "cell_type": "code",
   "execution_count": null,
   "id": "291f1552",
   "metadata": {},
   "outputs": [],
   "source": [
    "#Mohan's code follows. Remove comments as needed."
   ]
  },
  {
   "cell_type": "code",
   "execution_count": 43,
   "id": "725f4beb",
   "metadata": {},
   "outputs": [],
   "source": [
    "reverse_target_word_index=y_tokenizer.index_word\n",
    "reverse_source_word_index=x_tokenizer.index_word\n",
    "target_word_index=y_tokenizer.word_index"
   ]
  },
  {
   "cell_type": "code",
   "execution_count": 146,
   "id": "39342033",
   "metadata": {},
   "outputs": [],
   "source": [
    "# encoder_model = Model(inputs=encoder_inputs,outputs=[encoder_outputs_1, state_h1, state_c1])\n",
    "\n",
    "# # Decoder setup\n",
    "# # Below tensors will hold the states of the previous time step\n",
    "# decoder_state_input_h = Input(shape=(hidden_dim,))\n",
    "# decoder_state_input_c = Input(shape=(hidden_dim,))\n",
    "# decoder_hidden_state_input = Input(shape=(max_text_length,hidden_dim))\n",
    "\n",
    "# # Get the embeddings of the decoder sequence\n",
    "# dec_emb2= dec_emb_layer(decoder_inputs) \n",
    "# # To predict the next word in the sequence, set the initial states to the states from the previous time step\n",
    "# decoder_outputs2, state_h2, state_c2 = decoder_LSTM(dec_emb2, initial_state=[decoder_state_input_h, decoder_state_input_c])\n",
    "\n",
    "# #attention inference\n",
    "# attn_out_inf, attn_states_inf = attn_layer([decoder_hidden_state_input, decoder_outputs2])\n",
    "# decoder_inf_concat = Concatenate(axis=-1, name='concat')([decoder_outputs2, attn_out_inf])\n",
    "\n",
    "# # A dense softmax layer to generate prob dist. over the target vocabulary\n",
    "# decoder_outputs3 = decoder_dense(decoder_inf_concat) \n",
    "\n",
    "# # Final decoder model\n",
    "# decoder_model = Model(\n",
    "#     [decoder_inputs] + [decoder_hidden_state_input,decoder_state_input_h, decoder_state_input_c],\n",
    "#     [decoder_outputs3] + [state_h2, state_c2])"
   ]
  },
  {
   "cell_type": "code",
   "execution_count": 44,
   "id": "6692c355",
   "metadata": {
    "scrolled": true
   },
   "outputs": [
    {
     "name": "stdout",
     "output_type": "stream",
     "text": [
      "1/1 [==============================] - 0s 94ms/step\n",
      "2\n",
      "2\n",
      "2\n",
      "2\n",
      "2\n"
     ]
    }
   ],
   "source": [
    "temp = loaded_model.predict(x_val_final[:5])\n",
    "for i in range(5):\n",
    "    print(np.argmax(temp[0, -1, :]))"
   ]
  },
  {
   "cell_type": "code",
   "execution_count": 183,
   "id": "37244ccc",
   "metadata": {},
   "outputs": [
    {
     "name": "stdout",
     "output_type": "stream",
     "text": [
      "(250, 5481)\n",
      "(250, 5481)\n",
      "0.02759415\n"
     ]
    }
   ],
   "source": [
    "print(np.shape(temp[0]))\n",
    "print(np.shape(temp[1]))\n",
    "print(temp[0, 1, 3])\n",
    "# first index - sequence/summary number\n",
    "# second index - word out of 250\n",
    "# third index - probability of each word out of 5481."
   ]
  },
  {
   "cell_type": "code",
   "execution_count": 184,
   "id": "65f2fb13",
   "metadata": {},
   "outputs": [
    {
     "name": "stdout",
     "output_type": "stream",
     "text": [
      "5\n"
     ]
    }
   ],
   "source": [
    "print(np.argmax(temp[0][1]))"
   ]
  },
  {
   "cell_type": "code",
   "execution_count": 88,
   "id": "04901200",
   "metadata": {},
   "outputs": [],
   "source": [
    "#y_val_final[1]"
   ]
  },
  {
   "cell_type": "code",
   "execution_count": 87,
   "id": "62fa97b7",
   "metadata": {},
   "outputs": [
    {
     "name": "stdout",
     "output_type": "stream",
     "text": [
      "5\n",
      "[5.1591013e-07 7.6120917e-04 3.3136684e-04 ... 7.4370764e-06 1.4273202e-05\n",
      " 1.2147870e-05]\n",
      "Reversed target index word :  patient\n"
     ]
    }
   ],
   "source": [
    "print(np.argmax(temp[0, 1]))\n",
    "# Argmax of one word in the first sequence\n",
    "print(temp[0, 1])\n",
    "#\n",
    "print(\"Reversed target index word : \", reverse_target_word_index[5])"
   ]
  },
  {
   "cell_type": "code",
   "execution_count": null,
   "id": "ef434bb4",
   "metadata": {},
   "outputs": [],
   "source": []
  },
  {
   "cell_type": "code",
   "execution_count": 53,
   "id": "250f8f22",
   "metadata": {},
   "outputs": [
    {
     "name": "stdout",
     "output_type": "stream",
     "text": [
      "107\n",
      "[2.98464670e-07 3.31366842e-04 1.66523503e-03 7.98436534e-03\n",
      " 4.49731126e-02 9.51541364e-02 1.17263541e-01 1.26759037e-01\n",
      " 1.55247211e-01 1.26164690e-01 1.15695365e-01 1.23888612e-01\n",
      " 1.28486365e-01 1.06944211e-01 1.02462672e-01 8.99385586e-02\n",
      " 8.42321739e-02 9.64875519e-02 1.15081549e-01 1.31526232e-01\n",
      " 1.40463278e-01 1.44412413e-01 1.47541091e-01 1.51220426e-01\n",
      " 1.60752594e-01 1.68320894e-01 1.68622941e-01 1.66215360e-01\n",
      " 1.63904607e-01 1.62687853e-01 1.62316442e-01 1.62698194e-01\n",
      " 1.63991347e-01 1.65887326e-01 1.67398229e-01 1.67775139e-01\n",
      " 1.68391004e-01 1.68800101e-01 1.69179916e-01 1.69559151e-01\n",
      " 1.69893920e-01 1.70022354e-01 1.69988692e-01 1.70179754e-01\n",
      " 1.70397267e-01 1.70228153e-01 1.70822322e-01 1.70868203e-01\n",
      " 1.70906648e-01 1.70748472e-01 1.70802742e-01 1.70901299e-01\n",
      " 1.70943350e-01 1.70824692e-01 1.70582086e-01 1.70386925e-01\n",
      " 1.70470223e-01 1.70912400e-01 1.71067193e-01 1.71146914e-01\n",
      " 1.71048313e-01 1.70969948e-01 1.71123177e-01 1.71174690e-01\n",
      " 1.71268776e-01 1.71337157e-01 1.71389833e-01 1.71431169e-01\n",
      " 1.71463937e-01 1.71490178e-01 1.71511218e-01 1.71528116e-01\n",
      " 1.71542093e-01 1.71553850e-01 1.71563208e-01 1.71570942e-01\n",
      " 1.71577454e-01 1.71582818e-01 1.71587214e-01 1.71590939e-01\n",
      " 1.71593979e-01 1.71596691e-01 1.71598852e-01 1.71600506e-01\n",
      " 1.71601996e-01 1.71603188e-01 1.71604291e-01 1.71605021e-01\n",
      " 1.71605632e-01 1.71606302e-01 1.71606854e-01 1.71607271e-01\n",
      " 1.71607524e-01 1.71607882e-01 1.71608046e-01 1.71608269e-01\n",
      " 1.71608418e-01 1.71608418e-01 1.71608627e-01 1.71608672e-01\n",
      " 1.71608761e-01 1.71608791e-01 1.71608910e-01 1.71608910e-01\n",
      " 1.71608895e-01 1.71608865e-01 1.71608865e-01 1.71608925e-01\n",
      " 1.71608895e-01 1.71608880e-01 1.71608865e-01 1.71608806e-01\n",
      " 1.71608776e-01 1.71608776e-01 1.71608761e-01 1.71608761e-01\n",
      " 1.71608731e-01 1.71608731e-01 1.71608731e-01 1.71608731e-01\n",
      " 1.71608716e-01 1.71608627e-01 1.71608612e-01 1.71608612e-01\n",
      " 1.71608612e-01 1.71608672e-01 1.71608672e-01 1.71608657e-01\n",
      " 1.71608731e-01 1.71608642e-01 1.71608731e-01 1.71608642e-01\n",
      " 1.71608642e-01 1.71608642e-01 1.71608642e-01 1.71608567e-01\n",
      " 1.71608552e-01 1.71608552e-01 1.71608552e-01 1.71608552e-01\n",
      " 1.71608537e-01 1.71608537e-01 1.71608537e-01 1.71608537e-01\n",
      " 1.71608537e-01 1.71608537e-01 1.71608537e-01 1.71608537e-01\n",
      " 1.71608537e-01 1.71608537e-01 1.71608537e-01 1.71608537e-01\n",
      " 1.71608537e-01 1.71608537e-01 1.71608537e-01 1.71608537e-01\n",
      " 1.71608537e-01 1.71608537e-01 1.71608537e-01 1.71608537e-01\n",
      " 1.71608537e-01 1.71608537e-01 1.71608537e-01 1.71608537e-01\n",
      " 1.71608537e-01 1.71608537e-01 1.71608537e-01 1.71608537e-01\n",
      " 1.71608537e-01 1.71608537e-01 1.71608537e-01 1.71608537e-01\n",
      " 1.71608537e-01 1.71608537e-01 1.71608537e-01 1.71608537e-01\n",
      " 1.71608537e-01 1.71608537e-01 1.71608537e-01 1.71608537e-01\n",
      " 1.71608537e-01 1.71608537e-01 1.71608537e-01 1.71608537e-01\n",
      " 1.71608537e-01 1.71608537e-01 1.71608537e-01 1.71608537e-01\n",
      " 1.71608537e-01 1.71608537e-01 1.71608537e-01 1.71608537e-01\n",
      " 1.71608537e-01 1.71608537e-01 1.71608537e-01 1.71608537e-01\n",
      " 1.71608537e-01 1.71608537e-01 1.71608537e-01 1.71608537e-01\n",
      " 1.71608537e-01 1.71608537e-01 1.71608537e-01 1.71608537e-01\n",
      " 1.71608537e-01 1.71608537e-01 1.71608537e-01 1.71608537e-01\n",
      " 1.71608537e-01 1.71608537e-01 1.71608537e-01 1.71608537e-01\n",
      " 1.71608537e-01 1.71608537e-01 1.71608537e-01 1.71608537e-01\n",
      " 1.71608537e-01 1.71608537e-01 1.71608537e-01 1.71608537e-01\n",
      " 1.71608537e-01 1.71608537e-01 1.71608537e-01 1.71608537e-01\n",
      " 1.71608537e-01 1.71608537e-01 1.71608537e-01 1.71608537e-01\n",
      " 1.71608537e-01 1.71608537e-01 1.71608537e-01 1.71608537e-01\n",
      " 1.71608537e-01 1.71608537e-01 1.71608537e-01 1.71608537e-01\n",
      " 1.71608537e-01 1.71608537e-01 1.71608537e-01 1.71608537e-01\n",
      " 1.71608537e-01 1.71608537e-01 1.71608537e-01 1.71608537e-01\n",
      " 1.71608537e-01 1.71608537e-01 1.71608537e-01 1.71608537e-01\n",
      " 1.71608537e-01 1.71608537e-01]\n",
      "Reversed target index word :  symptoms\n"
     ]
    }
   ],
   "source": [
    "print(np.argmax(temp[0, :, 2], axis = 0))\n",
    "print(temp[0, :, 2])\n",
    "print(\"Reversed target index word : \", reverse_target_word_index[107])\n",
    "# The mask has made these probabilities look a lot better."
   ]
  },
  {
   "cell_type": "code",
   "execution_count": 168,
   "id": "6766d39e",
   "metadata": {},
   "outputs": [
    {
     "data": {
      "text/plain": [
       "5481"
      ]
     },
     "execution_count": 168,
     "metadata": {},
     "output_type": "execute_result"
    }
   ],
   "source": [
    "len(np.argmax(temp[0, :], axis = 0))"
   ]
  },
  {
   "cell_type": "code",
   "execution_count": 185,
   "id": "26eccef3",
   "metadata": {},
   "outputs": [],
   "source": [
    "def decode_sequence(input_seq):\n",
    "    # Encoder outputs\n",
    "    e_out = loaded_model.predict(input_seq)\n",
    "    target_seq = np.zeros((1,1))\n",
    "    target_seq[0, 0] = target_word_index['bos']\n",
    "\n",
    "    stop_condition = False\n",
    "    decoded_sentence = ''\n",
    "    count = 0\n",
    "    while not stop_condition:\n",
    "        \n",
    "        # Decoder outputs, hidden state and context layer\n",
    "        output_tokens = loaded_model.predict(input_seq)\n",
    "        \n",
    "        sampled_token_index = np.argmax(output_tokens[0][count], axis = 0)\n",
    "        sampled_token = reverse_target_word_index[sampled_token_index]\n",
    "        \n",
    "        if(sampled_token!='eos'):\n",
    "            decoded_sentence += ' '+sampled_token\n",
    "            count += 1\n",
    "            \n",
    "        if (sampled_token == 'eos' or count >= 30 or len(decoded_sentence.split()) >= (30)):\n",
    "            count += 1\n",
    "            stop_condition = True\n",
    "\n",
    "        target_seq = np.zeros((1,1))\n",
    "        target_seq[0, 0] = sampled_token_index\n",
    "\n",
    "    return decoded_sentence"
   ]
  },
  {
   "cell_type": "code",
   "execution_count": 57,
   "id": "ae9bbcf5",
   "metadata": {},
   "outputs": [],
   "source": [
    "def decode_sequence_2(input_seq):\n",
    "    # Encoder outputs\n",
    "    e_out = loaded_model.predict(input_seq)\n",
    "    print(\"e_out shape: \", np.shape(e_out))\n",
    "    num_sequences = len(e_out)\n",
    "    target_seq = np.zeros((1,1))\n",
    "    target_seq[0, 0] = target_word_index['bos']\n",
    "\n",
    "    stop_condition = False\n",
    "    decoded_sentences = []\n",
    "    sequence_count = 0\n",
    "    word_count = 0\n",
    "    while sequence_count < num_sequences:\n",
    "        # Re-initializing all these variables we use\n",
    "        decoded_sentence = ''\n",
    "        word_count = 0\n",
    "        EOS_count = 0\n",
    "        stop_condition = False\n",
    "        while word_count < 30 and stop_condition == False:\n",
    "            output_tokens = e_out[sequence_count][word_count]\n",
    "            sampled_token_index = np.argmax(output_tokens)\n",
    "            sampled_token = reverse_target_word_index[sampled_token_index]\n",
    "            if (sampled_token!='eos'):\n",
    "                decoded_sentence += ' '+sampled_token\n",
    "                word_count += 1\n",
    "            if (sampled_token == 'eos' and word_count <= 30):\n",
    "                #decoded_sentence += ' '+sampled_token\n",
    "                word_count += 1\n",
    "                EOS_count += 1\n",
    "                #stop_condition = True\n",
    "                \n",
    "        print(\"EOS detected: \", EOS_count)\n",
    "        decoded_sentences.append(decoded_sentence)\n",
    "        sequence_count += 1\n",
    "    return decoded_sentences"
   ]
  },
  {
   "cell_type": "code",
   "execution_count": 58,
   "id": "98635b0c",
   "metadata": {},
   "outputs": [
    {
     "name": "stdout",
     "output_type": "stream",
     "text": [
      "1/1 [==============================] - 0s 72ms/step\n",
      "e_out shape:  (5, 250, 5481)\n",
      "EOS detected:  26\n",
      "EOS detected:  26\n",
      "EOS detected:  26\n",
      "EOS detected:  26\n",
      "EOS detected:  26\n"
     ]
    },
    {
     "data": {
      "text/plain": [
       "[' bos patient year old',\n",
       " ' bos patient year old',\n",
       " ' bos patient year old',\n",
       " ' bos patient year old',\n",
       " ' bos patient year old']"
      ]
     },
     "execution_count": 58,
     "metadata": {},
     "output_type": "execute_result"
    }
   ],
   "source": [
    "decode_sequence_2(x_val_final[:5])"
   ]
  },
  {
   "cell_type": "code",
   "execution_count": 47,
   "id": "c1eeb6e4",
   "metadata": {},
   "outputs": [],
   "source": [
    "def seq2summary(input_seq):\n",
    "    newString=''\n",
    "    all_words = set(reverse_target_word_index.keys())\n",
    "    for i in input_seq:\n",
    "        if((i!=0 and i!=target_word_index['bos']) and i!=target_word_index['eos'] and i in all_words):\n",
    "            newString=newString+reverse_target_word_index[i]+' '\n",
    "    return newString\n",
    "\n",
    "def seq2transcript(input_seq):\n",
    "    newString=''\n",
    "    for i in input_seq:\n",
    "        if(i!=0):\n",
    "            newString=newString+reverse_source_word_index[i]+' '\n",
    "    return newString"
   ]
  },
  {
   "cell_type": "code",
   "execution_count": 69,
   "id": "20356d84",
   "metadata": {},
   "outputs": [],
   "source": [
    "orig_dataset = pd.read_csv('mtsamples.csv')\n",
    "orig_dataset.drop(\"Unnamed: 0\", axis = 1, inplace=True)\n",
    "orig_dataset.drop(\"keywords\", axis = 1, inplace=True)\n",
    "orig_dataset.drop_duplicates()\n",
    "orig_dataset.dropna(axis = 0, inplace = True)"
   ]
  },
  {
   "cell_type": "code",
   "execution_count": 195,
   "id": "35cea9de",
   "metadata": {},
   "outputs": [
    {
     "data": {
      "text/plain": [
       "array([[   17,     4,   197,   582,     5,   113,   538,   277,  2481,\n",
       "         2691,  3607,  4949,     4,   113,     3,   500,  1205,     8,\n",
       "         1044,   460,    11,   358, 10618,  1687,    14,     8,     2,\n",
       "         1032,    13,     8,   868,  2303,  1472,  5804,    39,     8,\n",
       "            3,  1032,     3,   500,  1044,   460,  2480,     5,     5,\n",
       "            4,   538,  1648,   856,   102,   538,   277,     4,   113,\n",
       "         2303,  1648,   113,   952,     2,    94,  1571,   236,  1311,\n",
       "          663,  1773,  1588,     5,     8,     3,  1032,     4,   358,\n",
       "        10618,  1687,    11,   113,  2303,  1648,   113,   952,     2,\n",
       "           94,  1571,    16,     0,     0,     0,     0,     0,     0,\n",
       "            0,     0,     0,     0,     0,     0,     0,     0,     0,\n",
       "            0,     0,     0,     0,     0,     0,     0,     0,     0,\n",
       "            0,     0,     0,     0,     0,     0,     0,     0,     0,\n",
       "            0,     0,     0,     0,     0,     0,     0,     0,     0,\n",
       "            0,     0,     0,     0,     0,     0,     0,     0,     0,\n",
       "            0,     0,     0,     0,     0,     0,     0,     0,     0,\n",
       "            0,     0,     0,     0,     0,     0,     0,     0,     0,\n",
       "            0,     0,     0,     0,     0,     0,     0,     0,     0,\n",
       "            0,     0,     0,     0,     0,     0,     0,     0,     0,\n",
       "            0,     0,     0,     0,     0,     0,     0,     0,     0,\n",
       "            0,     0,     0,     0,     0,     0,     0,     0,     0,\n",
       "            0,     0,     0,     0,     0,     0,     0,     0,     0,\n",
       "            0,     0,     0,     0,     0,     0,     0,     0,     0,\n",
       "            0,     0,     0,     0,     0,     0,     0,     0,     0,\n",
       "            0,     0,     0,     0,     0,     0,     0,     0,     0,\n",
       "            0,     0,     0,     0,     0,     0,     0,     0,     0,\n",
       "            0,     0,     0,     0,     0,     0,     0,     0,     0,\n",
       "            0,     0,     0,     0,     0,     0,     0]], dtype=int32)"
      ]
     },
     "execution_count": 195,
     "metadata": {},
     "output_type": "execute_result"
    }
   ],
   "source": [
    "x_train_final[5].reshape(1, max_text_length)"
   ]
  },
  {
   "cell_type": "code",
   "execution_count": 199,
   "id": "6cd62325",
   "metadata": {},
   "outputs": [
    {
     "data": {
      "text/plain": [
       "array([[ 17,  74, 127, ..., 790, 700,  25],\n",
       "       [ 17,   4, 197, ...,   0,   0,   0],\n",
       "       [ 17,  74,  36, ...,   0,   0,   0],\n",
       "       [ 17, 422,   5, ...,   0,   0,   0],\n",
       "       [ 17,  74,  36, ...,   0,   0,   0]], dtype=int32)"
      ]
     },
     "execution_count": 199,
     "metadata": {},
     "output_type": "execute_result"
    }
   ],
   "source": [
    "x_train_final[:5]"
   ]
  },
  {
   "cell_type": "code",
   "execution_count": 48,
   "id": "8f6e2b81",
   "metadata": {
    "scrolled": true
   },
   "outputs": [
    {
     "name": "stdout",
     "output_type": "stream",
     "text": [
      "1/1 [==============================] - 0s 77ms/step\n",
      "e_out shape:  (10, 250, 5481)\n"
     ]
    },
    {
     "data": {
      "text/plain": [
       "{'rouge1': AggregateScore(low=Score(precision=0.0, recall=0.0, fmeasure=0.0), mid=Score(precision=0.10606060606060605, recall=0.061983471074380174, fmeasure=0.06684491978609626), high=Score(precision=0.22424242424242424, recall=0.15794306703397612, fmeasure=0.1728854180253032)),\n",
       " 'rouge2': AggregateScore(low=Score(precision=0.0, recall=0.0, fmeasure=0.0), mid=Score(precision=0.04090909090909091, recall=0.01168831168831169, fmeasure=0.016783216783216783), high=Score(precision=0.09999999999999999, recall=0.03509740259740257, fmeasure=0.048484848484848485)),\n",
       " 'rougeL': AggregateScore(low=Score(precision=0.0, recall=0.0, fmeasure=0.0), mid=Score(precision=0.11212121212121212, recall=0.061983471074380174, fmeasure=0.06684491978609626), high=Score(precision=0.21825757575757573, recall=0.15794306703397612, fmeasure=0.17184035476718404)),\n",
       " 'rougeLsum': AggregateScore(low=Score(precision=0.0303030303030303, recall=0.00505050505050505, fmeasure=0.008869179600886916), mid=Score(precision=0.10757575757575757, recall=0.061983471074380174, fmeasure=0.06684491978609626), high=Score(precision=0.23939393939393938, recall=0.1694214876033058, fmeasure=0.18436154949784794))}"
      ]
     },
     "execution_count": 48,
     "metadata": {},
     "output_type": "execute_result"
    }
   ],
   "source": [
    "from datasets import load_metric\n",
    "import csv\n",
    "\n",
    "metric = load_metric(\"rouge\")\n",
    "data1 = pd.read_csv(\"mtsamples.csv\") \n",
    "\n",
    "transcriptions_100 = []\n",
    "actual_summaries_100 = []\n",
    "predicted_summaries_100 = []\n",
    "\n",
    "transcriptions_100.append('transcription')\n",
    "actual_summaries_100.append('actual_summaries')\n",
    "predicted_summaries_100.append('predicted_summaries')\n",
    "\n",
    "for i in range(10):\n",
    "    transcription_data = data1['transcription'][i]\n",
    "    transcriptions_100.append(data1['transcription'][i])\n",
    "    actual_summaries_100.append(data1['description'][i])\n",
    "    \n",
    "pred_summary = decode_sequence_2(x_train_final[:10])\n",
    "for item in pred_summary:\n",
    "    predicted_summaries_100.append(item)\n",
    "\n",
    "rows = zip(transcriptions_100, actual_summaries_100, predicted_summaries_100)\n",
    "\n",
    "with open('mtsamples_output_100.csv', \"w\") as f:\n",
    "    writer = csv.writer(f)\n",
    "    for row in rows:\n",
    "        writer.writerow(row)\n",
    "\n",
    "metric.compute(predictions=predicted_summaries_100, references=actual_summaries_100)"
   ]
  },
  {
   "cell_type": "code",
   "execution_count": 187,
   "id": "5062d041",
   "metadata": {
    "scrolled": true
   },
   "outputs": [
    {
     "name": "stdout",
     "output_type": "stream",
     "text": [
      "original :   Consult for laparoscopic gastric bypass.\n",
      "predicted :   bos patient year old\n"
     ]
    }
   ],
   "source": [
    "print(\"original : \", actual_summaries_100[3])\n",
    "print(\"predicted : \", predicted_summaries_100[3])"
   ]
  },
  {
   "cell_type": "code",
   "execution_count": 193,
   "id": "8e2a9e9d",
   "metadata": {},
   "outputs": [
    {
     "name": "stdout",
     "output_type": "stream",
     "text": [
      "original :   2-D Echocardiogram\n",
      "predicted :   bos patient year old\n"
     ]
    }
   ],
   "source": [
    "print(\"original : \", actual_summaries_100[5])\n",
    "print(\"predicted : \", predicted_summaries_100[7])"
   ]
  },
  {
   "cell_type": "code",
   "execution_count": 49,
   "id": "8e7d9f95",
   "metadata": {},
   "outputs": [
    {
     "data": {
      "text/plain": [
       "['predicted_summaries',\n",
       " ' bos patient year old right eos',\n",
       " ' bos patient year old eos',\n",
       " ' bos patient year old right eos',\n",
       " ' bos patient year old eos',\n",
       " ' bos patient year old right right eos',\n",
       " ' bos patient year old eos',\n",
       " ' bos patient year old eos',\n",
       " ' bos patient year old eos',\n",
       " ' bos patient year old right eos',\n",
       " ' bos patient year old eos']"
      ]
     },
     "execution_count": 49,
     "metadata": {},
     "output_type": "execute_result"
    }
   ],
   "source": [
    "predicted_summaries_100"
   ]
  },
  {
   "cell_type": "markdown",
   "id": "4f06e4dd",
   "metadata": {},
   "source": [
    "### These aren't uncommon sentences - nearly every transcription talks about the patient and their age. However, this can still be significantly improved."
   ]
  }
 ],
 "metadata": {
  "kernelspec": {
   "display_name": "Python 3 (ipykernel)",
   "language": "python",
   "name": "python3"
  },
  "language_info": {
   "codemirror_mode": {
    "name": "ipython",
    "version": 3
   },
   "file_extension": ".py",
   "mimetype": "text/x-python",
   "name": "python",
   "nbconvert_exporter": "python",
   "pygments_lexer": "ipython3",
   "version": "3.9.13"
  }
 },
 "nbformat": 4,
 "nbformat_minor": 5
}
