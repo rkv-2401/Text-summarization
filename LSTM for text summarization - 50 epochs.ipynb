{
 "cells": [
  {
   "cell_type": "code",
   "execution_count": 1,
   "id": "141eb507",
   "metadata": {},
   "outputs": [],
   "source": [
    "import random\n",
    "import numpy as np\n",
    "import pandas as pd\n",
    "import re\n",
    "import matplotlib.pyplot as plt\n",
    "import nltk\n",
    "import warnings\n",
    "warnings.filterwarnings(\"ignore\")\n",
    "from nltk.tokenize import WhitespaceTokenizer\n",
    "from nltk import sent_tokenize\n",
    "from tqdm import tqdm\n",
    "from sklearn.feature_extraction.text import CountVectorizer\n",
    "from nltk.stem import WordNetLemmatizer\n",
    "from nltk.corpus import stopwords"
   ]
  },
  {
   "cell_type": "markdown",
   "id": "6312f031",
   "metadata": {},
   "source": [
    "Length of text input - 250 words\n",
    "\n",
    "EDA and preprocessing ||\n",
    "removed contractions, stop words, certain punctuation, dropped rows w/ na values ||\n",
    "dataset visualized and EDA carried out ||\n",
    "data augmentation NOT applied ||\n",
    "\n",
    "##DETAILS ABOUT MODEL:\n",
    "\n",
    "layers - \n",
    "encoder -> LSTM1-> LSTM2 -> decoder \n",
    "decoder + LSTM2 -> attention\n",
    "decoder + attention -> dense layer ||\n",
    "\n",
    "hidden dim size - 70, embedding dim size - 30 ||\n",
    "\n",
    "training parameters: batch size 128, epochs 200, early stopping after 20 epochs of no change"
   ]
  },
  {
   "cell_type": "code",
   "execution_count": 2,
   "id": "4f547376",
   "metadata": {},
   "outputs": [],
   "source": [
    "dataset = pd.read_csv('mtsamples.csv')\n",
    "dataset.drop(\"Unnamed: 0\", axis = 1, inplace=True)\n",
    "dataset.drop(\"keywords\", axis = 1, inplace=True)"
   ]
  },
  {
   "cell_type": "code",
   "execution_count": 3,
   "id": "402e247c",
   "metadata": {
    "scrolled": true
   },
   "outputs": [
    {
     "data": {
      "text/html": [
       "<div>\n",
       "<style scoped>\n",
       "    .dataframe tbody tr th:only-of-type {\n",
       "        vertical-align: middle;\n",
       "    }\n",
       "\n",
       "    .dataframe tbody tr th {\n",
       "        vertical-align: top;\n",
       "    }\n",
       "\n",
       "    .dataframe thead th {\n",
       "        text-align: right;\n",
       "    }\n",
       "</style>\n",
       "<table border=\"1\" class=\"dataframe\">\n",
       "  <thead>\n",
       "    <tr style=\"text-align: right;\">\n",
       "      <th></th>\n",
       "      <th>description</th>\n",
       "      <th>medical_specialty</th>\n",
       "      <th>sample_name</th>\n",
       "      <th>transcription</th>\n",
       "    </tr>\n",
       "  </thead>\n",
       "  <tbody>\n",
       "    <tr>\n",
       "      <th>0</th>\n",
       "      <td>A 23-year-old white female presents with comp...</td>\n",
       "      <td>Allergy / Immunology</td>\n",
       "      <td>Allergic Rhinitis</td>\n",
       "      <td>SUBJECTIVE:,  This 23-year-old white female pr...</td>\n",
       "    </tr>\n",
       "    <tr>\n",
       "      <th>1</th>\n",
       "      <td>Consult for laparoscopic gastric bypass.</td>\n",
       "      <td>Bariatrics</td>\n",
       "      <td>Laparoscopic Gastric Bypass Consult - 2</td>\n",
       "      <td>PAST MEDICAL HISTORY:, He has difficulty climb...</td>\n",
       "    </tr>\n",
       "    <tr>\n",
       "      <th>2</th>\n",
       "      <td>Consult for laparoscopic gastric bypass.</td>\n",
       "      <td>Bariatrics</td>\n",
       "      <td>Laparoscopic Gastric Bypass Consult - 1</td>\n",
       "      <td>HISTORY OF PRESENT ILLNESS: , I have seen ABC ...</td>\n",
       "    </tr>\n",
       "    <tr>\n",
       "      <th>3</th>\n",
       "      <td>2-D M-Mode. Doppler.</td>\n",
       "      <td>Cardiovascular / Pulmonary</td>\n",
       "      <td>2-D Echocardiogram - 1</td>\n",
       "      <td>2-D M-MODE: , ,1.  Left atrial enlargement wit...</td>\n",
       "    </tr>\n",
       "    <tr>\n",
       "      <th>4</th>\n",
       "      <td>2-D Echocardiogram</td>\n",
       "      <td>Cardiovascular / Pulmonary</td>\n",
       "      <td>2-D Echocardiogram - 2</td>\n",
       "      <td>1.  The left ventricular cavity size and wall ...</td>\n",
       "    </tr>\n",
       "    <tr>\n",
       "      <th>...</th>\n",
       "      <td>...</td>\n",
       "      <td>...</td>\n",
       "      <td>...</td>\n",
       "      <td>...</td>\n",
       "    </tr>\n",
       "    <tr>\n",
       "      <th>4994</th>\n",
       "      <td>Patient having severe sinusitis about two to ...</td>\n",
       "      <td>Allergy / Immunology</td>\n",
       "      <td>Chronic Sinusitis</td>\n",
       "      <td>HISTORY:,  I had the pleasure of meeting and e...</td>\n",
       "    </tr>\n",
       "    <tr>\n",
       "      <th>4995</th>\n",
       "      <td>This is a 14-month-old baby boy Caucasian who...</td>\n",
       "      <td>Allergy / Immunology</td>\n",
       "      <td>Kawasaki Disease - Discharge Summary</td>\n",
       "      <td>ADMITTING DIAGNOSIS: , Kawasaki disease.,DISCH...</td>\n",
       "    </tr>\n",
       "    <tr>\n",
       "      <th>4996</th>\n",
       "      <td>A female for a complete physical and follow u...</td>\n",
       "      <td>Allergy / Immunology</td>\n",
       "      <td>Followup on Asthma</td>\n",
       "      <td>SUBJECTIVE: , This is a 42-year-old white fema...</td>\n",
       "    </tr>\n",
       "    <tr>\n",
       "      <th>4997</th>\n",
       "      <td>Mother states he has been wheezing and coughing.</td>\n",
       "      <td>Allergy / Immunology</td>\n",
       "      <td>Asthma in a 5-year-old</td>\n",
       "      <td>CHIEF COMPLAINT: , This 5-year-old male presen...</td>\n",
       "    </tr>\n",
       "    <tr>\n",
       "      <th>4998</th>\n",
       "      <td>Acute allergic reaction, etiology uncertain, ...</td>\n",
       "      <td>Allergy / Immunology</td>\n",
       "      <td>Allergy Evaluation Consult</td>\n",
       "      <td>HISTORY: , A 34-year-old male presents today s...</td>\n",
       "    </tr>\n",
       "  </tbody>\n",
       "</table>\n",
       "<p>4999 rows × 4 columns</p>\n",
       "</div>"
      ],
      "text/plain": [
       "                                            description  \\\n",
       "0      A 23-year-old white female presents with comp...   \n",
       "1              Consult for laparoscopic gastric bypass.   \n",
       "2              Consult for laparoscopic gastric bypass.   \n",
       "3                                2-D M-Mode. Doppler.     \n",
       "4                                    2-D Echocardiogram   \n",
       "...                                                 ...   \n",
       "4994   Patient having severe sinusitis about two to ...   \n",
       "4995   This is a 14-month-old baby boy Caucasian who...   \n",
       "4996   A female for a complete physical and follow u...   \n",
       "4997   Mother states he has been wheezing and coughing.   \n",
       "4998   Acute allergic reaction, etiology uncertain, ...   \n",
       "\n",
       "                medical_specialty                                sample_name  \\\n",
       "0            Allergy / Immunology                         Allergic Rhinitis    \n",
       "1                      Bariatrics   Laparoscopic Gastric Bypass Consult - 2    \n",
       "2                      Bariatrics   Laparoscopic Gastric Bypass Consult - 1    \n",
       "3      Cardiovascular / Pulmonary                    2-D Echocardiogram - 1    \n",
       "4      Cardiovascular / Pulmonary                    2-D Echocardiogram - 2    \n",
       "...                           ...                                        ...   \n",
       "4994         Allergy / Immunology                         Chronic Sinusitis    \n",
       "4995         Allergy / Immunology      Kawasaki Disease - Discharge Summary    \n",
       "4996         Allergy / Immunology                        Followup on Asthma    \n",
       "4997         Allergy / Immunology                    Asthma in a 5-year-old    \n",
       "4998         Allergy / Immunology                Allergy Evaluation Consult    \n",
       "\n",
       "                                          transcription  \n",
       "0     SUBJECTIVE:,  This 23-year-old white female pr...  \n",
       "1     PAST MEDICAL HISTORY:, He has difficulty climb...  \n",
       "2     HISTORY OF PRESENT ILLNESS: , I have seen ABC ...  \n",
       "3     2-D M-MODE: , ,1.  Left atrial enlargement wit...  \n",
       "4     1.  The left ventricular cavity size and wall ...  \n",
       "...                                                 ...  \n",
       "4994  HISTORY:,  I had the pleasure of meeting and e...  \n",
       "4995  ADMITTING DIAGNOSIS: , Kawasaki disease.,DISCH...  \n",
       "4996  SUBJECTIVE: , This is a 42-year-old white fema...  \n",
       "4997  CHIEF COMPLAINT: , This 5-year-old male presen...  \n",
       "4998  HISTORY: , A 34-year-old male presents today s...  \n",
       "\n",
       "[4999 rows x 4 columns]"
      ]
     },
     "execution_count": 3,
     "metadata": {},
     "output_type": "execute_result"
    }
   ],
   "source": [
    "dataset.drop_duplicates()"
   ]
  },
  {
   "cell_type": "code",
   "execution_count": 4,
   "id": "fcd869b4",
   "metadata": {},
   "outputs": [
    {
     "data": {
      "text/plain": [
       "(4999, 4)"
      ]
     },
     "execution_count": 4,
     "metadata": {},
     "output_type": "execute_result"
    }
   ],
   "source": [
    "dataset.shape"
   ]
  },
  {
   "cell_type": "code",
   "execution_count": 5,
   "id": "a7bcd967",
   "metadata": {
    "scrolled": true
   },
   "outputs": [
    {
     "data": {
      "text/html": [
       "<div>\n",
       "<style scoped>\n",
       "    .dataframe tbody tr th:only-of-type {\n",
       "        vertical-align: middle;\n",
       "    }\n",
       "\n",
       "    .dataframe tbody tr th {\n",
       "        vertical-align: top;\n",
       "    }\n",
       "\n",
       "    .dataframe thead th {\n",
       "        text-align: right;\n",
       "    }\n",
       "</style>\n",
       "<table border=\"1\" class=\"dataframe\">\n",
       "  <thead>\n",
       "    <tr style=\"text-align: right;\">\n",
       "      <th></th>\n",
       "      <th>description</th>\n",
       "      <th>medical_specialty</th>\n",
       "      <th>sample_name</th>\n",
       "      <th>transcription</th>\n",
       "    </tr>\n",
       "  </thead>\n",
       "  <tbody>\n",
       "    <tr>\n",
       "      <th>0</th>\n",
       "      <td>A 23-year-old white female presents with comp...</td>\n",
       "      <td>Allergy / Immunology</td>\n",
       "      <td>Allergic Rhinitis</td>\n",
       "      <td>SUBJECTIVE:,  This 23-year-old white female pr...</td>\n",
       "    </tr>\n",
       "    <tr>\n",
       "      <th>1</th>\n",
       "      <td>Consult for laparoscopic gastric bypass.</td>\n",
       "      <td>Bariatrics</td>\n",
       "      <td>Laparoscopic Gastric Bypass Consult - 2</td>\n",
       "      <td>PAST MEDICAL HISTORY:, He has difficulty climb...</td>\n",
       "    </tr>\n",
       "    <tr>\n",
       "      <th>2</th>\n",
       "      <td>Consult for laparoscopic gastric bypass.</td>\n",
       "      <td>Bariatrics</td>\n",
       "      <td>Laparoscopic Gastric Bypass Consult - 1</td>\n",
       "      <td>HISTORY OF PRESENT ILLNESS: , I have seen ABC ...</td>\n",
       "    </tr>\n",
       "    <tr>\n",
       "      <th>3</th>\n",
       "      <td>2-D M-Mode. Doppler.</td>\n",
       "      <td>Cardiovascular / Pulmonary</td>\n",
       "      <td>2-D Echocardiogram - 1</td>\n",
       "      <td>2-D M-MODE: , ,1.  Left atrial enlargement wit...</td>\n",
       "    </tr>\n",
       "    <tr>\n",
       "      <th>4</th>\n",
       "      <td>2-D Echocardiogram</td>\n",
       "      <td>Cardiovascular / Pulmonary</td>\n",
       "      <td>2-D Echocardiogram - 2</td>\n",
       "      <td>1.  The left ventricular cavity size and wall ...</td>\n",
       "    </tr>\n",
       "  </tbody>\n",
       "</table>\n",
       "</div>"
      ],
      "text/plain": [
       "                                         description  \\\n",
       "0   A 23-year-old white female presents with comp...   \n",
       "1           Consult for laparoscopic gastric bypass.   \n",
       "2           Consult for laparoscopic gastric bypass.   \n",
       "3                             2-D M-Mode. Doppler.     \n",
       "4                                 2-D Echocardiogram   \n",
       "\n",
       "             medical_specialty                                sample_name  \\\n",
       "0         Allergy / Immunology                         Allergic Rhinitis    \n",
       "1                   Bariatrics   Laparoscopic Gastric Bypass Consult - 2    \n",
       "2                   Bariatrics   Laparoscopic Gastric Bypass Consult - 1    \n",
       "3   Cardiovascular / Pulmonary                    2-D Echocardiogram - 1    \n",
       "4   Cardiovascular / Pulmonary                    2-D Echocardiogram - 2    \n",
       "\n",
       "                                       transcription  \n",
       "0  SUBJECTIVE:,  This 23-year-old white female pr...  \n",
       "1  PAST MEDICAL HISTORY:, He has difficulty climb...  \n",
       "2  HISTORY OF PRESENT ILLNESS: , I have seen ABC ...  \n",
       "3  2-D M-MODE: , ,1.  Left atrial enlargement wit...  \n",
       "4  1.  The left ventricular cavity size and wall ...  "
      ]
     },
     "execution_count": 5,
     "metadata": {},
     "output_type": "execute_result"
    }
   ],
   "source": [
    "dataset.head()"
   ]
  },
  {
   "cell_type": "code",
   "execution_count": 6,
   "id": "9c6c0716",
   "metadata": {},
   "outputs": [],
   "source": [
    "#if package not found - run the next line of code\n",
    "#nltk.download('stopwords')\n",
    "#from nltk.corpus import stopwords\n",
    "stop_words = set(stopwords.words('english'))"
   ]
  },
  {
   "cell_type": "code",
   "execution_count": 7,
   "id": "d9fed365",
   "metadata": {},
   "outputs": [],
   "source": [
    "dataset.dropna(axis = 0, inplace = True)"
   ]
  },
  {
   "cell_type": "code",
   "execution_count": 8,
   "id": "9103ecc0",
   "metadata": {},
   "outputs": [],
   "source": [
    "def remove_stopwords(text):\n",
    "    if isinstance(text, str):\n",
    "        new_text = []\n",
    "        text = text.split()\n",
    "        for word in text:\n",
    "            if word not in stop_words:\n",
    "                new_text.append(word)\n",
    "        text = \" \".join(new_text)\n",
    "        return text"
   ]
  },
  {
   "cell_type": "code",
   "execution_count": 9,
   "id": "eed12cb6",
   "metadata": {},
   "outputs": [],
   "source": [
    "#from a kaggle notebook - will add reference \n",
    "contraction_mapping = {\"ain't\": \"is not\", \"aren't\": \"are not\",\"can't\": \"cannot\", \"'cause\": \"because\", \"could've\": \"could have\", \"couldn't\": \"could not\",\n",
    "\n",
    "                           \"didn't\": \"did not\", \"doesn't\": \"does not\", \"don't\": \"do not\", \"hadn't\": \"had not\", \"hasn't\": \"has not\", \"haven't\": \"have not\",\n",
    "\n",
    "                           \"he'd\": \"he would\",\"he'll\": \"he will\", \"he's\": \"he is\", \"how'd\": \"how did\", \"how'd'y\": \"how do you\", \"how'll\": \"how will\", \"how's\": \"how is\",\n",
    "\n",
    "                           \"I'd\": \"I would\", \"I'd've\": \"I would have\", \"I'll\": \"I will\", \"I'll've\": \"I will have\",\"I'm\": \"I am\", \"I've\": \"I have\", \"i'd\": \"i would\",\n",
    "\n",
    "                           \"i'd've\": \"i would have\", \"i'll\": \"i will\",  \"i'll've\": \"i will have\",\"i'm\": \"i am\", \"i've\": \"i have\", \"isn't\": \"is not\", \"it'd\": \"it would\",\n",
    "\n",
    "                           \"it'd've\": \"it would have\", \"it'll\": \"it will\", \"it'll've\": \"it will have\",\"it's\": \"it is\", \"let's\": \"let us\", \"ma'am\": \"madam\",\n",
    "\n",
    "                           \"mayn't\": \"may not\", \"might've\": \"might have\",\"mightn't\": \"might not\",\"mightn't've\": \"might not have\", \"must've\": \"must have\",\n",
    "\n",
    "                           \"mustn't\": \"must not\", \"mustn't've\": \"must not have\", \"needn't\": \"need not\", \"needn't've\": \"need not have\",\"o'clock\": \"of the clock\",\n",
    "\n",
    "                           \"oughtn't\": \"ought not\", \"oughtn't've\": \"ought not have\", \"shan't\": \"shall not\", \"sha'n't\": \"shall not\", \"shan't've\": \"shall not have\",\n",
    "\n",
    "                           \"she'd\": \"she would\", \"she'd've\": \"she would have\", \"she'll\": \"she will\", \"she'll've\": \"she will have\", \"she's\": \"she is\",\n",
    "\n",
    "                           \"should've\": \"should have\", \"shouldn't\": \"should not\", \"shouldn't've\": \"should not have\", \"so've\": \"so have\",\"so's\": \"so as\",\n",
    "\n",
    "                           \"this's\": \"this is\",\"that'd\": \"that would\", \"that'd've\": \"that would have\", \"that's\": \"that is\", \"there'd\": \"there would\",\n",
    "\n",
    "                           \"there'd've\": \"there would have\", \"there's\": \"there is\", \"here's\": \"here is\",\"they'd\": \"they would\", \"they'd've\": \"they would have\",\n",
    "\n",
    "                           \"they'll\": \"they will\", \"they'll've\": \"they will have\", \"they're\": \"they are\", \"they've\": \"they have\", \"to've\": \"to have\",\n",
    "\n",
    "                           \"wasn't\": \"was not\", \"we'd\": \"we would\", \"we'd've\": \"we would have\", \"we'll\": \"we will\", \"we'll've\": \"we will have\", \"we're\": \"we are\",\n",
    "\n",
    "                           \"we've\": \"we have\", \"weren't\": \"were not\", \"what'll\": \"what will\", \"what'll've\": \"what will have\", \"what're\": \"what are\",\n",
    "\n",
    "                           \"what's\": \"what is\", \"what've\": \"what have\", \"when's\": \"when is\", \"when've\": \"when have\", \"where'd\": \"where did\", \"where's\": \"where is\",\n",
    "\n",
    "                           \"where've\": \"where have\", \"who'll\": \"who will\", \"who'll've\": \"who will have\", \"who's\": \"who is\", \"who've\": \"who have\",\n",
    "\n",
    "                           \"why's\": \"why is\", \"why've\": \"why have\", \"will've\": \"will have\", \"won't\": \"will not\", \"won't've\": \"will not have\",\n",
    "\n",
    "                           \"would've\": \"would have\", \"wouldn't\": \"would not\", \"wouldn't've\": \"would not have\", \"y'all\": \"you all\",\n",
    "\n",
    "                           \"y'all'd\": \"you all would\",\"y'all'd've\": \"you all would have\",\"y'all're\": \"you all are\",\"y'all've\": \"you all have\",\n",
    "\n",
    "                           \"you'd\": \"you would\", \"you'd've\": \"you would have\", \"you'll\": \"you will\", \"you'll've\": \"you will have\",\n",
    "\n",
    "                           \"you're\": \"you are\", \"you've\": \"you have\"}"
   ]
  },
  {
   "cell_type": "code",
   "execution_count": 10,
   "id": "436029af",
   "metadata": {
    "scrolled": false
   },
   "outputs": [
    {
     "data": {
      "text/html": [
       "<div>\n",
       "<style scoped>\n",
       "    .dataframe tbody tr th:only-of-type {\n",
       "        vertical-align: middle;\n",
       "    }\n",
       "\n",
       "    .dataframe tbody tr th {\n",
       "        vertical-align: top;\n",
       "    }\n",
       "\n",
       "    .dataframe thead th {\n",
       "        text-align: right;\n",
       "    }\n",
       "</style>\n",
       "<table border=\"1\" class=\"dataframe\">\n",
       "  <thead>\n",
       "    <tr style=\"text-align: right;\">\n",
       "      <th></th>\n",
       "      <th>description</th>\n",
       "      <th>medical_specialty</th>\n",
       "      <th>sample_name</th>\n",
       "      <th>transcription</th>\n",
       "    </tr>\n",
       "  </thead>\n",
       "  <tbody>\n",
       "    <tr>\n",
       "      <th>0</th>\n",
       "      <td>a 23-year-old white female presents with comp...</td>\n",
       "      <td>Allergy / Immunology</td>\n",
       "      <td>Allergic Rhinitis</td>\n",
       "      <td>subjective:,  this 23-year-old white female pr...</td>\n",
       "    </tr>\n",
       "    <tr>\n",
       "      <th>1</th>\n",
       "      <td>consult for laparoscopic gastric bypass.</td>\n",
       "      <td>Bariatrics</td>\n",
       "      <td>Laparoscopic Gastric Bypass Consult - 2</td>\n",
       "      <td>past medical history:, he has difficulty climb...</td>\n",
       "    </tr>\n",
       "    <tr>\n",
       "      <th>2</th>\n",
       "      <td>consult for laparoscopic gastric bypass.</td>\n",
       "      <td>Bariatrics</td>\n",
       "      <td>Laparoscopic Gastric Bypass Consult - 1</td>\n",
       "      <td>history of present illness: , i have seen abc ...</td>\n",
       "    </tr>\n",
       "    <tr>\n",
       "      <th>3</th>\n",
       "      <td>2-d m-mode. doppler.</td>\n",
       "      <td>Cardiovascular / Pulmonary</td>\n",
       "      <td>2-D Echocardiogram - 1</td>\n",
       "      <td>2-d m-mode: , ,1.  left atrial enlargement wit...</td>\n",
       "    </tr>\n",
       "    <tr>\n",
       "      <th>4</th>\n",
       "      <td>2-d echocardiogram</td>\n",
       "      <td>Cardiovascular / Pulmonary</td>\n",
       "      <td>2-D Echocardiogram - 2</td>\n",
       "      <td>1.  the left ventricular cavity size and wall ...</td>\n",
       "    </tr>\n",
       "  </tbody>\n",
       "</table>\n",
       "</div>"
      ],
      "text/plain": [
       "                                         description  \\\n",
       "0   a 23-year-old white female presents with comp...   \n",
       "1           consult for laparoscopic gastric bypass.   \n",
       "2           consult for laparoscopic gastric bypass.   \n",
       "3                             2-d m-mode. doppler.     \n",
       "4                                 2-d echocardiogram   \n",
       "\n",
       "             medical_specialty                                sample_name  \\\n",
       "0         Allergy / Immunology                         Allergic Rhinitis    \n",
       "1                   Bariatrics   Laparoscopic Gastric Bypass Consult - 2    \n",
       "2                   Bariatrics   Laparoscopic Gastric Bypass Consult - 1    \n",
       "3   Cardiovascular / Pulmonary                    2-D Echocardiogram - 1    \n",
       "4   Cardiovascular / Pulmonary                    2-D Echocardiogram - 2    \n",
       "\n",
       "                                       transcription  \n",
       "0  subjective:,  this 23-year-old white female pr...  \n",
       "1  past medical history:, he has difficulty climb...  \n",
       "2  history of present illness: , i have seen abc ...  \n",
       "3  2-d m-mode: , ,1.  left atrial enlargement wit...  \n",
       "4  1.  the left ventricular cavity size and wall ...  "
      ]
     },
     "execution_count": 10,
     "metadata": {},
     "output_type": "execute_result"
    }
   ],
   "source": [
    "def lowercase(object):\n",
    "    if isinstance(object, str):\n",
    "        object = str.lower(object)\n",
    "    return object\n",
    "\n",
    "def contractions(object):\n",
    "    if isinstance(object, str):\n",
    "        if object in contraction_mapping:\n",
    "            temp_word = contraction_mapping[object]\n",
    "            object = temp_word\n",
    "    return object\n",
    "\n",
    "def remove_punctuation(object):\n",
    "    #leave \":\" and \".\" - section and full stop, respectively. Info about sequences\n",
    "    #remove \",\" ; \"/\" ; \" \"\n",
    "    if isinstance(object, str): \n",
    "        expression = r\"[!\\#\\$'\\*\\;%']\"\n",
    "        empty_str = \"\"\n",
    "        result = re.sub(expression, empty_str, object, 0, re.MULTILINE)\n",
    "        return result\n",
    "    else:\n",
    "        return object\n",
    "\n",
    "\"\"\"def POS_tagger(object):\n",
    "    if isinstance(object, str):\n",
    "        #Map POS tag to first character lemmatize() accepts\n",
    "        tag = pos_tag([word])[0][1][0].upper()\n",
    "        tag_dict = {\"J\": wordnet.ADJ,\n",
    "                    \"N\": wordnet.NOUN,\n",
    "                    \"V\": wordnet.VERB,\n",
    "                    \"R\": wordnet.ADV}\n",
    "        return tag_dict.get(tag, wordnet.NOUN)\n",
    "    else:\n",
    "        return object\"\"\"\n",
    "#flag 1,2,3 - 1 - lowercase, 2 - stopwords, 3 - contraction, 4 - punctuation,\n",
    "#5 - lemmatizer\n",
    "def apply_df(df, label, flag):\n",
    "    if flag == 1:\n",
    "        df.loc[:, label] = df[label].apply(lambda x : lowercase(x))\n",
    "    elif flag == 2:\n",
    "        df.loc[:, label] = df[label].apply(lambda x : remove_stopwords(x))\n",
    "    elif flag == 3:\n",
    "        df.loc[:, label] = df[label].apply(lambda x : contractions(x))\n",
    "    elif flag == 4:\n",
    "        df.loc[:, label] = df[label].apply(lambda x : remove_punctuation(x))\n",
    "    return df\n",
    "dataset = apply_df(dataset, 'transcription', 1)\n",
    "dataset = apply_df(dataset, 'description', 1)\n",
    "dataset.head()"
   ]
  },
  {
   "cell_type": "code",
   "execution_count": 11,
   "id": "79f5d30f",
   "metadata": {},
   "outputs": [],
   "source": [
    "dataset = apply_df(dataset, 'transcription', 2)\n",
    "dataset = apply_df(dataset, 'description', 2)\n",
    "dataset = apply_df(dataset, 'transcription', 3)\n",
    "dataset = apply_df(dataset, 'description', 3)\n",
    "dataset = apply_df(dataset, 'transcription', 4)\n",
    "dataset = apply_df(dataset, 'description', 4)"
   ]
  },
  {
   "cell_type": "markdown",
   "id": "9df836f1",
   "metadata": {},
   "source": [
    "Converted to lowercase, removed stop words, contractions and certain punctuations."
   ]
  },
  {
   "cell_type": "code",
   "execution_count": 12,
   "id": "1e08afe1",
   "metadata": {},
   "outputs": [],
   "source": [
    "#refactor\n",
    "medical_specialties_list = []\n",
    "trans_word_count_list = []\n",
    "summary_word_count_list = []\n",
    "for word in dataset['medical_specialty'].unique():\n",
    "    medical_specialties_list.append(word)\n",
    "    dataset_filtered = dataset[(dataset['medical_specialty'] == word)]\n",
    "    trans_word_count = dataset_filtered['transcription'].str.split().str.len().sum()\n",
    "    summary_word_count = dataset_filtered['description'].str.split().str.len().sum()\n",
    "    trans_word_count_list.append(trans_word_count)\n",
    "    summary_word_count_list.append(summary_word_count)\n",
    "    \n",
    "words_df = pd.DataFrame({'specialty': medical_specialties_list, 'text_word_count': trans_word_count_list, 'summary_word_count': summary_word_count_list})\n",
    "words_df['text_word_count'] = words_df['text_word_count'].astype('int')\n",
    "words_df['summary_word_count'] = words_df['summary_word_count'].astype('int')\n",
    "words_df = words_df.sort_values('text_word_count', ascending=False)\n",
    "words_df = words_df.sort_values('summary_word_count', ascending=False)\n",
    "words_df.reset_index(drop=True, inplace = True)"
   ]
  },
  {
   "cell_type": "code",
   "execution_count": 13,
   "id": "19a334c1",
   "metadata": {},
   "outputs": [
    {
     "data": {
      "text/html": [
       "<div>\n",
       "<style scoped>\n",
       "    .dataframe tbody tr th:only-of-type {\n",
       "        vertical-align: middle;\n",
       "    }\n",
       "\n",
       "    .dataframe tbody tr th {\n",
       "        vertical-align: top;\n",
       "    }\n",
       "\n",
       "    .dataframe thead th {\n",
       "        text-align: right;\n",
       "    }\n",
       "</style>\n",
       "<table border=\"1\" class=\"dataframe\">\n",
       "  <thead>\n",
       "    <tr style=\"text-align: right;\">\n",
       "      <th></th>\n",
       "      <th>specialty</th>\n",
       "      <th>text_word_count</th>\n",
       "      <th>summary_word_count</th>\n",
       "    </tr>\n",
       "  </thead>\n",
       "  <tbody>\n",
       "    <tr>\n",
       "      <th>0</th>\n",
       "      <td>Surgery</td>\n",
       "      <td>311281</td>\n",
       "      <td>15697</td>\n",
       "    </tr>\n",
       "    <tr>\n",
       "      <th>1</th>\n",
       "      <td>Consult - History and Phy.</td>\n",
       "      <td>174469</td>\n",
       "      <td>6381</td>\n",
       "    </tr>\n",
       "    <tr>\n",
       "      <th>2</th>\n",
       "      <td>Cardiovascular / Pulmonary</td>\n",
       "      <td>100753</td>\n",
       "      <td>5648</td>\n",
       "    </tr>\n",
       "    <tr>\n",
       "      <th>3</th>\n",
       "      <td>Orthopedic</td>\n",
       "      <td>118102</td>\n",
       "      <td>5559</td>\n",
       "    </tr>\n",
       "    <tr>\n",
       "      <th>4</th>\n",
       "      <td>General Medicine</td>\n",
       "      <td>74040</td>\n",
       "      <td>3091</td>\n",
       "    </tr>\n",
       "  </tbody>\n",
       "</table>\n",
       "</div>"
      ],
      "text/plain": [
       "                     specialty  text_word_count  summary_word_count\n",
       "0                      Surgery           311281               15697\n",
       "1   Consult - History and Phy.           174469                6381\n",
       "2   Cardiovascular / Pulmonary           100753                5648\n",
       "3                   Orthopedic           118102                5559\n",
       "4             General Medicine            74040                3091"
      ]
     },
     "execution_count": 13,
     "metadata": {},
     "output_type": "execute_result"
    }
   ],
   "source": [
    "words_df.head()"
   ]
  },
  {
   "cell_type": "code",
   "execution_count": 14,
   "id": "6102b2c0",
   "metadata": {},
   "outputs": [
    {
     "data": {
      "text/plain": [
       " Surgery                          1088\n",
       " Consult - History and Phy.        516\n",
       " Cardiovascular / Pulmonary        371\n",
       " Orthopedic                        355\n",
       " Radiology                         273\n",
       " General Medicine                  259\n",
       " Gastroenterology                  224\n",
       " Neurology                         223\n",
       " SOAP / Chart / Progress Notes     166\n",
       " Urology                           156\n",
       " Obstetrics / Gynecology           155\n",
       " Discharge Summary                 108\n",
       " ENT - Otolaryngology               96\n",
       " Neurosurgery                       94\n",
       " Hematology - Oncology              90\n",
       " Ophthalmology                      83\n",
       " Nephrology                         81\n",
       " Emergency Room Reports             75\n",
       " Pediatrics - Neonatal              70\n",
       " Pain Management                    61\n",
       " Psychiatry / Psychology            53\n",
       " Office Notes                       50\n",
       " Podiatry                           47\n",
       " Dermatology                        29\n",
       " Cosmetic / Plastic Surgery         27\n",
       " Dentistry                          27\n",
       " Letters                            23\n",
       " Physical Medicine - Rehab          21\n",
       " Sleep Medicine                     20\n",
       " Endocrinology                      19\n",
       " Bariatrics                         18\n",
       " IME-QME-Work Comp etc.             16\n",
       " Chiropractic                       14\n",
       " Rheumatology                       10\n",
       " Diets and Nutritions               10\n",
       " Speech - Language                   9\n",
       " Autopsy                             8\n",
       " Lab Medicine - Pathology            8\n",
       " Allergy / Immunology                7\n",
       " Hospice - Palliative Care           6\n",
       "Name: medical_specialty, dtype: int64"
      ]
     },
     "execution_count": 14,
     "metadata": {},
     "output_type": "execute_result"
    }
   ],
   "source": [
    "#all the different medical_specialty values:\n",
    "dataset['medical_specialty'].value_counts()"
   ]
  },
  {
   "cell_type": "code",
   "execution_count": 15,
   "id": "788e98fc",
   "metadata": {},
   "outputs": [
    {
     "data": {
      "image/png": "[encoded data removed]",
      "text/plain": [
       "<Figure size 640x480 with 1 Axes>"
      ]
     },
     "metadata": {},
     "output_type": "display_data"
    }
   ],
   "source": [
    "med_counts = dataset['medical_specialty'].value_counts()\n",
    "ax = med_counts[:15].plot.bar(y = \"Freq\")\n",
    "#frequency distribution of number of records - first 15"
   ]
  },
  {
   "cell_type": "code",
   "execution_count": 16,
   "id": "27593a15",
   "metadata": {},
   "outputs": [
    {
     "data": {
      "image/png": "[encoded data removed]",
      "text/plain": [
       "<Figure size 640x480 with 2 Axes>"
      ]
     },
     "metadata": {},
     "output_type": "display_data"
    }
   ],
   "source": [
    "import matplotlib.pyplot as plt\n",
    "words_df.hist(bins = 20)\n",
    "plt.show()\n",
    "#as expected, most text and summary counts are in the lowest 3 bins possible\n",
    "#look at the difference in length between texts and summaries!"
   ]
  },
  {
   "cell_type": "code",
   "execution_count": 17,
   "id": "45ee4930",
   "metadata": {},
   "outputs": [
    {
     "name": "stdout",
     "output_type": "stream",
     "text": [
      "count        40.000000\n",
      "mean      34751.825000\n",
      "std       57400.031418\n",
      "min        1316.000000\n",
      "25%        6276.500000\n",
      "50%       15805.500000\n",
      "75%       35214.000000\n",
      "90%       76711.300000\n",
      "max      311281.000000\n",
      "Name: text_word_count, dtype: float64\n",
      "\n",
      "\n",
      "count       40.000000\n",
      "mean      1637.175000\n",
      "std       2773.650634\n",
      "min         66.000000\n",
      "25%        190.750000\n",
      "50%        669.000000\n",
      "75%       1872.500000\n",
      "90%       3337.800000\n",
      "max      15697.000000\n",
      "Name: summary_word_count, dtype: float64\n"
     ]
    }
   ],
   "source": [
    "print(words_df['text_word_count'].describe(percentiles = [0.25, 0.5, 0.75, 0.90]))\n",
    "print(\"\\n\")\n",
    "print(words_df['summary_word_count'].describe(percentiles = [0.25, 0.5, 0.75, 0.90]))"
   ]
  },
  {
   "cell_type": "code",
   "execution_count": 18,
   "id": "ed0e47ee",
   "metadata": {},
   "outputs": [],
   "source": [
    "train_dataset = dataset.drop('sample_name', axis = 1)\n",
    "train_dataset = train_dataset.drop('medical_specialty', axis = 1)"
   ]
  },
  {
   "cell_type": "code",
   "execution_count": 19,
   "id": "e9af487d",
   "metadata": {
    "scrolled": true
   },
   "outputs": [
    {
     "data": {
      "text/html": [
       "<div>\n",
       "<style scoped>\n",
       "    .dataframe tbody tr th:only-of-type {\n",
       "        vertical-align: middle;\n",
       "    }\n",
       "\n",
       "    .dataframe tbody tr th {\n",
       "        vertical-align: top;\n",
       "    }\n",
       "\n",
       "    .dataframe thead th {\n",
       "        text-align: right;\n",
       "    }\n",
       "</style>\n",
       "<table border=\"1\" class=\"dataframe\">\n",
       "  <thead>\n",
       "    <tr style=\"text-align: right;\">\n",
       "      <th></th>\n",
       "      <th>description</th>\n",
       "      <th>transcription</th>\n",
       "    </tr>\n",
       "  </thead>\n",
       "  <tbody>\n",
       "    <tr>\n",
       "      <th>0</th>\n",
       "      <td>23-year-old white female presents complaint al...</td>\n",
       "      <td>subjective:, 23-year-old white female presents...</td>\n",
       "    </tr>\n",
       "    <tr>\n",
       "      <th>1</th>\n",
       "      <td>consult laparoscopic gastric bypass.</td>\n",
       "      <td>past medical history:, difficulty climbing sta...</td>\n",
       "    </tr>\n",
       "    <tr>\n",
       "      <th>2</th>\n",
       "      <td>consult laparoscopic gastric bypass.</td>\n",
       "      <td>history present illness: , seen abc today. ple...</td>\n",
       "    </tr>\n",
       "    <tr>\n",
       "      <th>3</th>\n",
       "      <td>2-d m-mode. doppler.</td>\n",
       "      <td>2-d m-mode: , ,1. left atrial enlargement left...</td>\n",
       "    </tr>\n",
       "    <tr>\n",
       "      <th>4</th>\n",
       "      <td>2-d echocardiogram</td>\n",
       "      <td>1. left ventricular cavity size wall thickness...</td>\n",
       "    </tr>\n",
       "  </tbody>\n",
       "</table>\n",
       "</div>"
      ],
      "text/plain": [
       "                                         description  \\\n",
       "0  23-year-old white female presents complaint al...   \n",
       "1               consult laparoscopic gastric bypass.   \n",
       "2               consult laparoscopic gastric bypass.   \n",
       "3                               2-d m-mode. doppler.   \n",
       "4                                 2-d echocardiogram   \n",
       "\n",
       "                                       transcription  \n",
       "0  subjective:, 23-year-old white female presents...  \n",
       "1  past medical history:, difficulty climbing sta...  \n",
       "2  history present illness: , seen abc today. ple...  \n",
       "3  2-d m-mode: , ,1. left atrial enlargement left...  \n",
       "4  1. left ventricular cavity size wall thickness...  "
      ]
     },
     "execution_count": 19,
     "metadata": {},
     "output_type": "execute_result"
    }
   ],
   "source": [
    "train_dataset.head()"
   ]
  },
  {
   "cell_type": "code",
   "execution_count": 20,
   "id": "422ab55a",
   "metadata": {},
   "outputs": [
    {
     "name": "stdout",
     "output_type": "stream",
     "text": [
      "count                                                  4966\n",
      "unique                                                 2336\n",
      "top       example/template routine normal male physical ...\n",
      "freq                                                     12\n",
      "Name: description, dtype: object\n",
      "\n",
      "\n",
      "count                                                  4966\n",
      "unique                                                 2357\n",
      "top       preoperative diagnosis: , low back pain.,posto...\n",
      "freq                                                      5\n",
      "Name: transcription, dtype: object\n"
     ]
    }
   ],
   "source": [
    "print(train_dataset['description'].describe())\n",
    "print(\"\\n\")\n",
    "print(train_dataset['transcription'].describe())"
   ]
  },
  {
   "cell_type": "markdown",
   "id": "2eabe972",
   "metadata": {},
   "source": [
    "### No data augmentation\n",
    "#### Shuffle Sentence Transform affects the Sentence Centrality of the dataset, negatively affecting the model's ability to learn useful patterns pertaining to the medical transcriptions.\n",
    "#### TODO - try other forms of data augmentation. (e.g. replace words with others that mean the same thing, paraphrase sentences while maintaing the location of the sentence, etc.)"
   ]
  },
  {
   "cell_type": "code",
   "execution_count": 48,
   "id": "7f45bdac",
   "metadata": {},
   "outputs": [],
   "source": [
    "dataset = train_dataset"
   ]
  },
  {
   "cell_type": "code",
   "execution_count": 49,
   "id": "3baf9439",
   "metadata": {},
   "outputs": [
    {
     "data": {
      "text/html": [
       "<div>\n",
       "<style scoped>\n",
       "    .dataframe tbody tr th:only-of-type {\n",
       "        vertical-align: middle;\n",
       "    }\n",
       "\n",
       "    .dataframe tbody tr th {\n",
       "        vertical-align: top;\n",
       "    }\n",
       "\n",
       "    .dataframe thead th {\n",
       "        text-align: right;\n",
       "    }\n",
       "</style>\n",
       "<table border=\"1\" class=\"dataframe\">\n",
       "  <thead>\n",
       "    <tr style=\"text-align: right;\">\n",
       "      <th></th>\n",
       "      <th>description</th>\n",
       "      <th>transcription</th>\n",
       "    </tr>\n",
       "  </thead>\n",
       "  <tbody>\n",
       "    <tr>\n",
       "      <th>4994</th>\n",
       "      <td>patient severe sinusitis two three months ago ...</td>\n",
       "      <td>history:, pleasure meeting evaluating patient ...</td>\n",
       "    </tr>\n",
       "    <tr>\n",
       "      <th>4995</th>\n",
       "      <td>14-month-old baby boy caucasian came presumpti...</td>\n",
       "      <td>admitting diagnosis: , kawasaki disease.,disch...</td>\n",
       "    </tr>\n",
       "    <tr>\n",
       "      <th>4996</th>\n",
       "      <td>female complete physical follow asthma allergi...</td>\n",
       "      <td>subjective: , 42-year-old white female comes t...</td>\n",
       "    </tr>\n",
       "    <tr>\n",
       "      <th>4997</th>\n",
       "      <td>mother states wheezing coughing.</td>\n",
       "      <td>chief complaint: , 5-year-old male presents ch...</td>\n",
       "    </tr>\n",
       "    <tr>\n",
       "      <th>4998</th>\n",
       "      <td>acute allergic reaction, etiology uncertain, h...</td>\n",
       "      <td>history: , 34-year-old male presents today sel...</td>\n",
       "    </tr>\n",
       "  </tbody>\n",
       "</table>\n",
       "</div>"
      ],
      "text/plain": [
       "                                            description  \\\n",
       "4994  patient severe sinusitis two three months ago ...   \n",
       "4995  14-month-old baby boy caucasian came presumpti...   \n",
       "4996  female complete physical follow asthma allergi...   \n",
       "4997                   mother states wheezing coughing.   \n",
       "4998  acute allergic reaction, etiology uncertain, h...   \n",
       "\n",
       "                                          transcription  \n",
       "4994  history:, pleasure meeting evaluating patient ...  \n",
       "4995  admitting diagnosis: , kawasaki disease.,disch...  \n",
       "4996  subjective: , 42-year-old white female comes t...  \n",
       "4997  chief complaint: , 5-year-old male presents ch...  \n",
       "4998  history: , 34-year-old male presents today sel...  "
      ]
     },
     "execution_count": 49,
     "metadata": {},
     "output_type": "execute_result"
    }
   ],
   "source": [
    "dataset.tail()"
   ]
  },
  {
   "cell_type": "code",
   "execution_count": 50,
   "id": "cd70f11d",
   "metadata": {},
   "outputs": [
    {
     "data": {
      "text/html": [
       "<div>\n",
       "<style scoped>\n",
       "    .dataframe tbody tr th:only-of-type {\n",
       "        vertical-align: middle;\n",
       "    }\n",
       "\n",
       "    .dataframe tbody tr th {\n",
       "        vertical-align: top;\n",
       "    }\n",
       "\n",
       "    .dataframe thead th {\n",
       "        text-align: right;\n",
       "    }\n",
       "</style>\n",
       "<table border=\"1\" class=\"dataframe\">\n",
       "  <thead>\n",
       "    <tr style=\"text-align: right;\">\n",
       "      <th></th>\n",
       "      <th>description</th>\n",
       "      <th>transcription</th>\n",
       "    </tr>\n",
       "  </thead>\n",
       "  <tbody>\n",
       "    <tr>\n",
       "      <th>count</th>\n",
       "      <td>4966</td>\n",
       "      <td>4966</td>\n",
       "    </tr>\n",
       "    <tr>\n",
       "      <th>unique</th>\n",
       "      <td>2336</td>\n",
       "      <td>2357</td>\n",
       "    </tr>\n",
       "    <tr>\n",
       "      <th>top</th>\n",
       "      <td>example/template routine normal male physical ...</td>\n",
       "      <td>preoperative diagnosis: , low back pain.,posto...</td>\n",
       "    </tr>\n",
       "    <tr>\n",
       "      <th>freq</th>\n",
       "      <td>12</td>\n",
       "      <td>5</td>\n",
       "    </tr>\n",
       "  </tbody>\n",
       "</table>\n",
       "</div>"
      ],
      "text/plain": [
       "                                              description  \\\n",
       "count                                                4966   \n",
       "unique                                               2336   \n",
       "top     example/template routine normal male physical ...   \n",
       "freq                                                   12   \n",
       "\n",
       "                                            transcription  \n",
       "count                                                4966  \n",
       "unique                                               2357  \n",
       "top     preoperative diagnosis: , low back pain.,posto...  \n",
       "freq                                                    5  "
      ]
     },
     "execution_count": 50,
     "metadata": {},
     "output_type": "execute_result"
    }
   ],
   "source": [
    "dataset.describe()"
   ]
  },
  {
   "cell_type": "markdown",
   "id": "5b1b3d8b",
   "metadata": {},
   "source": [
    "## Splitting train and test set"
   ]
  },
  {
   "cell_type": "code",
   "execution_count": 51,
   "id": "904de220",
   "metadata": {},
   "outputs": [],
   "source": [
    "from sklearn.model_selection import train_test_split\n",
    "x_train, x_val, y_train, y_val = train_test_split(np.array(dataset['transcription']), np.array(dataset['description']), test_size = 0.05, random_state = 0, shuffle = True)"
   ]
  },
  {
   "cell_type": "code",
   "execution_count": 52,
   "id": "271c32d2",
   "metadata": {},
   "outputs": [
    {
     "name": "stdout",
     "output_type": "stream",
     "text": [
      "x_train shape :  (4717,)\n",
      "y_train shape :  (4717,)\n",
      "x_val shape :  (249,)\n",
      "y_val shape :  (249,)\n"
     ]
    }
   ],
   "source": [
    "print(\"x_train shape : \", x_train.shape)\n",
    "print(\"y_train shape : \", y_train.shape)\n",
    "print(\"x_val shape : \", x_val.shape)\n",
    "print(\"y_val shape : \", y_val.shape)"
   ]
  },
  {
   "cell_type": "markdown",
   "id": "519c9811",
   "metadata": {},
   "source": [
    "## NLP"
   ]
  },
  {
   "cell_type": "code",
   "execution_count": 53,
   "id": "d37ea9db",
   "metadata": {},
   "outputs": [],
   "source": [
    "#<BOS> - begin of sequence; <EOS> - end of sequence.\n",
    "def sequence_tagger(input_sequence):\n",
    "    bos = \"<BOS> \"\n",
    "    eos = \" <EOS>\"\n",
    "    tagged_sequence = []\n",
    "    for text in input_sequence:\n",
    "        if isinstance(text, str):\n",
    "            tagged_sentence = bos + text + eos\n",
    "            tagged_sequence.append(tagged_sentence)\n",
    "    return tagged_sequence\n",
    "\n",
    "tagged_seq_x_train = sequence_tagger(x_train)"
   ]
  },
  {
   "cell_type": "code",
   "execution_count": 54,
   "id": "78ca241d",
   "metadata": {},
   "outputs": [
    {
     "name": "stdout",
     "output_type": "stream",
     "text": [
      "4717\n",
      "<BOS> pre postoperative diagnosis:, left cervical radiculopathy c5, c6,operation: , left c5-6 hemilaminotomy foraminotomy medial facetectomy microscopic decompression nerve root.,after informed consent obtained patient, taken or. general anesthesia induced, ted hose stockings pneumatic compression stockings placed patient foley catheter also inserted. point, patients placed three point fixation mayfield head holder patient placed operating table prone position. patients posterior cervical area prepped draped usual sterile fashion. time patients incision site infiltrated 1 percent lidocaine epinephrine. scalpel used make approximate 3 cm skin incision cephalad prominent c7 spinous processes, could palpated. dissection spinous process using bovie cautery, clamp placed spinous processes cross table lateral x-ray taken. showed spinous process c4 level. therefore, soft tissue dissection carried caudally level next spinous processes presumed c5 identified. muscle dissected lamina laterally left side, self retaining retractors placed hemostasis achieved, penfield probe placed interspace presumed c5-6 another cross table lateral x-ray c spine taken. film confirmed position c5-6 therefore operating microscope brought onto field time. time kerrison rongeur used perform hemilaminotomy starting inferior margin superior lamina. superior margin inferior lamina c6 also taken kerrison rongeur ligaments freed using woodson probe. extended laterally perform medial facetectomy also using kerrison rongeur. however, progress limited thickness bone. therefore time midas-rex drill, am8 bit brought onto field used thin bone around laminotomy medial facetectomy area. bone thinned out, bone removed using kerrison rongeur. point nerve root visually inspected observed decompressed. however, layer fibrous tissue overlying exiting nerve root removed placing woodson resector plane fibrous sheath nerve root incising 15 blade. hemostasis achieved using gelfoam well bipolar electrocautery. hemostasis achieved, surgical site copiously irrigated bacitracin. closure initiated closing muscle layer fascial layer 0 vicryl stitches. subcutaneous layer reapproximated using 000 dexon. skin reapproximated using running 000 nylon. sterile dressings applied. patient extubated transferred recovery room stable condition.,estimated blood loss:, minimal. <EOS>\n"
     ]
    }
   ],
   "source": [
    "print(len(tagged_seq_x_train))\n",
    "print(tagged_seq_x_train[1])"
   ]
  },
  {
   "cell_type": "code",
   "execution_count": 55,
   "id": "8f7468f1",
   "metadata": {},
   "outputs": [],
   "source": [
    "tagged_seq_x_val = sequence_tagger(x_val)\n",
    "tagged_seq_y_train = sequence_tagger(y_train)\n",
    "tagged_seq_y_val = sequence_tagger(y_val)"
   ]
  },
  {
   "cell_type": "markdown",
   "id": "6f5f3461",
   "metadata": {},
   "source": [
    "## Preparing a tokenizer and calculating no. of rare / common words"
   ]
  },
  {
   "cell_type": "code",
   "execution_count": 56,
   "id": "a3662094",
   "metadata": {},
   "outputs": [],
   "source": [
    "temp_list = tagged_seq_x_train"
   ]
  },
  {
   "cell_type": "code",
   "execution_count": 58,
   "id": "d2c1bb6c",
   "metadata": {},
   "outputs": [
    {
     "name": "stderr",
     "output_type": "stream",
     "text": [
      "2023-01-13 10:00:52.461843: I tensorflow/core/platform/cpu_feature_guard.cc:193] This TensorFlow binary is optimized with oneAPI Deep Neural Network Library (oneDNN) to use the following CPU instructions in performance-critical operations:  AVX2 FMA\n",
      "To enable them in other operations, rebuild TensorFlow with the appropriate compiler flags.\n",
      "2023-01-13 10:00:53.072770: E tensorflow/stream_executor/cuda/cuda_blas.cc:2981] Unable to register cuBLAS factory: Attempting to register factory for plugin cuBLAS when one has already been registered\n",
      "2023-01-13 10:00:54.489899: W tensorflow/stream_executor/platform/default/dso_loader.cc:64] Could not load dynamic library 'libnvinfer.so.7'; dlerror: libnvinfer.so.7: cannot open shared object file: No such file or directory; LD_LIBRARY_PATH: /home/rkv/miniconda3/envs/tf/lib/python3.9/site-packages/cv2/../../lib64::/home/rkv/miniconda3/envs/tf/lib/\n",
      "2023-01-13 10:00:54.491555: W tensorflow/stream_executor/platform/default/dso_loader.cc:64] Could not load dynamic library 'libnvinfer_plugin.so.7'; dlerror: libnvinfer_plugin.so.7: cannot open shared object file: No such file or directory; LD_LIBRARY_PATH: /home/rkv/miniconda3/envs/tf/lib/python3.9/site-packages/cv2/../../lib64::/home/rkv/miniconda3/envs/tf/lib/\n",
      "2023-01-13 10:00:54.491572: W tensorflow/compiler/tf2tensorrt/utils/py_utils.cc:38] TF-TRT Warning: Cannot dlopen some TensorRT libraries. If you would like to use Nvidia GPU with TensorRT, please make sure the missing libraries mentioned above are installed properly.\n"
     ]
    }
   ],
   "source": [
    "from keras.preprocessing.text import Tokenizer"
   ]
  },
  {
   "cell_type": "code",
   "execution_count": 59,
   "id": "666b54ec",
   "metadata": {},
   "outputs": [],
   "source": [
    "x_train_list = list(filter(None, temp_list))"
   ]
  },
  {
   "cell_type": "code",
   "execution_count": 61,
   "id": "620933de",
   "metadata": {},
   "outputs": [],
   "source": [
    "x_tokenizer = Tokenizer()\n",
    "x_tokenizer.fit_on_texts(x_train_list)"
   ]
  },
  {
   "cell_type": "code",
   "execution_count": 62,
   "id": "553af9f7",
   "metadata": {},
   "outputs": [],
   "source": [
    "temp_list = list(tagged_seq_y_train)\n",
    "#print(temp_list[1])\n",
    "y_train_list = list(filter(None, temp_list))"
   ]
  },
  {
   "cell_type": "code",
   "execution_count": 63,
   "id": "a22e5e48",
   "metadata": {},
   "outputs": [],
   "source": [
    "y_tokenizer = Tokenizer()\n",
    "y_tokenizer.fit_on_texts(y_train_list) #this object's internal vocab - these words"
   ]
  },
  {
   "cell_type": "code",
   "execution_count": 64,
   "id": "f50af626",
   "metadata": {},
   "outputs": [
    {
     "name": "stdout",
     "output_type": "stream",
     "text": [
      "Transcription : \n",
      "Rare words consist of 67.33490043021244 % of the vocabulary\n",
      "Frequency of rare words relative to most frequent words(%): 5.045555658411106\n",
      "\n",
      "Summary : \n",
      "Rare words consist of 84.48778709442216 % of the vocabulary\n",
      "Frequency of rare words relative to most frequent words(%): 26.688128881046353\n"
     ]
    }
   ],
   "source": [
    "#refactor later\n",
    "threshold = 16\n",
    "\n",
    "total_words_desc = 0\n",
    "total_words_summ = 0 \n",
    "total_freq_desc = 0\n",
    "total_freq_summ = 0 \n",
    "rare_word_desc_count = 0\n",
    "rare_word_summ_count = 0\n",
    "rare_word_desc_freq = 0 \n",
    "rare_word_summ_freq = 0\n",
    "#less than say, 4 in the original text - now dataset is 4x size, so 16\n",
    "#from internal vocabulary\n",
    "for key, value in x_tokenizer.word_counts.items():\n",
    "    #returns a word and it's frequency\n",
    "    total_words_desc = total_words_desc + 1\n",
    "    total_freq_desc = total_freq_desc + value\n",
    "    if value < threshold :\n",
    "        rare_word_desc_count = rare_word_desc_count + 1\n",
    "        rare_word_desc_freq = rare_word_desc_freq + value\n",
    "print(\"Transcription : \")\n",
    "print(\"Rare words consist of\", (rare_word_desc_count / total_words_desc) * 100, \"% of the vocabulary\")\n",
    "#what does this following thing mean? :\n",
    "print(\"Frequency of rare words relative to most frequent words(%):\", (rare_word_desc_freq/total_freq_desc) * 100)\n",
    "\n",
    "for key, value in y_tokenizer.word_counts.items():\n",
    "    #returns a word and it's frequency\n",
    "    total_words_summ = total_words_summ + 1\n",
    "    total_freq_summ = total_freq_summ + value\n",
    "    if value < threshold :\n",
    "        rare_word_summ_count = rare_word_summ_count + 1\n",
    "        rare_word_summ_freq = rare_word_summ_freq + value\n",
    "\n",
    "print(\"\\nSummary : \")\n",
    "print(\"Rare words consist of\", (rare_word_summ_count / total_words_summ) * 100, \"% of the vocabulary\")\n",
    "#what does this following thing mean? :\n",
    "print(\"Frequency of rare words relative to most frequent words(%):\", (rare_word_summ_freq/total_freq_summ) * 100)\n",
    "\n"
   ]
  },
  {
   "cell_type": "markdown",
   "id": "c5eeadc4",
   "metadata": {},
   "source": [
    "#### TO-DO : Try using the medical words embedding vector instead of building your own embedding"
   ]
  },
  {
   "cell_type": "markdown",
   "id": "87132fd8",
   "metadata": {},
   "source": [
    "## Building the model"
   ]
  },
  {
   "cell_type": "code",
   "execution_count": 65,
   "id": "bd2f6978",
   "metadata": {},
   "outputs": [],
   "source": [
    "max_text_length = 250"
   ]
  },
  {
   "cell_type": "code",
   "execution_count": 66,
   "id": "eecdf9d7",
   "metadata": {},
   "outputs": [],
   "source": [
    "#convert all the text sequences into tokenized sequences of integers\n",
    "x_train_seq = x_tokenizer.texts_to_sequences(tagged_seq_x_train)\n",
    "x_val_seq = x_tokenizer.texts_to_sequences(tagged_seq_x_val)\n",
    "\n",
    "y_train_seq = y_tokenizer.texts_to_sequences(tagged_seq_y_train)\n",
    "y_val_seq = y_tokenizer.texts_to_sequences(tagged_seq_y_val)\n",
    "\n",
    "x_vocabulary = total_words_desc + 1\n",
    "y_vocabulary = total_words_summ + 1"
   ]
  },
  {
   "cell_type": "code",
   "execution_count": 67,
   "id": "014dff4f",
   "metadata": {},
   "outputs": [],
   "source": [
    "from tensorflow.keras.layers import Input, LSTM, Embedding, Dense, Concatenate, TimeDistributed\n",
    "from tensorflow.keras.models import Model\n",
    "from tensorflow.keras.callbacks import EarlyStopping, ModelCheckpoint"
   ]
  },
  {
   "cell_type": "code",
   "execution_count": 68,
   "id": "c91e4d31",
   "metadata": {},
   "outputs": [],
   "source": [
    "import tensorflow as tf\n",
    "from tensorflow.python.keras import backend as K\n",
    "\n",
    "logger = tf.get_logger()\n",
    "\n",
    "class AttentionLayer(tf.keras.layers.Layer):\n",
    "    \"\"\"\n",
    "    This class implements Bahdanau attention (https://arxiv.org/pdf/1409.0473.pdf).\n",
    "    There are three sets of weights introduced W_a, U_a, and V_a\n",
    "     \"\"\"\n",
    "\n",
    "    def __init__(self, **kwargs):\n",
    "        super(AttentionLayer, self).__init__(**kwargs)\n",
    "\n",
    "    def build(self, input_shape):\n",
    "        assert isinstance(input_shape, list)\n",
    "        # Create a trainable weight variable for this layer.\n",
    "\n",
    "        self.W_a = self.add_weight(name='W_a',\n",
    "                                   shape=tf.TensorShape((input_shape[0][2], input_shape[0][2])),\n",
    "                                   initializer='uniform',\n",
    "                                   trainable=True)\n",
    "        self.U_a = self.add_weight(name='U_a',\n",
    "                                   shape=tf.TensorShape((input_shape[1][2], input_shape[0][2])),\n",
    "                                   initializer='uniform',\n",
    "                                   trainable=True)\n",
    "        self.V_a = self.add_weight(name='V_a',\n",
    "                                   shape=tf.TensorShape((input_shape[0][2], 1)),\n",
    "                                   initializer='uniform',\n",
    "                                   trainable=True)\n",
    "\n",
    "        super(AttentionLayer, self).build(input_shape)  # Be sure to call this at the end\n",
    "\n",
    "    def call(self, inputs):\n",
    "        \"\"\"\n",
    "        inputs: [encoder_output_sequence, decoder_output_sequence]\n",
    "        \"\"\"\n",
    "        assert type(inputs) == list\n",
    "        encoder_out_seq, decoder_out_seq = inputs\n",
    "\n",
    "        logger.debug(f\"encoder_out_seq.shape = {encoder_out_seq.shape}\")\n",
    "        logger.debug(f\"decoder_out_seq.shape = {decoder_out_seq.shape}\")\n",
    "\n",
    "        def energy_step(inputs, states):\n",
    "            \"\"\" Step function for computing energy for a single decoder state\n",
    "            inputs: (batchsize * 1 * de_in_dim)\n",
    "            states: (batchsize * 1 * de_latent_dim)\n",
    "            \"\"\"\n",
    "\n",
    "            logger.debug(\"Running energy computation step\")\n",
    "\n",
    "            if not isinstance(states, (list, tuple)):\n",
    "                raise TypeError(f\"States must be an iterable. Got {states} of type {type(states)}\")\n",
    "\n",
    "            encoder_full_seq = states[-1]\n",
    "\n",
    "            \"\"\" Computing S.Wa where S=[s0, s1, ..., si]\"\"\"\n",
    "            # <= batch size * en_seq_len * latent_dim\n",
    "            W_a_dot_s = K.dot(encoder_full_seq, self.W_a)\n",
    "\n",
    "            \"\"\" Computing hj.Ua \"\"\"\n",
    "            U_a_dot_h = K.expand_dims(K.dot(inputs, self.U_a), 1)  # <= batch_size, 1, latent_dim\n",
    "\n",
    "            logger.debug(f\"U_a_dot_h.shape = {U_a_dot_h.shape}\")\n",
    "\n",
    "            \"\"\" tanh(S.Wa + hj.Ua) \"\"\"\n",
    "            # <= batch_size*en_seq_len, latent_dim\n",
    "            Ws_plus_Uh = K.tanh(W_a_dot_s + U_a_dot_h)\n",
    "\n",
    "            logger.debug(f\"Ws_plus_Uh.shape = {Ws_plus_Uh.shape}\")\n",
    "\n",
    "            \"\"\" softmax(va.tanh(S.Wa + hj.Ua)) \"\"\"\n",
    "            # <= batch_size, en_seq_len\n",
    "            e_i = K.squeeze(K.dot(Ws_plus_Uh, self.V_a), axis=-1)\n",
    "            # <= batch_size, en_seq_len\n",
    "            e_i = K.softmax(e_i)\n",
    "\n",
    "            logger.debug(f\"ei.shape = {e_i.shape}\")\n",
    "\n",
    "            return e_i, [e_i]\n",
    "\n",
    "        def context_step(inputs, states):\n",
    "            \"\"\" Step function for computing ci using ei \"\"\"\n",
    "\n",
    "            logger.debug(\"Running attention vector computation step\")\n",
    "\n",
    "            if not isinstance(states, (list, tuple)):\n",
    "                raise TypeError(f\"States must be an iterable. Got {states} of type {type(states)}\")\n",
    "\n",
    "            encoder_full_seq = states[-1]\n",
    "\n",
    "            # <= batch_size, hidden_size\n",
    "            c_i = K.sum(encoder_full_seq * K.expand_dims(inputs, -1), axis=1)\n",
    "\n",
    "            logger.debug(f\"ci.shape = {c_i.shape}\")\n",
    "\n",
    "            return c_i, [c_i]\n",
    "\n",
    "        # we don't maintain states between steps when computing attention\n",
    "        # attention is stateless, so we're passing a fake state for RNN step function\n",
    "        fake_state_c = K.sum(encoder_out_seq, axis=1)\n",
    "        fake_state_e = K.sum(encoder_out_seq, axis=2)  # <= (batch_size, enc_seq_len, latent_dim\n",
    "\n",
    "        \"\"\" Computing energy outputs \"\"\"\n",
    "        # e_outputs => (batch_size, de_seq_len, en_seq_len)\n",
    "        last_out, e_outputs, _ = K.rnn(\n",
    "            energy_step, decoder_out_seq, [fake_state_e], constants=[encoder_out_seq]\n",
    "        )\n",
    "\n",
    "        \"\"\" Computing context vectors \"\"\"\n",
    "        last_out, c_outputs, _ = K.rnn(\n",
    "            context_step, e_outputs, [fake_state_c], constants=[encoder_out_seq]\n",
    "        )\n",
    "\n",
    "        return c_outputs, e_outputs\n",
    "\n",
    "    def compute_output_shape(self, input_shape):\n",
    "        \"\"\" Outputs produced by the layer \"\"\"\n",
    "        return [\n",
    "            tf.TensorShape((input_shape[1][0], input_shape[1][1], input_shape[1][2])),\n",
    "            tf.TensorShape((input_shape[1][0], input_shape[1][1], input_shape[0][1]))\n",
    "        ]"
   ]
  },
  {
   "cell_type": "code",
   "execution_count": 69,
   "id": "e7c57946",
   "metadata": {},
   "outputs": [
    {
     "name": "stderr",
     "output_type": "stream",
     "text": [
      "2023-01-13 10:01:09.206531: I tensorflow/stream_executor/cuda/cuda_gpu_executor.cc:966] could not open file to read NUMA node: /sys/bus/pci/devices/0000:01:00.0/numa_node\n",
      "Your kernel may have been built without NUMA support.\n",
      "2023-01-13 10:01:09.331797: I tensorflow/stream_executor/cuda/cuda_gpu_executor.cc:966] could not open file to read NUMA node: /sys/bus/pci/devices/0000:01:00.0/numa_node\n",
      "Your kernel may have been built without NUMA support.\n",
      "2023-01-13 10:01:09.332448: I tensorflow/stream_executor/cuda/cuda_gpu_executor.cc:966] could not open file to read NUMA node: /sys/bus/pci/devices/0000:01:00.0/numa_node\n",
      "Your kernel may have been built without NUMA support.\n",
      "2023-01-13 10:01:09.333456: I tensorflow/core/platform/cpu_feature_guard.cc:193] This TensorFlow binary is optimized with oneAPI Deep Neural Network Library (oneDNN) to use the following CPU instructions in performance-critical operations:  AVX2 FMA\n",
      "To enable them in other operations, rebuild TensorFlow with the appropriate compiler flags.\n",
      "2023-01-13 10:01:09.336471: I tensorflow/stream_executor/cuda/cuda_gpu_executor.cc:966] could not open file to read NUMA node: /sys/bus/pci/devices/0000:01:00.0/numa_node\n",
      "Your kernel may have been built without NUMA support.\n",
      "2023-01-13 10:01:09.337146: I tensorflow/stream_executor/cuda/cuda_gpu_executor.cc:966] could not open file to read NUMA node: /sys/bus/pci/devices/0000:01:00.0/numa_node\n",
      "Your kernel may have been built without NUMA support.\n",
      "2023-01-13 10:01:09.337774: I tensorflow/stream_executor/cuda/cuda_gpu_executor.cc:966] could not open file to read NUMA node: /sys/bus/pci/devices/0000:01:00.0/numa_node\n",
      "Your kernel may have been built without NUMA support.\n",
      "2023-01-13 10:01:11.229022: I tensorflow/stream_executor/cuda/cuda_gpu_executor.cc:966] could not open file to read NUMA node: /sys/bus/pci/devices/0000:01:00.0/numa_node\n",
      "Your kernel may have been built without NUMA support.\n",
      "2023-01-13 10:01:11.230323: I tensorflow/stream_executor/cuda/cuda_gpu_executor.cc:966] could not open file to read NUMA node: /sys/bus/pci/devices/0000:01:00.0/numa_node\n",
      "Your kernel may have been built without NUMA support.\n",
      "2023-01-13 10:01:11.230355: I tensorflow/core/common_runtime/gpu/gpu_device.cc:1700] Could not identify NUMA node of platform GPU id 0, defaulting to 0.  Your kernel may not have been built with NUMA support.\n",
      "2023-01-13 10:01:11.230935: I tensorflow/stream_executor/cuda/cuda_gpu_executor.cc:966] could not open file to read NUMA node: /sys/bus/pci/devices/0000:01:00.0/numa_node\n",
      "Your kernel may have been built without NUMA support.\n",
      "2023-01-13 10:01:11.230997: I tensorflow/core/common_runtime/gpu/gpu_device.cc:1616] Created device /job:localhost/replica:0/task:0/device:GPU:0 with 3937 MB memory:  -> device: 0, name: NVIDIA GeForce GTX 1660 Ti, pci bus id: 0000:01:00.0, compute capability: 7.5\n"
     ]
    }
   ],
   "source": [
    "from keras import backend as K\n",
    "K.clear_session()\n",
    "\n",
    "#Building a seq2seq model\n",
    "max_text_length = 250 \n",
    "hidden_dim = 70\n",
    "embedding_dim = 30\n",
    "\n",
    "#Encoder\n",
    "#Input data will be one-hot encoded and stored in encoder_inputs\n",
    "encoder_inputs = Input(shape = (max_text_length, ))\n",
    "\n",
    "#parameters - input_dim, output_dim, input_length\n",
    "enc_emb = Embedding(x_vocabulary, embedding_dim, input_length = max_text_length, trainable = True)(encoder_inputs)\n",
    "\n",
    "#encoded input to LSTM layer\n",
    "encoder_LSTM = LSTM(hidden_dim, return_sequences = True, return_state = True, dropout = 0.2)\n",
    "encoder_outputs_1, state_h1, state_c1 = encoder_LSTM(enc_emb)\n",
    "\n",
    "#LSTM layer 1 to layer 2\n",
    "LSTM_2 = LSTM(hidden_dim, return_sequences = True, return_state = True, dropout = 0.2)\n",
    "encoder_outputs_2, state_h2, state_c2 = LSTM_2(encoder_outputs_1)\n",
    "\n",
    "##Decoder - \"encoder_states\" is the initial state\n",
    "decoder_inputs = Input(shape = (None,))\n",
    "\n",
    "#Decoder embedding layer\n",
    "dec_emb_layer = Embedding(y_vocabulary, embedding_dim, input_length = max_text_length, trainable = True)\n",
    "dec_emb = dec_emb_layer(decoder_inputs)\n",
    "\n",
    "#Decoder LSTM\n",
    "decoder_LSTM = LSTM(hidden_dim, return_state = True, return_sequences = True, dropout = 0.2)\n",
    "decoder_outputs, decoded_h, decoded_c = decoder_LSTM(dec_emb, initial_state = [state_h2, state_c2])\n",
    "\n",
    "#Custom attention layer\n",
    "attn_layer = AttentionLayer(name = 'attention_layer')\n",
    "attn_out, attn_states = attn_layer([encoder_outputs_2, decoder_outputs])\n",
    "\n",
    "#Concatenate attention input and decoder LSTM output\n",
    "decoder_concat_input = Concatenate(axis=-1, name='concat_layer')([decoder_outputs, attn_out])\n",
    "\n",
    "#Dense layer\n",
    "decoder_dense = Dense(y_vocabulary, activation = 'softmax')\n",
    "decoder_dense_outputs = decoder_dense(decoder_concat_input)\n",
    "\n",
    "model = Model([encoder_inputs, decoder_inputs], attn_out)"
   ]
  },
  {
   "cell_type": "code",
   "execution_count": 70,
   "id": "3127d8b6",
   "metadata": {
    "scrolled": true
   },
   "outputs": [
    {
     "name": "stdout",
     "output_type": "stream",
     "text": [
      "Model: \"model\"\n",
      "__________________________________________________________________________________________________\n",
      " Layer (type)                   Output Shape         Param #     Connected to                     \n",
      "==================================================================================================\n",
      " input_1 (InputLayer)           [(None, 250)]        0           []                               \n",
      "                                                                                                  \n",
      " embedding (Embedding)          (None, 250, 30)      676440      ['input_1[0][0]']                \n",
      "                                                                                                  \n",
      " lstm (LSTM)                    [(None, 250, 70),    28280       ['embedding[0][0]']              \n",
      "                                 (None, 70),                                                      \n",
      "                                 (None, 70)]                                                      \n",
      "                                                                                                  \n",
      " input_2 (InputLayer)           [(None, None)]       0           []                               \n",
      "                                                                                                  \n",
      " lstm_1 (LSTM)                  [(None, 250, 70),    39480       ['lstm[0][0]']                   \n",
      "                                 (None, 70),                                                      \n",
      "                                 (None, 70)]                                                      \n",
      "                                                                                                  \n",
      " embedding_1 (Embedding)        (None, None, 30)     164610      ['input_2[0][0]']                \n",
      "                                                                                                  \n",
      " lstm_2 (LSTM)                  [(None, None, 70),   28280       ['embedding_1[0][0]',            \n",
      "                                 (None, 70),                      'lstm_1[0][1]',                 \n",
      "                                 (None, 70)]                      'lstm_1[0][2]']                 \n",
      "                                                                                                  \n",
      " attention_layer (AttentionLaye  ((None, None, 70),  9870        ['lstm_1[0][0]',                 \n",
      " r)                              (None, None, 250))               'lstm_2[0][0]']                 \n",
      "                                                                                                  \n",
      "==================================================================================================\n",
      "Total params: 946,960\n",
      "Trainable params: 946,960\n",
      "Non-trainable params: 0\n",
      "__________________________________________________________________________________________________\n"
     ]
    }
   ],
   "source": [
    "model.summary()"
   ]
  },
  {
   "cell_type": "code",
   "execution_count": 71,
   "id": "112bc275",
   "metadata": {},
   "outputs": [],
   "source": [
    "#current max_text_length = 250\n",
    "\n",
    "from tensorflow.keras.preprocessing.sequence import pad_sequences\n",
    "\n",
    "def padding(encoder_sequences, decoder_sequences, max_text_length):\n",
    "  \n",
    "    encoder_input_data = pad_sequences(encoder_sequences, maxlen=max_text_length, dtype='int32', padding='post', truncating='post')\n",
    "    decoder_input_data = pad_sequences(decoder_sequences, maxlen=max_text_length, dtype='int32', padding='post', truncating='post')\n",
    "\n",
    "    return encoder_input_data, decoder_input_data"
   ]
  },
  {
   "cell_type": "code",
   "execution_count": 72,
   "id": "41aca5fc",
   "metadata": {},
   "outputs": [
    {
     "name": "stdout",
     "output_type": "stream",
     "text": [
      "Length of the first element of the input encoder sequence :  308\n",
      "Length of the second element of the input encoder sequence :  71\n",
      "Longest element in the input encoder seq. :  1812\n",
      "Longest element in the output decoder seq :  51\n"
     ]
    }
   ],
   "source": [
    "print(\"Length of the first element of the input encoder sequence : \", len(x_train_seq[1]))\n",
    "print(\"Length of the second element of the input encoder sequence : \", len(x_train_seq[2]))\n",
    "print(\"Longest element in the input encoder seq. : \", len(max(x_train_seq, key = len)))\n",
    "print(\"Longest element in the output decoder seq : \", len(max(y_train_seq, key = len)))"
   ]
  },
  {
   "cell_type": "markdown",
   "id": "49a4ff06",
   "metadata": {},
   "source": [
    "We can see they are all of very different lengths. To avoid this we pad all the texts to a fixed length, in this case 250."
   ]
  },
  {
   "cell_type": "code",
   "execution_count": 73,
   "id": "8a6fcdf6",
   "metadata": {},
   "outputs": [],
   "source": [
    "#x_train_seq -> encoder sequence, BOS & EOS tagged\n",
    "#y_train_seq -> decoder sequence, BOS & EOS tagged\n",
    "x_train_final, y_train_final = padding(x_train_seq, y_train_seq, max_text_length)\n",
    "x_val_final, y_val_final = padding(x_val_seq, y_val_seq, max_text_length)"
   ]
  },
  {
   "cell_type": "code",
   "execution_count": 74,
   "id": "cf464e50",
   "metadata": {},
   "outputs": [
    {
     "name": "stdout",
     "output_type": "stream",
     "text": [
      "Length of the first element of the input encoder sequence :  250\n",
      "Length of the first element of the output decoder sequence :  250\n"
     ]
    }
   ],
   "source": [
    "print(\"Length of the first element of the input encoder sequence : \", len(x_train_final[1]))\n",
    "print(\"Length of the first element of the output decoder sequence : \", len(y_train_final[1]))"
   ]
  },
  {
   "cell_type": "code",
   "execution_count": 75,
   "id": "5457bc30",
   "metadata": {},
   "outputs": [
    {
     "name": "stdout",
     "output_type": "stream",
     "text": [
      "Input encoder sequence size :  4717\n",
      "Output encoder sequence size :  4717\n",
      "Input validation sequence size :  249\n",
      "Output validation sequence size :  249\n"
     ]
    }
   ],
   "source": [
    "print(\"Input encoder sequence size : \", len(x_train_final))\n",
    "print(\"Output encoder sequence size : \", len(y_train_final))\n",
    "print(\"Input validation sequence size : \", len(x_val_final))\n",
    "print(\"Output validation sequence size : \", len(x_val_final))"
   ]
  },
  {
   "cell_type": "code",
   "execution_count": 76,
   "id": "9b430b0f",
   "metadata": {},
   "outputs": [],
   "source": [
    "from keras import optimizers\n",
    "\n",
    "optimizer_obj = optimizers.RMSprop(learning_rate = 0.0005, clipvalue = 0.5)\n",
    "model.compile(optimizer=optimizer_obj, loss='mean_squared_logarithmic_error')"
   ]
  },
  {
   "cell_type": "markdown",
   "id": "d9f4f6ed",
   "metadata": {},
   "source": [
    "Using early stopping to just get checkpoints, really."
   ]
  },
  {
   "cell_type": "code",
   "execution_count": 77,
   "id": "5d1501b7",
   "metadata": {},
   "outputs": [],
   "source": [
    "es = [EarlyStopping(monitor='val_loss', mode='min', min_delta = 0.00001, verbose=1,patience=20), ModelCheckpoint('./MyModel2_tf',monitor='val_loss', verbose=1)]"
   ]
  },
  {
   "cell_type": "code",
   "execution_count": 213,
   "id": "a6ee97f2",
   "metadata": {},
   "outputs": [],
   "source": [
    "#loading weights after 1 checkpoint\n",
    "#model.load_weights('./MyModel_tf')"
   ]
  },
  {
   "cell_type": "code",
   "execution_count": 78,
   "id": "e4ea7409",
   "metadata": {},
   "outputs": [
    {
     "data": {
      "text/plain": [
       "[PhysicalDevice(name='/physical_device:GPU:0', device_type='GPU')]"
      ]
     },
     "execution_count": 78,
     "metadata": {},
     "output_type": "execute_result"
    }
   ],
   "source": [
    "tf.config.list_physical_devices('GPU')"
   ]
  },
  {
   "cell_type": "code",
   "execution_count": 79,
   "id": "37cec7d3",
   "metadata": {},
   "outputs": [
    {
     "name": "stdout",
     "output_type": "stream",
     "text": [
      "Epoch 1/200\n"
     ]
    },
    {
     "name": "stderr",
     "output_type": "stream",
     "text": [
      "2023-01-13 10:02:01.308112: I tensorflow/stream_executor/cuda/cuda_dnn.cc:384] Loaded cuDNN version 8100\n"
     ]
    },
    {
     "name": "stdout",
     "output_type": "stream",
     "text": [
      "37/37 [==============================] - ETA: 0s - loss: 1.8272\n",
      "Epoch 1: saving model to ./MyModel2_tf\n"
     ]
    },
    {
     "name": "stderr",
     "output_type": "stream",
     "text": [
      "WARNING:absl:Found untraced functions such as lstm_cell_layer_call_fn, lstm_cell_layer_call_and_return_conditional_losses, lstm_cell_1_layer_call_fn, lstm_cell_1_layer_call_and_return_conditional_losses, lstm_cell_2_layer_call_fn while saving (showing 5 of 6). These functions will not be directly callable after loading.\n"
     ]
    },
    {
     "name": "stdout",
     "output_type": "stream",
     "text": [
      "INFO:tensorflow:Assets written to: ./MyModel2_tf/assets\n"
     ]
    },
    {
     "name": "stderr",
     "output_type": "stream",
     "text": [
      "INFO:tensorflow:Assets written to: ./MyModel2_tf/assets\n"
     ]
    },
    {
     "name": "stdout",
     "output_type": "stream",
     "text": [
      "37/37 [==============================] - 156s 4s/step - loss: 1.8272 - val_loss: 1.7924\n",
      "Epoch 2/200\n",
      "37/37 [==============================] - ETA: 0s - loss: 1.6622\n",
      "Epoch 2: saving model to ./MyModel2_tf\n"
     ]
    },
    {
     "name": "stderr",
     "output_type": "stream",
     "text": [
      "WARNING:absl:Found untraced functions such as lstm_cell_layer_call_fn, lstm_cell_layer_call_and_return_conditional_losses, lstm_cell_1_layer_call_fn, lstm_cell_1_layer_call_and_return_conditional_losses, lstm_cell_2_layer_call_fn while saving (showing 5 of 6). These functions will not be directly callable after loading.\n"
     ]
    },
    {
     "name": "stdout",
     "output_type": "stream",
     "text": [
      "INFO:tensorflow:Assets written to: ./MyModel2_tf/assets\n"
     ]
    },
    {
     "name": "stderr",
     "output_type": "stream",
     "text": [
      "INFO:tensorflow:Assets written to: ./MyModel2_tf/assets\n"
     ]
    },
    {
     "name": "stdout",
     "output_type": "stream",
     "text": [
      "37/37 [==============================] - 136s 4s/step - loss: 1.6622 - val_loss: 1.5834\n",
      "Epoch 3/200\n",
      "37/37 [==============================] - ETA: 0s - loss: 1.5767\n",
      "Epoch 3: saving model to ./MyModel2_tf\n"
     ]
    },
    {
     "name": "stderr",
     "output_type": "stream",
     "text": [
      "WARNING:absl:Found untraced functions such as lstm_cell_layer_call_fn, lstm_cell_layer_call_and_return_conditional_losses, lstm_cell_1_layer_call_fn, lstm_cell_1_layer_call_and_return_conditional_losses, lstm_cell_2_layer_call_fn while saving (showing 5 of 6). These functions will not be directly callable after loading.\n"
     ]
    },
    {
     "name": "stdout",
     "output_type": "stream",
     "text": [
      "INFO:tensorflow:Assets written to: ./MyModel2_tf/assets\n"
     ]
    },
    {
     "name": "stderr",
     "output_type": "stream",
     "text": [
      "INFO:tensorflow:Assets written to: ./MyModel2_tf/assets\n"
     ]
    },
    {
     "name": "stdout",
     "output_type": "stream",
     "text": [
      "37/37 [==============================] - 133s 4s/step - loss: 1.5767 - val_loss: 1.5597\n",
      "Epoch 4/200\n",
      "37/37 [==============================] - ETA: 0s - loss: 1.5636\n",
      "Epoch 4: saving model to ./MyModel2_tf\n"
     ]
    },
    {
     "name": "stderr",
     "output_type": "stream",
     "text": [
      "WARNING:absl:Found untraced functions such as lstm_cell_layer_call_fn, lstm_cell_layer_call_and_return_conditional_losses, lstm_cell_1_layer_call_fn, lstm_cell_1_layer_call_and_return_conditional_losses, lstm_cell_2_layer_call_fn while saving (showing 5 of 6). These functions will not be directly callable after loading.\n"
     ]
    },
    {
     "name": "stdout",
     "output_type": "stream",
     "text": [
      "INFO:tensorflow:Assets written to: ./MyModel2_tf/assets\n"
     ]
    },
    {
     "name": "stderr",
     "output_type": "stream",
     "text": [
      "INFO:tensorflow:Assets written to: ./MyModel2_tf/assets\n"
     ]
    },
    {
     "name": "stdout",
     "output_type": "stream",
     "text": [
      "37/37 [==============================] - 150s 4s/step - loss: 1.5636 - val_loss: 1.5529\n",
      "Epoch 5/200\n",
      "37/37 [==============================] - ETA: 0s - loss: 1.5587\n",
      "Epoch 5: saving model to ./MyModel2_tf\n"
     ]
    },
    {
     "name": "stderr",
     "output_type": "stream",
     "text": [
      "WARNING:absl:Found untraced functions such as lstm_cell_layer_call_fn, lstm_cell_layer_call_and_return_conditional_losses, lstm_cell_1_layer_call_fn, lstm_cell_1_layer_call_and_return_conditional_losses, lstm_cell_2_layer_call_fn while saving (showing 5 of 6). These functions will not be directly callable after loading.\n"
     ]
    },
    {
     "name": "stdout",
     "output_type": "stream",
     "text": [
      "INFO:tensorflow:Assets written to: ./MyModel2_tf/assets\n"
     ]
    },
    {
     "name": "stderr",
     "output_type": "stream",
     "text": [
      "INFO:tensorflow:Assets written to: ./MyModel2_tf/assets\n"
     ]
    },
    {
     "name": "stdout",
     "output_type": "stream",
     "text": [
      "37/37 [==============================] - 147s 4s/step - loss: 1.5587 - val_loss: 1.5504\n",
      "Epoch 6/200\n",
      "37/37 [==============================] - ETA: 0s - loss: 1.5564\n",
      "Epoch 6: saving model to ./MyModel2_tf\n"
     ]
    },
    {
     "name": "stderr",
     "output_type": "stream",
     "text": [
      "WARNING:absl:Found untraced functions such as lstm_cell_layer_call_fn, lstm_cell_layer_call_and_return_conditional_losses, lstm_cell_1_layer_call_fn, lstm_cell_1_layer_call_and_return_conditional_losses, lstm_cell_2_layer_call_fn while saving (showing 5 of 6). These functions will not be directly callable after loading.\n"
     ]
    },
    {
     "name": "stdout",
     "output_type": "stream",
     "text": [
      "INFO:tensorflow:Assets written to: ./MyModel2_tf/assets\n"
     ]
    },
    {
     "name": "stderr",
     "output_type": "stream",
     "text": [
      "INFO:tensorflow:Assets written to: ./MyModel2_tf/assets\n"
     ]
    },
    {
     "name": "stdout",
     "output_type": "stream",
     "text": [
      "37/37 [==============================] - 148s 4s/step - loss: 1.5564 - val_loss: 1.5484\n",
      "Epoch 7/200\n",
      "37/37 [==============================] - ETA: 0s - loss: 1.5551\n",
      "Epoch 7: saving model to ./MyModel2_tf\n"
     ]
    },
    {
     "name": "stderr",
     "output_type": "stream",
     "text": [
      "WARNING:absl:Found untraced functions such as lstm_cell_layer_call_fn, lstm_cell_layer_call_and_return_conditional_losses, lstm_cell_1_layer_call_fn, lstm_cell_1_layer_call_and_return_conditional_losses, lstm_cell_2_layer_call_fn while saving (showing 5 of 6). These functions will not be directly callable after loading.\n"
     ]
    },
    {
     "name": "stdout",
     "output_type": "stream",
     "text": [
      "INFO:tensorflow:Assets written to: ./MyModel2_tf/assets\n"
     ]
    },
    {
     "name": "stderr",
     "output_type": "stream",
     "text": [
      "INFO:tensorflow:Assets written to: ./MyModel2_tf/assets\n"
     ]
    },
    {
     "name": "stdout",
     "output_type": "stream",
     "text": [
      "37/37 [==============================] - 149s 4s/step - loss: 1.5551 - val_loss: 1.5477\n",
      "Epoch 8/200\n",
      "37/37 [==============================] - ETA: 0s - loss: 1.5542\n",
      "Epoch 8: saving model to ./MyModel2_tf\n"
     ]
    },
    {
     "name": "stderr",
     "output_type": "stream",
     "text": [
      "WARNING:absl:Found untraced functions such as lstm_cell_layer_call_fn, lstm_cell_layer_call_and_return_conditional_losses, lstm_cell_1_layer_call_fn, lstm_cell_1_layer_call_and_return_conditional_losses, lstm_cell_2_layer_call_fn while saving (showing 5 of 6). These functions will not be directly callable after loading.\n"
     ]
    },
    {
     "name": "stdout",
     "output_type": "stream",
     "text": [
      "INFO:tensorflow:Assets written to: ./MyModel2_tf/assets\n"
     ]
    },
    {
     "name": "stderr",
     "output_type": "stream",
     "text": [
      "INFO:tensorflow:Assets written to: ./MyModel2_tf/assets\n"
     ]
    },
    {
     "name": "stdout",
     "output_type": "stream",
     "text": [
      "37/37 [==============================] - 140s 4s/step - loss: 1.5542 - val_loss: 1.5467\n",
      "Epoch 9/200\n",
      "37/37 [==============================] - ETA: 0s - loss: 1.5474\n",
      "Epoch 9: saving model to ./MyModel2_tf\n"
     ]
    },
    {
     "name": "stderr",
     "output_type": "stream",
     "text": [
      "WARNING:absl:Found untraced functions such as lstm_cell_layer_call_fn, lstm_cell_layer_call_and_return_conditional_losses, lstm_cell_1_layer_call_fn, lstm_cell_1_layer_call_and_return_conditional_losses, lstm_cell_2_layer_call_fn while saving (showing 5 of 6). These functions will not be directly callable after loading.\n"
     ]
    },
    {
     "name": "stdout",
     "output_type": "stream",
     "text": [
      "INFO:tensorflow:Assets written to: ./MyModel2_tf/assets\n"
     ]
    },
    {
     "name": "stderr",
     "output_type": "stream",
     "text": [
      "INFO:tensorflow:Assets written to: ./MyModel2_tf/assets\n"
     ]
    },
    {
     "name": "stdout",
     "output_type": "stream",
     "text": [
      "37/37 [==============================] - 147s 4s/step - loss: 1.5474 - val_loss: 1.5243\n",
      "Epoch 10/200\n",
      "37/37 [==============================] - ETA: 0s - loss: 1.5308\n",
      "Epoch 10: saving model to ./MyModel2_tf\n"
     ]
    },
    {
     "name": "stderr",
     "output_type": "stream",
     "text": [
      "WARNING:absl:Found untraced functions such as lstm_cell_layer_call_fn, lstm_cell_layer_call_and_return_conditional_losses, lstm_cell_1_layer_call_fn, lstm_cell_1_layer_call_and_return_conditional_losses, lstm_cell_2_layer_call_fn while saving (showing 5 of 6). These functions will not be directly callable after loading.\n"
     ]
    },
    {
     "name": "stdout",
     "output_type": "stream",
     "text": [
      "INFO:tensorflow:Assets written to: ./MyModel2_tf/assets\n"
     ]
    },
    {
     "name": "stderr",
     "output_type": "stream",
     "text": [
      "INFO:tensorflow:Assets written to: ./MyModel2_tf/assets\n"
     ]
    },
    {
     "name": "stdout",
     "output_type": "stream",
     "text": [
      "37/37 [==============================] - 133s 4s/step - loss: 1.5308 - val_loss: 1.5241\n",
      "Epoch 11/200\n",
      "37/37 [==============================] - ETA: 0s - loss: 1.5307\n",
      "Epoch 11: saving model to ./MyModel2_tf\n"
     ]
    },
    {
     "name": "stderr",
     "output_type": "stream",
     "text": [
      "WARNING:absl:Found untraced functions such as lstm_cell_layer_call_fn, lstm_cell_layer_call_and_return_conditional_losses, lstm_cell_1_layer_call_fn, lstm_cell_1_layer_call_and_return_conditional_losses, lstm_cell_2_layer_call_fn while saving (showing 5 of 6). These functions will not be directly callable after loading.\n"
     ]
    },
    {
     "name": "stdout",
     "output_type": "stream",
     "text": [
      "INFO:tensorflow:Assets written to: ./MyModel2_tf/assets\n"
     ]
    },
    {
     "name": "stderr",
     "output_type": "stream",
     "text": [
      "INFO:tensorflow:Assets written to: ./MyModel2_tf/assets\n"
     ]
    },
    {
     "name": "stdout",
     "output_type": "stream",
     "text": [
      "37/37 [==============================] - 135s 4s/step - loss: 1.5307 - val_loss: 1.5240\n",
      "Epoch 12/200\n",
      "37/37 [==============================] - ETA: 0s - loss: 1.5306\n",
      "Epoch 12: saving model to ./MyModel2_tf\n"
     ]
    },
    {
     "name": "stderr",
     "output_type": "stream",
     "text": [
      "WARNING:absl:Found untraced functions such as lstm_cell_layer_call_fn, lstm_cell_layer_call_and_return_conditional_losses, lstm_cell_1_layer_call_fn, lstm_cell_1_layer_call_and_return_conditional_losses, lstm_cell_2_layer_call_fn while saving (showing 5 of 6). These functions will not be directly callable after loading.\n"
     ]
    },
    {
     "name": "stdout",
     "output_type": "stream",
     "text": [
      "INFO:tensorflow:Assets written to: ./MyModel2_tf/assets\n"
     ]
    },
    {
     "name": "stderr",
     "output_type": "stream",
     "text": [
      "INFO:tensorflow:Assets written to: ./MyModel2_tf/assets\n"
     ]
    },
    {
     "name": "stdout",
     "output_type": "stream",
     "text": [
      "37/37 [==============================] - 133s 4s/step - loss: 1.5306 - val_loss: 1.5240\n",
      "Epoch 13/200\n",
      "37/37 [==============================] - ETA: 0s - loss: 1.5306\n",
      "Epoch 13: saving model to ./MyModel2_tf\n"
     ]
    },
    {
     "name": "stderr",
     "output_type": "stream",
     "text": [
      "WARNING:absl:Found untraced functions such as lstm_cell_layer_call_fn, lstm_cell_layer_call_and_return_conditional_losses, lstm_cell_1_layer_call_fn, lstm_cell_1_layer_call_and_return_conditional_losses, lstm_cell_2_layer_call_fn while saving (showing 5 of 6). These functions will not be directly callable after loading.\n"
     ]
    },
    {
     "name": "stdout",
     "output_type": "stream",
     "text": [
      "INFO:tensorflow:Assets written to: ./MyModel2_tf/assets\n"
     ]
    },
    {
     "name": "stderr",
     "output_type": "stream",
     "text": [
      "INFO:tensorflow:Assets written to: ./MyModel2_tf/assets\n"
     ]
    },
    {
     "name": "stdout",
     "output_type": "stream",
     "text": [
      "37/37 [==============================] - 134s 4s/step - loss: 1.5306 - val_loss: 1.5240\n",
      "Epoch 14/200\n",
      "37/37 [==============================] - ETA: 0s - loss: 1.5306\n",
      "Epoch 14: saving model to ./MyModel2_tf\n"
     ]
    },
    {
     "name": "stderr",
     "output_type": "stream",
     "text": [
      "WARNING:absl:Found untraced functions such as lstm_cell_layer_call_fn, lstm_cell_layer_call_and_return_conditional_losses, lstm_cell_1_layer_call_fn, lstm_cell_1_layer_call_and_return_conditional_losses, lstm_cell_2_layer_call_fn while saving (showing 5 of 6). These functions will not be directly callable after loading.\n"
     ]
    },
    {
     "name": "stdout",
     "output_type": "stream",
     "text": [
      "INFO:tensorflow:Assets written to: ./MyModel2_tf/assets\n"
     ]
    },
    {
     "name": "stderr",
     "output_type": "stream",
     "text": [
      "INFO:tensorflow:Assets written to: ./MyModel2_tf/assets\n"
     ]
    },
    {
     "name": "stdout",
     "output_type": "stream",
     "text": [
      "37/37 [==============================] - 134s 4s/step - loss: 1.5306 - val_loss: 1.5240\n",
      "Epoch 15/200\n",
      "37/37 [==============================] - ETA: 0s - loss: 1.5306\n",
      "Epoch 15: saving model to ./MyModel2_tf\n"
     ]
    },
    {
     "name": "stderr",
     "output_type": "stream",
     "text": [
      "WARNING:absl:Found untraced functions such as lstm_cell_layer_call_fn, lstm_cell_layer_call_and_return_conditional_losses, lstm_cell_1_layer_call_fn, lstm_cell_1_layer_call_and_return_conditional_losses, lstm_cell_2_layer_call_fn while saving (showing 5 of 6). These functions will not be directly callable after loading.\n"
     ]
    },
    {
     "name": "stdout",
     "output_type": "stream",
     "text": [
      "INFO:tensorflow:Assets written to: ./MyModel2_tf/assets\n"
     ]
    },
    {
     "name": "stderr",
     "output_type": "stream",
     "text": [
      "INFO:tensorflow:Assets written to: ./MyModel2_tf/assets\n"
     ]
    },
    {
     "name": "stdout",
     "output_type": "stream",
     "text": [
      "37/37 [==============================] - 144s 4s/step - loss: 1.5306 - val_loss: 1.5240\n",
      "Epoch 16/200\n",
      "37/37 [==============================] - ETA: 0s - loss: 1.5215\n",
      "Epoch 16: saving model to ./MyModel2_tf\n"
     ]
    },
    {
     "name": "stderr",
     "output_type": "stream",
     "text": [
      "WARNING:absl:Found untraced functions such as lstm_cell_layer_call_fn, lstm_cell_layer_call_and_return_conditional_losses, lstm_cell_1_layer_call_fn, lstm_cell_1_layer_call_and_return_conditional_losses, lstm_cell_2_layer_call_fn while saving (showing 5 of 6). These functions will not be directly callable after loading.\n"
     ]
    },
    {
     "name": "stdout",
     "output_type": "stream",
     "text": [
      "INFO:tensorflow:Assets written to: ./MyModel2_tf/assets\n"
     ]
    },
    {
     "name": "stderr",
     "output_type": "stream",
     "text": [
      "INFO:tensorflow:Assets written to: ./MyModel2_tf/assets\n"
     ]
    },
    {
     "name": "stdout",
     "output_type": "stream",
     "text": [
      "37/37 [==============================] - 147s 4s/step - loss: 1.5215 - val_loss: 1.5128\n",
      "Epoch 17/200\n",
      "37/37 [==============================] - ETA: 0s - loss: 1.5191\n",
      "Epoch 17: saving model to ./MyModel2_tf\n"
     ]
    },
    {
     "name": "stderr",
     "output_type": "stream",
     "text": [
      "WARNING:absl:Found untraced functions such as lstm_cell_layer_call_fn, lstm_cell_layer_call_and_return_conditional_losses, lstm_cell_1_layer_call_fn, lstm_cell_1_layer_call_and_return_conditional_losses, lstm_cell_2_layer_call_fn while saving (showing 5 of 6). These functions will not be directly callable after loading.\n"
     ]
    },
    {
     "name": "stdout",
     "output_type": "stream",
     "text": [
      "INFO:tensorflow:Assets written to: ./MyModel2_tf/assets\n"
     ]
    },
    {
     "name": "stderr",
     "output_type": "stream",
     "text": [
      "INFO:tensorflow:Assets written to: ./MyModel2_tf/assets\n"
     ]
    },
    {
     "name": "stdout",
     "output_type": "stream",
     "text": [
      "37/37 [==============================] - 146s 4s/step - loss: 1.5191 - val_loss: 1.5128\n",
      "Epoch 18/200\n",
      "37/37 [==============================] - ETA: 0s - loss: 1.5191\n",
      "Epoch 18: saving model to ./MyModel2_tf\n"
     ]
    },
    {
     "name": "stderr",
     "output_type": "stream",
     "text": [
      "WARNING:absl:Found untraced functions such as lstm_cell_layer_call_fn, lstm_cell_layer_call_and_return_conditional_losses, lstm_cell_1_layer_call_fn, lstm_cell_1_layer_call_and_return_conditional_losses, lstm_cell_2_layer_call_fn while saving (showing 5 of 6). These functions will not be directly callable after loading.\n"
     ]
    },
    {
     "name": "stdout",
     "output_type": "stream",
     "text": [
      "INFO:tensorflow:Assets written to: ./MyModel2_tf/assets\n"
     ]
    },
    {
     "name": "stderr",
     "output_type": "stream",
     "text": [
      "INFO:tensorflow:Assets written to: ./MyModel2_tf/assets\n"
     ]
    },
    {
     "name": "stdout",
     "output_type": "stream",
     "text": [
      "37/37 [==============================] - 147s 4s/step - loss: 1.5191 - val_loss: 1.5128\n",
      "Epoch 19/200\n",
      "37/37 [==============================] - ETA: 0s - loss: 1.5191\n",
      "Epoch 19: saving model to ./MyModel2_tf\n"
     ]
    },
    {
     "name": "stderr",
     "output_type": "stream",
     "text": [
      "WARNING:absl:Found untraced functions such as lstm_cell_layer_call_fn, lstm_cell_layer_call_and_return_conditional_losses, lstm_cell_1_layer_call_fn, lstm_cell_1_layer_call_and_return_conditional_losses, lstm_cell_2_layer_call_fn while saving (showing 5 of 6). These functions will not be directly callable after loading.\n"
     ]
    },
    {
     "name": "stdout",
     "output_type": "stream",
     "text": [
      "INFO:tensorflow:Assets written to: ./MyModel2_tf/assets\n"
     ]
    },
    {
     "name": "stderr",
     "output_type": "stream",
     "text": [
      "INFO:tensorflow:Assets written to: ./MyModel2_tf/assets\n"
     ]
    },
    {
     "name": "stdout",
     "output_type": "stream",
     "text": [
      "37/37 [==============================] - 137s 4s/step - loss: 1.5191 - val_loss: 1.5128\n",
      "Epoch 20/200\n",
      "37/37 [==============================] - ETA: 0s - loss: 1.5191\n",
      "Epoch 20: saving model to ./MyModel2_tf\n"
     ]
    },
    {
     "name": "stderr",
     "output_type": "stream",
     "text": [
      "WARNING:absl:Found untraced functions such as lstm_cell_layer_call_fn, lstm_cell_layer_call_and_return_conditional_losses, lstm_cell_1_layer_call_fn, lstm_cell_1_layer_call_and_return_conditional_losses, lstm_cell_2_layer_call_fn while saving (showing 5 of 6). These functions will not be directly callable after loading.\n"
     ]
    },
    {
     "name": "stdout",
     "output_type": "stream",
     "text": [
      "INFO:tensorflow:Assets written to: ./MyModel2_tf/assets\n"
     ]
    },
    {
     "name": "stderr",
     "output_type": "stream",
     "text": [
      "INFO:tensorflow:Assets written to: ./MyModel2_tf/assets\n"
     ]
    },
    {
     "name": "stdout",
     "output_type": "stream",
     "text": [
      "37/37 [==============================] - 133s 4s/step - loss: 1.5191 - val_loss: 1.5128\n",
      "Epoch 21/200\n",
      "37/37 [==============================] - ETA: 0s - loss: 1.5191\n",
      "Epoch 21: saving model to ./MyModel2_tf\n"
     ]
    },
    {
     "name": "stderr",
     "output_type": "stream",
     "text": [
      "WARNING:absl:Found untraced functions such as lstm_cell_layer_call_fn, lstm_cell_layer_call_and_return_conditional_losses, lstm_cell_1_layer_call_fn, lstm_cell_1_layer_call_and_return_conditional_losses, lstm_cell_2_layer_call_fn while saving (showing 5 of 6). These functions will not be directly callable after loading.\n"
     ]
    },
    {
     "name": "stdout",
     "output_type": "stream",
     "text": [
      "INFO:tensorflow:Assets written to: ./MyModel2_tf/assets\n"
     ]
    },
    {
     "name": "stderr",
     "output_type": "stream",
     "text": [
      "INFO:tensorflow:Assets written to: ./MyModel2_tf/assets\n"
     ]
    },
    {
     "name": "stdout",
     "output_type": "stream",
     "text": [
      "37/37 [==============================] - 140s 4s/step - loss: 1.5191 - val_loss: 1.5127\n",
      "Epoch 22/200\n",
      "37/37 [==============================] - ETA: 0s - loss: 1.5191\n",
      "Epoch 22: saving model to ./MyModel2_tf\n"
     ]
    },
    {
     "name": "stderr",
     "output_type": "stream",
     "text": [
      "WARNING:absl:Found untraced functions such as lstm_cell_layer_call_fn, lstm_cell_layer_call_and_return_conditional_losses, lstm_cell_1_layer_call_fn, lstm_cell_1_layer_call_and_return_conditional_losses, lstm_cell_2_layer_call_fn while saving (showing 5 of 6). These functions will not be directly callable after loading.\n"
     ]
    },
    {
     "name": "stdout",
     "output_type": "stream",
     "text": [
      "INFO:tensorflow:Assets written to: ./MyModel2_tf/assets\n"
     ]
    },
    {
     "name": "stderr",
     "output_type": "stream",
     "text": [
      "INFO:tensorflow:Assets written to: ./MyModel2_tf/assets\n"
     ]
    },
    {
     "name": "stdout",
     "output_type": "stream",
     "text": [
      "37/37 [==============================] - 147s 4s/step - loss: 1.5191 - val_loss: 1.5127\n",
      "Epoch 23/200\n",
      "37/37 [==============================] - ETA: 0s - loss: 1.5191\n",
      "Epoch 23: saving model to ./MyModel2_tf\n"
     ]
    },
    {
     "name": "stderr",
     "output_type": "stream",
     "text": [
      "WARNING:absl:Found untraced functions such as lstm_cell_layer_call_fn, lstm_cell_layer_call_and_return_conditional_losses, lstm_cell_1_layer_call_fn, lstm_cell_1_layer_call_and_return_conditional_losses, lstm_cell_2_layer_call_fn while saving (showing 5 of 6). These functions will not be directly callable after loading.\n"
     ]
    },
    {
     "name": "stdout",
     "output_type": "stream",
     "text": [
      "INFO:tensorflow:Assets written to: ./MyModel2_tf/assets\n"
     ]
    },
    {
     "name": "stderr",
     "output_type": "stream",
     "text": [
      "INFO:tensorflow:Assets written to: ./MyModel2_tf/assets\n"
     ]
    },
    {
     "name": "stdout",
     "output_type": "stream",
     "text": [
      "37/37 [==============================] - 146s 4s/step - loss: 1.5191 - val_loss: 1.5127\n",
      "Epoch 24/200\n",
      "37/37 [==============================] - ETA: 0s - loss: 1.5191\n",
      "Epoch 24: saving model to ./MyModel2_tf\n"
     ]
    },
    {
     "name": "stderr",
     "output_type": "stream",
     "text": [
      "WARNING:absl:Found untraced functions such as lstm_cell_layer_call_fn, lstm_cell_layer_call_and_return_conditional_losses, lstm_cell_1_layer_call_fn, lstm_cell_1_layer_call_and_return_conditional_losses, lstm_cell_2_layer_call_fn while saving (showing 5 of 6). These functions will not be directly callable after loading.\n"
     ]
    },
    {
     "name": "stdout",
     "output_type": "stream",
     "text": [
      "INFO:tensorflow:Assets written to: ./MyModel2_tf/assets\n"
     ]
    },
    {
     "name": "stderr",
     "output_type": "stream",
     "text": [
      "INFO:tensorflow:Assets written to: ./MyModel2_tf/assets\n"
     ]
    },
    {
     "name": "stdout",
     "output_type": "stream",
     "text": [
      "37/37 [==============================] - 148s 4s/step - loss: 1.5191 - val_loss: 1.5127\n",
      "Epoch 25/200\n",
      "37/37 [==============================] - ETA: 0s - loss: 1.5191\n",
      "Epoch 25: saving model to ./MyModel2_tf\n"
     ]
    },
    {
     "name": "stderr",
     "output_type": "stream",
     "text": [
      "WARNING:absl:Found untraced functions such as lstm_cell_layer_call_fn, lstm_cell_layer_call_and_return_conditional_losses, lstm_cell_1_layer_call_fn, lstm_cell_1_layer_call_and_return_conditional_losses, lstm_cell_2_layer_call_fn while saving (showing 5 of 6). These functions will not be directly callable after loading.\n"
     ]
    },
    {
     "name": "stdout",
     "output_type": "stream",
     "text": [
      "INFO:tensorflow:Assets written to: ./MyModel2_tf/assets\n"
     ]
    },
    {
     "name": "stderr",
     "output_type": "stream",
     "text": [
      "INFO:tensorflow:Assets written to: ./MyModel2_tf/assets\n"
     ]
    },
    {
     "name": "stdout",
     "output_type": "stream",
     "text": [
      "37/37 [==============================] - 142s 4s/step - loss: 1.5191 - val_loss: 1.5127\n",
      "Epoch 26/200\n",
      "37/37 [==============================] - ETA: 0s - loss: 1.5191\n",
      "Epoch 26: saving model to ./MyModel2_tf\n"
     ]
    },
    {
     "name": "stderr",
     "output_type": "stream",
     "text": [
      "WARNING:absl:Found untraced functions such as lstm_cell_layer_call_fn, lstm_cell_layer_call_and_return_conditional_losses, lstm_cell_1_layer_call_fn, lstm_cell_1_layer_call_and_return_conditional_losses, lstm_cell_2_layer_call_fn while saving (showing 5 of 6). These functions will not be directly callable after loading.\n"
     ]
    },
    {
     "name": "stdout",
     "output_type": "stream",
     "text": [
      "INFO:tensorflow:Assets written to: ./MyModel2_tf/assets\n"
     ]
    },
    {
     "name": "stderr",
     "output_type": "stream",
     "text": [
      "INFO:tensorflow:Assets written to: ./MyModel2_tf/assets\n"
     ]
    },
    {
     "name": "stdout",
     "output_type": "stream",
     "text": [
      "37/37 [==============================] - 132s 4s/step - loss: 1.5191 - val_loss: 1.5127\n",
      "Epoch 27/200\n",
      "37/37 [==============================] - ETA: 0s - loss: 1.5191\n",
      "Epoch 27: saving model to ./MyModel2_tf\n"
     ]
    },
    {
     "name": "stderr",
     "output_type": "stream",
     "text": [
      "WARNING:absl:Found untraced functions such as lstm_cell_layer_call_fn, lstm_cell_layer_call_and_return_conditional_losses, lstm_cell_1_layer_call_fn, lstm_cell_1_layer_call_and_return_conditional_losses, lstm_cell_2_layer_call_fn while saving (showing 5 of 6). These functions will not be directly callable after loading.\n"
     ]
    },
    {
     "name": "stdout",
     "output_type": "stream",
     "text": [
      "INFO:tensorflow:Assets written to: ./MyModel2_tf/assets\n"
     ]
    },
    {
     "name": "stderr",
     "output_type": "stream",
     "text": [
      "INFO:tensorflow:Assets written to: ./MyModel2_tf/assets\n"
     ]
    },
    {
     "name": "stdout",
     "output_type": "stream",
     "text": [
      "37/37 [==============================] - 135s 4s/step - loss: 1.5191 - val_loss: 1.5127\n",
      "Epoch 28/200\n",
      "37/37 [==============================] - ETA: 0s - loss: 1.5191\n",
      "Epoch 28: saving model to ./MyModel2_tf\n"
     ]
    },
    {
     "name": "stderr",
     "output_type": "stream",
     "text": [
      "WARNING:absl:Found untraced functions such as lstm_cell_layer_call_fn, lstm_cell_layer_call_and_return_conditional_losses, lstm_cell_1_layer_call_fn, lstm_cell_1_layer_call_and_return_conditional_losses, lstm_cell_2_layer_call_fn while saving (showing 5 of 6). These functions will not be directly callable after loading.\n"
     ]
    },
    {
     "name": "stdout",
     "output_type": "stream",
     "text": [
      "INFO:tensorflow:Assets written to: ./MyModel2_tf/assets\n"
     ]
    },
    {
     "name": "stderr",
     "output_type": "stream",
     "text": [
      "INFO:tensorflow:Assets written to: ./MyModel2_tf/assets\n"
     ]
    },
    {
     "name": "stdout",
     "output_type": "stream",
     "text": [
      "37/37 [==============================] - 137s 4s/step - loss: 1.5191 - val_loss: 1.5127\n",
      "Epoch 29/200\n",
      "37/37 [==============================] - ETA: 0s - loss: 1.5191\n",
      "Epoch 29: saving model to ./MyModel2_tf\n"
     ]
    },
    {
     "name": "stderr",
     "output_type": "stream",
     "text": [
      "WARNING:absl:Found untraced functions such as lstm_cell_layer_call_fn, lstm_cell_layer_call_and_return_conditional_losses, lstm_cell_1_layer_call_fn, lstm_cell_1_layer_call_and_return_conditional_losses, lstm_cell_2_layer_call_fn while saving (showing 5 of 6). These functions will not be directly callable after loading.\n"
     ]
    },
    {
     "name": "stdout",
     "output_type": "stream",
     "text": [
      "INFO:tensorflow:Assets written to: ./MyModel2_tf/assets\n"
     ]
    },
    {
     "name": "stderr",
     "output_type": "stream",
     "text": [
      "INFO:tensorflow:Assets written to: ./MyModel2_tf/assets\n"
     ]
    },
    {
     "name": "stdout",
     "output_type": "stream",
     "text": [
      "37/37 [==============================] - 134s 4s/step - loss: 1.5191 - val_loss: 1.5127\n",
      "Epoch 30/200\n",
      "37/37 [==============================] - ETA: 0s - loss: 1.5191\n",
      "Epoch 30: saving model to ./MyModel2_tf\n"
     ]
    },
    {
     "name": "stderr",
     "output_type": "stream",
     "text": [
      "WARNING:absl:Found untraced functions such as lstm_cell_layer_call_fn, lstm_cell_layer_call_and_return_conditional_losses, lstm_cell_1_layer_call_fn, lstm_cell_1_layer_call_and_return_conditional_losses, lstm_cell_2_layer_call_fn while saving (showing 5 of 6). These functions will not be directly callable after loading.\n"
     ]
    },
    {
     "name": "stdout",
     "output_type": "stream",
     "text": [
      "INFO:tensorflow:Assets written to: ./MyModel2_tf/assets\n"
     ]
    },
    {
     "name": "stderr",
     "output_type": "stream",
     "text": [
      "INFO:tensorflow:Assets written to: ./MyModel2_tf/assets\n"
     ]
    },
    {
     "name": "stdout",
     "output_type": "stream",
     "text": [
      "37/37 [==============================] - 135s 4s/step - loss: 1.5191 - val_loss: 1.5127\n",
      "Epoch 31/200\n",
      "37/37 [==============================] - ETA: 0s - loss: 1.5191\n",
      "Epoch 31: saving model to ./MyModel2_tf\n"
     ]
    },
    {
     "name": "stderr",
     "output_type": "stream",
     "text": [
      "WARNING:absl:Found untraced functions such as lstm_cell_layer_call_fn, lstm_cell_layer_call_and_return_conditional_losses, lstm_cell_1_layer_call_fn, lstm_cell_1_layer_call_and_return_conditional_losses, lstm_cell_2_layer_call_fn while saving (showing 5 of 6). These functions will not be directly callable after loading.\n"
     ]
    },
    {
     "name": "stdout",
     "output_type": "stream",
     "text": [
      "INFO:tensorflow:Assets written to: ./MyModel2_tf/assets\n"
     ]
    },
    {
     "name": "stderr",
     "output_type": "stream",
     "text": [
      "INFO:tensorflow:Assets written to: ./MyModel2_tf/assets\n"
     ]
    },
    {
     "name": "stdout",
     "output_type": "stream",
     "text": [
      "37/37 [==============================] - 134s 4s/step - loss: 1.5191 - val_loss: 1.5127\n",
      "Epoch 32/200\n",
      "37/37 [==============================] - ETA: 0s - loss: 1.5191\n",
      "Epoch 32: saving model to ./MyModel2_tf\n"
     ]
    },
    {
     "name": "stderr",
     "output_type": "stream",
     "text": [
      "WARNING:absl:Found untraced functions such as lstm_cell_layer_call_fn, lstm_cell_layer_call_and_return_conditional_losses, lstm_cell_1_layer_call_fn, lstm_cell_1_layer_call_and_return_conditional_losses, lstm_cell_2_layer_call_fn while saving (showing 5 of 6). These functions will not be directly callable after loading.\n"
     ]
    },
    {
     "name": "stdout",
     "output_type": "stream",
     "text": [
      "INFO:tensorflow:Assets written to: ./MyModel2_tf/assets\n"
     ]
    },
    {
     "name": "stderr",
     "output_type": "stream",
     "text": [
      "INFO:tensorflow:Assets written to: ./MyModel2_tf/assets\n"
     ]
    },
    {
     "name": "stdout",
     "output_type": "stream",
     "text": [
      "37/37 [==============================] - 137s 4s/step - loss: 1.5191 - val_loss: 1.5127\n",
      "Epoch 33/200\n",
      "37/37 [==============================] - ETA: 0s - loss: 1.5191\n",
      "Epoch 33: saving model to ./MyModel2_tf\n"
     ]
    },
    {
     "name": "stderr",
     "output_type": "stream",
     "text": [
      "WARNING:absl:Found untraced functions such as lstm_cell_layer_call_fn, lstm_cell_layer_call_and_return_conditional_losses, lstm_cell_1_layer_call_fn, lstm_cell_1_layer_call_and_return_conditional_losses, lstm_cell_2_layer_call_fn while saving (showing 5 of 6). These functions will not be directly callable after loading.\n"
     ]
    },
    {
     "name": "stdout",
     "output_type": "stream",
     "text": [
      "INFO:tensorflow:Assets written to: ./MyModel2_tf/assets\n"
     ]
    },
    {
     "name": "stderr",
     "output_type": "stream",
     "text": [
      "INFO:tensorflow:Assets written to: ./MyModel2_tf/assets\n"
     ]
    },
    {
     "name": "stdout",
     "output_type": "stream",
     "text": [
      "37/37 [==============================] - 133s 4s/step - loss: 1.5191 - val_loss: 1.5127\n",
      "Epoch 34/200\n",
      "37/37 [==============================] - ETA: 0s - loss: 1.5191\n",
      "Epoch 34: saving model to ./MyModel2_tf\n"
     ]
    },
    {
     "name": "stderr",
     "output_type": "stream",
     "text": [
      "WARNING:absl:Found untraced functions such as lstm_cell_layer_call_fn, lstm_cell_layer_call_and_return_conditional_losses, lstm_cell_1_layer_call_fn, lstm_cell_1_layer_call_and_return_conditional_losses, lstm_cell_2_layer_call_fn while saving (showing 5 of 6). These functions will not be directly callable after loading.\n"
     ]
    },
    {
     "name": "stdout",
     "output_type": "stream",
     "text": [
      "INFO:tensorflow:Assets written to: ./MyModel2_tf/assets\n"
     ]
    },
    {
     "name": "stderr",
     "output_type": "stream",
     "text": [
      "INFO:tensorflow:Assets written to: ./MyModel2_tf/assets\n"
     ]
    },
    {
     "name": "stdout",
     "output_type": "stream",
     "text": [
      "37/37 [==============================] - 139s 4s/step - loss: 1.5191 - val_loss: 1.5127\n",
      "Epoch 35/200\n",
      "37/37 [==============================] - ETA: 0s - loss: 1.5191\n",
      "Epoch 35: saving model to ./MyModel2_tf\n"
     ]
    },
    {
     "name": "stderr",
     "output_type": "stream",
     "text": [
      "WARNING:absl:Found untraced functions such as lstm_cell_layer_call_fn, lstm_cell_layer_call_and_return_conditional_losses, lstm_cell_1_layer_call_fn, lstm_cell_1_layer_call_and_return_conditional_losses, lstm_cell_2_layer_call_fn while saving (showing 5 of 6). These functions will not be directly callable after loading.\n"
     ]
    },
    {
     "name": "stdout",
     "output_type": "stream",
     "text": [
      "INFO:tensorflow:Assets written to: ./MyModel2_tf/assets\n"
     ]
    },
    {
     "name": "stderr",
     "output_type": "stream",
     "text": [
      "INFO:tensorflow:Assets written to: ./MyModel2_tf/assets\n"
     ]
    },
    {
     "name": "stdout",
     "output_type": "stream",
     "text": [
      "37/37 [==============================] - 148s 4s/step - loss: 1.5191 - val_loss: 1.5127\n",
      "Epoch 36/200\n",
      "37/37 [==============================] - ETA: 0s - loss: 1.5191\n",
      "Epoch 36: saving model to ./MyModel2_tf\n"
     ]
    },
    {
     "name": "stderr",
     "output_type": "stream",
     "text": [
      "WARNING:absl:Found untraced functions such as lstm_cell_layer_call_fn, lstm_cell_layer_call_and_return_conditional_losses, lstm_cell_1_layer_call_fn, lstm_cell_1_layer_call_and_return_conditional_losses, lstm_cell_2_layer_call_fn while saving (showing 5 of 6). These functions will not be directly callable after loading.\n"
     ]
    },
    {
     "name": "stdout",
     "output_type": "stream",
     "text": [
      "INFO:tensorflow:Assets written to: ./MyModel2_tf/assets\n"
     ]
    },
    {
     "name": "stderr",
     "output_type": "stream",
     "text": [
      "INFO:tensorflow:Assets written to: ./MyModel2_tf/assets\n"
     ]
    },
    {
     "name": "stdout",
     "output_type": "stream",
     "text": [
      "37/37 [==============================] - 148s 4s/step - loss: 1.5191 - val_loss: 1.5127\n",
      "Epoch 37/200\n",
      "37/37 [==============================] - ETA: 0s - loss: 1.5191\n",
      "Epoch 37: saving model to ./MyModel2_tf\n"
     ]
    },
    {
     "name": "stderr",
     "output_type": "stream",
     "text": [
      "WARNING:absl:Found untraced functions such as lstm_cell_layer_call_fn, lstm_cell_layer_call_and_return_conditional_losses, lstm_cell_1_layer_call_fn, lstm_cell_1_layer_call_and_return_conditional_losses, lstm_cell_2_layer_call_fn while saving (showing 5 of 6). These functions will not be directly callable after loading.\n"
     ]
    },
    {
     "name": "stdout",
     "output_type": "stream",
     "text": [
      "INFO:tensorflow:Assets written to: ./MyModel2_tf/assets\n"
     ]
    },
    {
     "name": "stderr",
     "output_type": "stream",
     "text": [
      "INFO:tensorflow:Assets written to: ./MyModel2_tf/assets\n"
     ]
    },
    {
     "name": "stdout",
     "output_type": "stream",
     "text": [
      "37/37 [==============================] - 149s 4s/step - loss: 1.5191 - val_loss: 1.5127\n",
      "Epoch 38/200\n",
      "37/37 [==============================] - ETA: 0s - loss: 1.5191\n",
      "Epoch 38: saving model to ./MyModel2_tf\n"
     ]
    },
    {
     "name": "stderr",
     "output_type": "stream",
     "text": [
      "WARNING:absl:Found untraced functions such as lstm_cell_layer_call_fn, lstm_cell_layer_call_and_return_conditional_losses, lstm_cell_1_layer_call_fn, lstm_cell_1_layer_call_and_return_conditional_losses, lstm_cell_2_layer_call_fn while saving (showing 5 of 6). These functions will not be directly callable after loading.\n"
     ]
    },
    {
     "name": "stdout",
     "output_type": "stream",
     "text": [
      "INFO:tensorflow:Assets written to: ./MyModel2_tf/assets\n"
     ]
    },
    {
     "name": "stderr",
     "output_type": "stream",
     "text": [
      "INFO:tensorflow:Assets written to: ./MyModel2_tf/assets\n"
     ]
    },
    {
     "name": "stdout",
     "output_type": "stream",
     "text": [
      "37/37 [==============================] - 142s 4s/step - loss: 1.5191 - val_loss: 1.5127\n",
      "Epoch 39/200\n",
      "37/37 [==============================] - ETA: 0s - loss: 1.5191\n",
      "Epoch 39: saving model to ./MyModel2_tf\n"
     ]
    },
    {
     "name": "stderr",
     "output_type": "stream",
     "text": [
      "WARNING:absl:Found untraced functions such as lstm_cell_layer_call_fn, lstm_cell_layer_call_and_return_conditional_losses, lstm_cell_1_layer_call_fn, lstm_cell_1_layer_call_and_return_conditional_losses, lstm_cell_2_layer_call_fn while saving (showing 5 of 6). These functions will not be directly callable after loading.\n"
     ]
    },
    {
     "name": "stdout",
     "output_type": "stream",
     "text": [
      "INFO:tensorflow:Assets written to: ./MyModel2_tf/assets\n"
     ]
    },
    {
     "name": "stderr",
     "output_type": "stream",
     "text": [
      "INFO:tensorflow:Assets written to: ./MyModel2_tf/assets\n"
     ]
    },
    {
     "name": "stdout",
     "output_type": "stream",
     "text": [
      "37/37 [==============================] - 134s 4s/step - loss: 1.5191 - val_loss: 1.5127\n",
      "Epoch 40/200\n",
      "37/37 [==============================] - ETA: 0s - loss: 1.5191\n",
      "Epoch 40: saving model to ./MyModel2_tf\n"
     ]
    },
    {
     "name": "stderr",
     "output_type": "stream",
     "text": [
      "WARNING:absl:Found untraced functions such as lstm_cell_layer_call_fn, lstm_cell_layer_call_and_return_conditional_losses, lstm_cell_1_layer_call_fn, lstm_cell_1_layer_call_and_return_conditional_losses, lstm_cell_2_layer_call_fn while saving (showing 5 of 6). These functions will not be directly callable after loading.\n"
     ]
    },
    {
     "name": "stdout",
     "output_type": "stream",
     "text": [
      "INFO:tensorflow:Assets written to: ./MyModel2_tf/assets\n"
     ]
    },
    {
     "name": "stderr",
     "output_type": "stream",
     "text": [
      "INFO:tensorflow:Assets written to: ./MyModel2_tf/assets\n"
     ]
    },
    {
     "name": "stdout",
     "output_type": "stream",
     "text": [
      "37/37 [==============================] - 139s 4s/step - loss: 1.5191 - val_loss: 1.5127\n",
      "Epoch 41/200\n",
      "37/37 [==============================] - ETA: 0s - loss: 1.5191\n",
      "Epoch 41: saving model to ./MyModel2_tf\n"
     ]
    },
    {
     "name": "stderr",
     "output_type": "stream",
     "text": [
      "WARNING:absl:Found untraced functions such as lstm_cell_layer_call_fn, lstm_cell_layer_call_and_return_conditional_losses, lstm_cell_1_layer_call_fn, lstm_cell_1_layer_call_and_return_conditional_losses, lstm_cell_2_layer_call_fn while saving (showing 5 of 6). These functions will not be directly callable after loading.\n"
     ]
    },
    {
     "name": "stdout",
     "output_type": "stream",
     "text": [
      "INFO:tensorflow:Assets written to: ./MyModel2_tf/assets\n"
     ]
    },
    {
     "name": "stderr",
     "output_type": "stream",
     "text": [
      "INFO:tensorflow:Assets written to: ./MyModel2_tf/assets\n"
     ]
    },
    {
     "name": "stdout",
     "output_type": "stream",
     "text": [
      "37/37 [==============================] - 149s 4s/step - loss: 1.5191 - val_loss: 1.5127\n",
      "Epoch 42/200\n",
      "37/37 [==============================] - ETA: 0s - loss: 1.5191\n",
      "Epoch 42: saving model to ./MyModel2_tf\n"
     ]
    },
    {
     "name": "stderr",
     "output_type": "stream",
     "text": [
      "WARNING:absl:Found untraced functions such as lstm_cell_layer_call_fn, lstm_cell_layer_call_and_return_conditional_losses, lstm_cell_1_layer_call_fn, lstm_cell_1_layer_call_and_return_conditional_losses, lstm_cell_2_layer_call_fn while saving (showing 5 of 6). These functions will not be directly callable after loading.\n"
     ]
    },
    {
     "name": "stdout",
     "output_type": "stream",
     "text": [
      "INFO:tensorflow:Assets written to: ./MyModel2_tf/assets\n"
     ]
    },
    {
     "name": "stderr",
     "output_type": "stream",
     "text": [
      "INFO:tensorflow:Assets written to: ./MyModel2_tf/assets\n"
     ]
    },
    {
     "name": "stdout",
     "output_type": "stream",
     "text": [
      "37/37 [==============================] - 148s 4s/step - loss: 1.5191 - val_loss: 1.5127\n",
      "Epoch 43/200\n",
      "37/37 [==============================] - ETA: 0s - loss: 1.5191\n",
      "Epoch 43: saving model to ./MyModel2_tf\n"
     ]
    },
    {
     "name": "stderr",
     "output_type": "stream",
     "text": [
      "WARNING:absl:Found untraced functions such as lstm_cell_layer_call_fn, lstm_cell_layer_call_and_return_conditional_losses, lstm_cell_1_layer_call_fn, lstm_cell_1_layer_call_and_return_conditional_losses, lstm_cell_2_layer_call_fn while saving (showing 5 of 6). These functions will not be directly callable after loading.\n"
     ]
    },
    {
     "name": "stdout",
     "output_type": "stream",
     "text": [
      "INFO:tensorflow:Assets written to: ./MyModel2_tf/assets\n"
     ]
    },
    {
     "name": "stderr",
     "output_type": "stream",
     "text": [
      "INFO:tensorflow:Assets written to: ./MyModel2_tf/assets\n"
     ]
    },
    {
     "name": "stdout",
     "output_type": "stream",
     "text": [
      "37/37 [==============================] - 145s 4s/step - loss: 1.5191 - val_loss: 1.5127\n",
      "Epoch 44/200\n",
      "37/37 [==============================] - ETA: 0s - loss: 1.5191\n",
      "Epoch 44: saving model to ./MyModel2_tf\n"
     ]
    },
    {
     "name": "stderr",
     "output_type": "stream",
     "text": [
      "WARNING:absl:Found untraced functions such as lstm_cell_layer_call_fn, lstm_cell_layer_call_and_return_conditional_losses, lstm_cell_1_layer_call_fn, lstm_cell_1_layer_call_and_return_conditional_losses, lstm_cell_2_layer_call_fn while saving (showing 5 of 6). These functions will not be directly callable after loading.\n"
     ]
    },
    {
     "name": "stdout",
     "output_type": "stream",
     "text": [
      "INFO:tensorflow:Assets written to: ./MyModel2_tf/assets\n"
     ]
    },
    {
     "name": "stderr",
     "output_type": "stream",
     "text": [
      "INFO:tensorflow:Assets written to: ./MyModel2_tf/assets\n"
     ]
    },
    {
     "name": "stdout",
     "output_type": "stream",
     "text": [
      "37/37 [==============================] - 143s 4s/step - loss: 1.5191 - val_loss: 1.5127\n",
      "Epoch 45/200\n",
      "37/37 [==============================] - ETA: 0s - loss: 1.5191\n",
      "Epoch 45: saving model to ./MyModel2_tf\n"
     ]
    },
    {
     "name": "stderr",
     "output_type": "stream",
     "text": [
      "WARNING:absl:Found untraced functions such as lstm_cell_layer_call_fn, lstm_cell_layer_call_and_return_conditional_losses, lstm_cell_1_layer_call_fn, lstm_cell_1_layer_call_and_return_conditional_losses, lstm_cell_2_layer_call_fn while saving (showing 5 of 6). These functions will not be directly callable after loading.\n"
     ]
    },
    {
     "name": "stdout",
     "output_type": "stream",
     "text": [
      "INFO:tensorflow:Assets written to: ./MyModel2_tf/assets\n"
     ]
    },
    {
     "name": "stderr",
     "output_type": "stream",
     "text": [
      "INFO:tensorflow:Assets written to: ./MyModel2_tf/assets\n"
     ]
    },
    {
     "name": "stdout",
     "output_type": "stream",
     "text": [
      "37/37 [==============================] - 134s 4s/step - loss: 1.5191 - val_loss: 1.5127\n",
      "Epoch 46/200\n",
      "37/37 [==============================] - ETA: 0s - loss: 1.5191\n",
      "Epoch 46: saving model to ./MyModel2_tf\n"
     ]
    },
    {
     "name": "stderr",
     "output_type": "stream",
     "text": [
      "WARNING:absl:Found untraced functions such as lstm_cell_layer_call_fn, lstm_cell_layer_call_and_return_conditional_losses, lstm_cell_1_layer_call_fn, lstm_cell_1_layer_call_and_return_conditional_losses, lstm_cell_2_layer_call_fn while saving (showing 5 of 6). These functions will not be directly callable after loading.\n"
     ]
    },
    {
     "name": "stdout",
     "output_type": "stream",
     "text": [
      "INFO:tensorflow:Assets written to: ./MyModel2_tf/assets\n"
     ]
    },
    {
     "name": "stderr",
     "output_type": "stream",
     "text": [
      "INFO:tensorflow:Assets written to: ./MyModel2_tf/assets\n"
     ]
    },
    {
     "name": "stdout",
     "output_type": "stream",
     "text": [
      "37/37 [==============================] - 134s 4s/step - loss: 1.5191 - val_loss: 1.5127\n",
      "Epoch 47/200\n",
      "37/37 [==============================] - ETA: 0s - loss: 1.5191\n",
      "Epoch 47: saving model to ./MyModel2_tf\n"
     ]
    },
    {
     "name": "stderr",
     "output_type": "stream",
     "text": [
      "WARNING:absl:Found untraced functions such as lstm_cell_layer_call_fn, lstm_cell_layer_call_and_return_conditional_losses, lstm_cell_1_layer_call_fn, lstm_cell_1_layer_call_and_return_conditional_losses, lstm_cell_2_layer_call_fn while saving (showing 5 of 6). These functions will not be directly callable after loading.\n"
     ]
    },
    {
     "name": "stdout",
     "output_type": "stream",
     "text": [
      "INFO:tensorflow:Assets written to: ./MyModel2_tf/assets\n"
     ]
    },
    {
     "name": "stderr",
     "output_type": "stream",
     "text": [
      "INFO:tensorflow:Assets written to: ./MyModel2_tf/assets\n"
     ]
    },
    {
     "name": "stdout",
     "output_type": "stream",
     "text": [
      "37/37 [==============================] - 147s 4s/step - loss: 1.5191 - val_loss: 1.5127\n",
      "Epoch 48/200\n",
      "37/37 [==============================] - ETA: 0s - loss: 1.5191\n",
      "Epoch 48: saving model to ./MyModel2_tf\n"
     ]
    },
    {
     "name": "stderr",
     "output_type": "stream",
     "text": [
      "WARNING:absl:Found untraced functions such as lstm_cell_layer_call_fn, lstm_cell_layer_call_and_return_conditional_losses, lstm_cell_1_layer_call_fn, lstm_cell_1_layer_call_and_return_conditional_losses, lstm_cell_2_layer_call_fn while saving (showing 5 of 6). These functions will not be directly callable after loading.\n"
     ]
    },
    {
     "name": "stdout",
     "output_type": "stream",
     "text": [
      "INFO:tensorflow:Assets written to: ./MyModel2_tf/assets\n"
     ]
    },
    {
     "name": "stderr",
     "output_type": "stream",
     "text": [
      "INFO:tensorflow:Assets written to: ./MyModel2_tf/assets\n"
     ]
    },
    {
     "name": "stdout",
     "output_type": "stream",
     "text": [
      "37/37 [==============================] - 149s 4s/step - loss: 1.5191 - val_loss: 1.5127\n",
      "Epoch 49/200\n",
      "37/37 [==============================] - ETA: 0s - loss: 1.5191\n",
      "Epoch 49: saving model to ./MyModel2_tf\n"
     ]
    },
    {
     "name": "stderr",
     "output_type": "stream",
     "text": [
      "WARNING:absl:Found untraced functions such as lstm_cell_layer_call_fn, lstm_cell_layer_call_and_return_conditional_losses, lstm_cell_1_layer_call_fn, lstm_cell_1_layer_call_and_return_conditional_losses, lstm_cell_2_layer_call_fn while saving (showing 5 of 6). These functions will not be directly callable after loading.\n"
     ]
    },
    {
     "name": "stdout",
     "output_type": "stream",
     "text": [
      "INFO:tensorflow:Assets written to: ./MyModel2_tf/assets\n"
     ]
    },
    {
     "name": "stderr",
     "output_type": "stream",
     "text": [
      "INFO:tensorflow:Assets written to: ./MyModel2_tf/assets\n"
     ]
    },
    {
     "name": "stdout",
     "output_type": "stream",
     "text": [
      "37/37 [==============================] - 148s 4s/step - loss: 1.5191 - val_loss: 1.5127\n",
      "Epoch 49: early stopping\n"
     ]
    }
   ],
   "source": [
    "history = model.fit([x_train_final,y_train_final[:, :-1]], y_train_final.reshape(y_train_final.shape[0],y_train_final.shape[1], 1)[:, 1:],epochs=200,callbacks=[es],batch_size=128, validation_data=([x_val_final,y_val_final[:, :-1]], y_val_final.reshape(y_val_final.shape[0],y_val_final.shape[1], 1)[:, 1:]))"
   ]
  },
  {
   "cell_type": "code",
   "execution_count": 253,
   "id": "e4bbcca2",
   "metadata": {
    "scrolled": true
   },
   "outputs": [
    {
     "data": {
      "text/plain": [
       "{'loss': [1.698223352432251,\n",
       "  1.5697880983352661,\n",
       "  1.5641767978668213,\n",
       "  1.5620816946029663,\n",
       "  1.5126267671585083,\n",
       "  1.5125503540039062,\n",
       "  1.5125476121902466],\n",
       " 'val_loss': [1.5956496000289917,\n",
       "  1.5820037126541138,\n",
       "  1.5817384719848633,\n",
       "  1.530390739440918,\n",
       "  1.529829502105713,\n",
       "  1.529823660850525,\n",
       "  1.5298227071762085]}"
      ]
     },
     "execution_count": 253,
     "metadata": {},
     "output_type": "execute_result"
    }
   ],
   "source": [
    "#history.history"
   ]
  },
  {
   "cell_type": "code",
   "execution_count": 80,
   "id": "76165852",
   "metadata": {
    "scrolled": true
   },
   "outputs": [
    {
     "name": "stderr",
     "output_type": "stream",
     "text": [
      "WARNING:absl:Found untraced functions such as lstm_cell_layer_call_fn, lstm_cell_layer_call_and_return_conditional_losses, lstm_cell_1_layer_call_fn, lstm_cell_1_layer_call_and_return_conditional_losses, lstm_cell_2_layer_call_fn while saving (showing 5 of 6). These functions will not be directly callable after loading.\n"
     ]
    },
    {
     "name": "stdout",
     "output_type": "stream",
     "text": [
      "INFO:tensorflow:Assets written to: saved_models/rkv_LSTM_model_200_epochs/assets\n"
     ]
    },
    {
     "name": "stderr",
     "output_type": "stream",
     "text": [
      "INFO:tensorflow:Assets written to: saved_models/rkv_LSTM_model_200_epochs/assets\n"
     ]
    }
   ],
   "source": [
    "#saving the entire model once training is completed.\n",
    "model.save('saved_models/rkv_LSTM_model_200_epochs')"
   ]
  },
  {
   "cell_type": "code",
   "execution_count": 81,
   "id": "13d7403e",
   "metadata": {
    "scrolled": true
   },
   "outputs": [
    {
     "data": {
      "image/png": "[encoded data removed]",
      "text/plain": [
       "<Figure size 640x480 with 1 Axes>"
      ]
     },
     "metadata": {},
     "output_type": "display_data"
    },
    {
     "data": {
      "text/plain": [
       "<Figure size 640x480 with 0 Axes>"
      ]
     },
     "metadata": {},
     "output_type": "display_data"
    }
   ],
   "source": [
    "from matplotlib import pyplot\n",
    "pyplot.plot(history.history['loss'], label='train')\n",
    "pyplot.plot(history.history['val_loss'], label='test')\n",
    "pyplot.legend()\n",
    "pyplot.show()\n",
    "pyplot.savefig('rkv_LSTM_loss and val_loss.png')"
   ]
  },
  {
   "cell_type": "code",
   "execution_count": null,
   "id": "241fc1cd",
   "metadata": {},
   "outputs": [],
   "source": [
    "from tensorflow.keras.models import load_model"
   ]
  },
  {
   "cell_type": "code",
   "execution_count": 99,
   "id": "d9cd761e",
   "metadata": {
    "scrolled": true
   },
   "outputs": [],
   "source": [
    "reloaded_model = load_model('saved_models/rkv_LSTM_model_att_augm')"
   ]
  },
  {
   "cell_type": "code",
   "execution_count": 82,
   "id": "725f4beb",
   "metadata": {},
   "outputs": [],
   "source": [
    "reverse_target_word_index=y_tokenizer.index_word\n",
    "reverse_source_word_index=x_tokenizer.index_word\n",
    "target_word_index=y_tokenizer.word_index"
   ]
  },
  {
   "cell_type": "code",
   "execution_count": 83,
   "id": "39342033",
   "metadata": {},
   "outputs": [],
   "source": [
    "encoder_model = Model(inputs=encoder_inputs,outputs=[encoder_outputs_1, state_h1, state_c1])\n",
    "\n",
    "# Decoder setup\n",
    "# Below tensors will hold the states of the previous time step\n",
    "decoder_state_input_h = Input(shape=(hidden_dim,))\n",
    "decoder_state_input_c = Input(shape=(hidden_dim,))\n",
    "decoder_hidden_state_input = Input(shape=(max_text_length,hidden_dim))\n",
    "\n",
    "# Get the embeddings of the decoder sequence\n",
    "dec_emb2= dec_emb_layer(decoder_inputs) \n",
    "# To predict the next word in the sequence, set the initial states to the states from the previous time step\n",
    "decoder_outputs2, state_h2, state_c2 = decoder_LSTM(dec_emb2, initial_state=[decoder_state_input_h, decoder_state_input_c])\n",
    "\n",
    "#attention inference\n",
    "attn_out_inf, attn_states_inf = attn_layer([decoder_hidden_state_input, decoder_outputs2])\n",
    "decoder_inf_concat = Concatenate(axis=-1, name='concat')([decoder_outputs2, attn_out_inf])\n",
    "\n",
    "# A dense softmax layer to generate prob dist. over the target vocabulary\n",
    "decoder_outputs3 = decoder_dense(decoder_inf_concat) \n",
    "\n",
    "# Final decoder model\n",
    "decoder_model = Model(\n",
    "    [decoder_inputs] + [decoder_hidden_state_input,decoder_state_input_h, decoder_state_input_c],\n",
    "    [decoder_outputs3] + [state_h2, state_c2])"
   ]
  },
  {
   "cell_type": "code",
   "execution_count": 84,
   "id": "26eccef3",
   "metadata": {},
   "outputs": [],
   "source": [
    "def decode_sequence(input_seq):\n",
    "    e_out, e_h, e_c = encoder_model.predict(input_seq)\n",
    "    target_seq = np.zeros((1,1))\n",
    "    target_seq[0, 0] = target_word_index['<BOS>']\n",
    "\n",
    "    stop_condition = False\n",
    "    decoded_sentence = ''\n",
    "    while not stop_condition:\n",
    "      \n",
    "        output_tokens, h, c = decoder_model.predict([target_seq] + [e_out, e_h, e_c])\n",
    "\n",
    "        sampled_token_index = np.argmax(output_tokens[0, -1, :])\n",
    "        sampled_token = reverse_target_word_index[sampled_token_index]\n",
    "        \n",
    "        if(sampled_token!='<EOS>'):\n",
    "            decoded_sentence += ' '+sampled_token\n",
    "\n",
    "        if (sampled_token == '<EOS>'  or len(decoded_sentence.split()) >= (max_summary_len-1)):\n",
    "            stop_condition = True\n",
    "\n",
    "        target_seq = np.zeros((1,1))\n",
    "        target_seq[0, 0] = sampled_token_index\n",
    "\n",
    "        e_h, e_c = h, c\n",
    "\n",
    "    return decoded_sentence"
   ]
  },
  {
   "cell_type": "code",
   "execution_count": 85,
   "id": "c1eeb6e4",
   "metadata": {},
   "outputs": [],
   "source": [
    "def seq2summary(input_seq):\n",
    "    newString=''\n",
    "    for i in input_seq:\n",
    "        if((i!=0 and i!=target_word_index['bos']) and i!=target_word_index['eos']):\n",
    "            newString=newString+reverse_target_word_index[i]+' '\n",
    "    return newString\n",
    "\n",
    "def seq2transcript(input_seq):\n",
    "    newString=''\n",
    "    for i in input_seq:\n",
    "        if(i!=0):\n",
    "            newString=newString+reverse_source_word_index[i]+' '\n",
    "    return newString"
   ]
  },
  {
   "cell_type": "code",
   "execution_count": 86,
   "id": "20356d84",
   "metadata": {},
   "outputs": [],
   "source": [
    "orig_dataset = pd.read_csv('mtsamples.csv')\n",
    "orig_dataset.drop(\"Unnamed: 0\", axis = 1, inplace=True)\n",
    "orig_dataset.drop(\"keywords\", axis = 1, inplace=True)\n",
    "orig_dataset.drop_duplicates()\n",
    "orig_dataset.dropna(axis = 0, inplace = True)"
   ]
  },
  {
   "cell_type": "code",
   "execution_count": 89,
   "id": "3b08e677",
   "metadata": {},
   "outputs": [
    {
     "data": {
      "text/plain": [
       "{'rouge1': AggregateScore(low=Score(precision=0.0186653790452829, recall=0.014767661845333168, fmeasure=0.014132335358691465), mid=Score(precision=0.02027889747730399, recall=0.016004910666841874, fmeasure=0.015231541170179053), high=Score(precision=0.021905847691840723, recall=0.017195152099272908, fmeasure=0.016359652404303145)),\n",
       " 'rouge2': AggregateScore(low=Score(precision=0.001193935118379319, recall=0.0007830915415413423, fmeasure=0.0008570537857013891), mid=Score(precision=0.001643076967285829, recall=0.0011204289542379735, fmeasure=0.0011949642040776907), high=Score(precision=0.0021854180535483348, recall=0.0015185388070481005, fmeasure=0.001588781558792643)),\n",
       " 'rougeL': AggregateScore(low=Score(precision=0.018141762053929804, recall=0.014193449463388451, fmeasure=0.013602756326093327), mid=Score(precision=0.019655978218299168, recall=0.015385931541428866, fmeasure=0.01467898444930019), high=Score(precision=0.021164787207098752, recall=0.016620346545119763, fmeasure=0.01580999279130362)),\n",
       " 'rougeLsum': AggregateScore(low=Score(precision=0.018229791743529764, recall=0.014216669207494056, fmeasure=0.013630930172462714), mid=Score(precision=0.01962397787719177, recall=0.015389230317468491, fmeasure=0.014678829830571359), high=Score(precision=0.021234658010597332, recall=0.016703366495234566, fmeasure=0.015859268223227238))}"
      ]
     },
     "execution_count": 89,
     "metadata": {},
     "output_type": "execute_result"
    }
   ],
   "source": [
    "from datasets import load_metric\n",
    "import csv\n",
    "\n",
    "metric = load_metric(\"rouge\")\n",
    "data1 = pd.read_csv(\"mtsamples.csv\") \n",
    "\n",
    "transcriptions = []\n",
    "actual_summaries = []\n",
    "predicted_summaries = []\n",
    "\n",
    "transcriptions.append('transcription')\n",
    "actual_summaries.append('actual_summaries')\n",
    "predicted_summaries.append('predicted_summaries')\n",
    "\n",
    "for i in range(len(y_train_final)):\n",
    "    transcription_data = data1['transcription'][i]\n",
    "    transcriptions.append(data1['transcription'][i])\n",
    "    predicted_summaries.append(seq2summary(y_train_final[i]))\n",
    "    \n",
    "    actual_summaries.append(data1['description'][i])\n",
    "\n",
    "rows = zip(transcriptions, actual_summaries, predicted_summaries)\n",
    "\n",
    "with open('mtsamples_output.csv', \"w\") as f:\n",
    "    writer = csv.writer(f)\n",
    "    for row in rows:\n",
    "        writer.writerow(row)\n",
    "\n",
    "metric.compute(predictions=predicted_summaries, references=actual_summaries)\n",
    "\n",
    "# for i in range(len(y_tr)):\n",
    "#     print(seq2summary(y_tr[i]))"
   ]
  },
  {
   "cell_type": "code",
   "execution_count": 90,
   "id": "5062d041",
   "metadata": {
    "scrolled": true
   },
   "outputs": [
    {
     "name": "stdout",
     "output_type": "stream",
     "text": [
      "original :   Consult for laparoscopic gastric bypass.\n",
      "predicted :  patient reoccurring ingrown infected toenails \n"
     ]
    }
   ],
   "source": [
    "print(\"original : \", actual_summaries[3])\n",
    "print(\"predicted : \", predicted_summaries[3])"
   ]
  },
  {
   "cell_type": "code",
   "execution_count": 91,
   "id": "8e2a9e9d",
   "metadata": {},
   "outputs": [
    {
     "name": "stdout",
     "output_type": "stream",
     "text": [
      "original :   2-D Echocardiogram\n",
      "predicted :  patient referred hospitalized eventually diagnosed conversion disorder \n"
     ]
    }
   ],
   "source": [
    "print(\"original : \", actual_summaries[5])\n",
    "print(\"predicted : \", predicted_summaries[5])"
   ]
  },
  {
   "cell_type": "code",
   "execution_count": 92,
   "id": "8cfd5503",
   "metadata": {},
   "outputs": [
    {
     "name": "stdout",
     "output_type": "stream",
     "text": [
      "original :  actual_summaries\n",
      "predicted :  predicted_summaries\n",
      "\n",
      "\n",
      "original :   A 23-year-old white female presents with complaint of allergies.\n",
      "predicted :  degenerative disk disease l4 l5 l5 s1 anterior exposure diskectomy fusion l4 l5 l5 s1 \n",
      "\n",
      "\n",
      "original :   Consult for laparoscopic gastric bypass.\n",
      "predicted :  left c5 6 hemilaminotomy foraminotomy medial facetectomy microscopic decompression nerve root \n",
      "\n",
      "\n",
      "original :   Consult for laparoscopic gastric bypass.\n",
      "predicted :  patient reoccurring ingrown infected toenails \n",
      "\n",
      "\n",
      "original :   2-D M-Mode. Doppler.  \n",
      "predicted :  common excretory urogram ivp template \n",
      "\n",
      "\n",
      "original :   2-D Echocardiogram\n",
      "predicted :  patient referred hospitalized eventually diagnosed conversion disorder \n",
      "\n",
      "\n",
      "original :   Morbid obesity.  Laparoscopic antecolic antegastric Roux-en-Y gastric bypass with EEA anastomosis.  This is a 30-year-old female, who has been overweight for many years.  She has tried many different diets, but is unsuccessful. \n",
      "predicted :  patient markedly abnormal stress test severe chest pain 5 minutes exercise standard bruce horizontal st depressions moderate apical ischemia stress imaging only \n",
      "\n",
      "\n",
      "original :   Liposuction of the supraumbilical abdomen, revision of right breast reconstruction, excision of soft tissue fullness of the lateral abdomen and flank.\r\n",
      "\n",
      "predicted :  nurse history breast cancer enrolled clinical trial c40502 previous treatments included zometa faslodex aromasin found disease progression first noted rising tumor markers \n",
      "\n",
      "\n",
      "original :   2-D Echocardiogram\n",
      "predicted :  blunt trauma distal right thumb without fracture worker’s compensation injury \n",
      "\n",
      "\n",
      "original :   Suction-assisted lipectomy - lipodystrophy of the abdomen and thighs.\n",
      "predicted :  autopsy ligature strangulation craniocerebral injuries \n",
      "\n",
      "\n",
      "original :   Echocardiogram and Doppler\n",
      "predicted :  followup 4 months status post percutaneous screw fixation right schatzker iv tibial plateau fracture second fifth metatarsal head fractures treated nonoperatively \n",
      "\n",
      "\n",
      "original :   Morbid obesity.  Laparoscopic Roux-en-Y gastric bypass, antecolic, antegastric with 25-mm EEA anastamosis, esophagogastroduodenoscopy.\n",
      "predicted :  lady admitted hospital chest pain respiratory insufficiency chronic lung disease bronchospastic angina \n",
      "\n",
      "\n",
      "original :   Normal left ventricle, moderate biatrial enlargement, and mild tricuspid regurgitation, but only mild increase in right heart pressures.\n",
      "predicted :  ophthalmology followup visit note \n",
      "\n",
      "\n",
      "original :   Cerebral Angiogram - moyamoya disease.\n",
      "predicted :  lumbar puncture 20 gauge spinal needle inserted l3 l4 space attempt successful first try several mls clear colorless csf obtained \n",
      "\n",
      "\n",
      "original :   Patient presented to the bariatric surgery service for consideration of laparoscopic roux en Y gastric bypass surgery. \n",
      "predicted :  left thoracoscopy left thoracotomy declaudication drainage lung abscesses multiple biopsies pleura lung \n",
      "\n",
      "\n",
      "original :    Surgical removal of completely bony impacted teeth #1, #16, #17, and #32.  Completely bony impacted teeth #1, #16, #17, and #32.\n",
      "predicted :  bilateral carotid cerebral angiogram right femoral popliteal angiogram \n",
      "\n",
      "\n",
      "original :   Preoperative visit for weight management with laparoscopic gastric banding\n",
      "predicted :  complete laminectomy l4 facetectomy l3 l4 level dural repair right sided lateral sheath subarticular recess l4 pedicle level posterior spinal instrumentation l4 s1 using synthes pangea system posterior spinal fusion l4 s1 insertion morselized autograft l4 s1 \n",
      "\n",
      "\n",
      "original :   Neck exploration; tracheostomy; urgent flexible bronchoscopy via tracheostomy site; removal of foreign body, tracheal metallic stent material; dilation distal trachea; placement of #8 Shiley single cannula tracheostomy tube.\n",
      "predicted :  bilateral renal ultrasound \n",
      "\n",
      "\n",
      "original :   Patient status post lap band placement.\n",
      "predicted :  evaluation possible tethered cord underwent lipomyomeningocele repair 3 days age 3 1 2 years age \n",
      "\n",
      "\n",
      "original :   Fertile male with completed family.  Elective male sterilization via bilateral vasectomy.\n",
      "predicted :  tracheostomy change 6 shiley proximal extension changed 6 shiley proximal extension ventilator dependent respiratory failure laryngeal edema \n",
      "\n",
      "\n",
      "original :   The patient is a 17-year-old female, who presents to the emergency room with foreign body and airway compromise and was taken to the operating room.  She was intubated and fishbone.\n",
      "predicted :  mri left shoulder \n",
      "\n",
      "\n",
      "original :   Whole body radionuclide bone scan due to prostate cancer.\n",
      "predicted :  patient morbid obesity \n",
      "\n",
      "\n",
      "original :   Patient discharged after laparoscopic Roux-en-Y gastric bypass.\n",
      "predicted :  chronic headaches pulsatile tinnitus \n",
      "\n",
      "\n",
      "original :   Normal vasectomy\n",
      "predicted :  macular edema right eye insertion radioactive plaque right eye lateral canthotomy plaque positioned scleral surface immediately behind macula secured two sutures 5 0 dacron placement confirmed indirect ophthalmoscopy \n",
      "\n",
      "\n",
      "original :   Voluntary sterility.  Bilateral vasectomy.  The vas deferens was grasped with a vas clamp.  Next, the vas deferens was skeletonized.  It was clipped proximally and distally twice. \n",
      "predicted :  mri t spine cxr aortic dissection \n",
      "\n",
      "\n"
     ]
    }
   ],
   "source": [
    "for i in range(25):\n",
    "    print(\"original : \", actual_summaries[i])\n",
    "    print(\"predicted : \", predicted_summaries[i])\n",
    "    print(\"\\n\")"
   ]
  },
  {
   "cell_type": "markdown",
   "id": "9f961b18",
   "metadata": {},
   "source": [
    "### Terrible results. While the model seems to generate sentences that are \"grammatically\" correct (e.g. a lady admitted with chest pain) appears to have chronic lung disease, reoccuring ingrown infected toenails, etc., they have almost no similarity to the original summary.\n",
    "\n",
    "### Abstractive Text Summarization is not well-suited for practical applications on this dataset where the model shouldn't be a"
   ]
  }
 ],
 "metadata": {
  "kernelspec": {
   "display_name": "Python 3 (ipykernel)",
   "language": "python",
   "name": "python3"
  },
  "language_info": {
   "codemirror_mode": {
    "name": "ipython",
    "version": 3
   },
   "file_extension": ".py",
   "mimetype": "text/x-python",
   "name": "python",
   "nbconvert_exporter": "python",
   "pygments_lexer": "ipython3",
   "version": "3.9.7"
  }
 },
 "nbformat": 4,
 "nbformat_minor": 5
}
